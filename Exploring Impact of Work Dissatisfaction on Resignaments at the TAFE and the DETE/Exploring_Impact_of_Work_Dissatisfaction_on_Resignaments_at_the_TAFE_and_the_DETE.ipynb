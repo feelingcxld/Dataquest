{
 "cells": [
  {
   "cell_type": "markdown",
   "id": "6d2e410e",
   "metadata": {},
   "source": [
    "# Exploring Impact of Work Dissatisfaction on Resignments at the TAFE and the DETE"
   ]
  },
  {
   "cell_type": "markdown",
   "id": "11138c3d",
   "metadata": {},
   "source": [
    "## Table of Contents\n",
    "\n",
    "1. [**Introduction**](#introduction)\n",
    "\t- Project Description\n",
    "    - Data Description\n",
    "2. [**Acquiring and Loading Data**](#loading_data)\n",
    "3. [**Data Cleaning**](#data_cleaning)\n",
    "    - Dropping Redundant Columns\n",
    "    - Renaming Columns\n",
    "    - Dropping Redundant Rows\n",
    "    - Calculating DETE Institute Service\n",
    "    - Counting Dissatisfied Resignments\n",
    "    - Cleaning Age Columns\n",
    "    - Cleaning Institute Service Columns\n",
    "    - Creating Clean TAFE and DETE datasets\n",
    "    - Combining Datasets¶\n",
    "4. [**Data Analysis & Visualization**](#analysis)\n",
    "    - Resignations Due to Dissatisfaction by Career Stage\n",
    "    - Resignations Due to Dissatisfaction by Age Group\n",
    "    - Exploring Resignations Separately for TAFE and DETE Institutes\n",
    "5. [**Conclusion**](#conclusion)"
   ]
  },
  {
   "cell_type": "markdown",
   "id": "58c986fc",
   "metadata": {},
   "source": [
    "<a id='introduction'></a>\n",
    "# Introduction\n",
    "\n",
    "<div>\n",
    "<img src=\"attachment:tafe.jpg\" width=\"900\"/>\n",
    "</div>\n",
    "\n",
    "**Goal/Purpose:** The main goal of this project is to explore exit surveys from employees of the Department of Education, Training and Employment (DETE) and the Technical and Further Education (TAFE) institute to answer the following questions:\n",
    "\n",
    "- Are employees who only work for the institutes for a short period of time resigning due to some kind of dissatisfaction? What about employees who have been there longer?\n",
    "- Are younger employees resigning due to some kind of dissatisfaction? What about older employees?\n",
    "\n",
    "**Approach Taken/Methodology:** To achieve our goal we are going to clean our datasets, merge them together and explore it using charts.\n",
    "\n",
    "**Results:** One of our findings during the project was that 50% of employees who had worked at TAFE and DETE for more than 6 years resigned due to dissatisfaction.\n",
    "\n",
    "### Data Description\n",
    "**Content:** These datasets contain exit surveys of employees from DETE and TAFE institute in Queensland, Australia.\n",
    "\n",
    "Below is a preview of a couple columns we'll work with from the `dete_survey.csv`:\n",
    "\n",
    "- `ID`: An id used to identify the participant of the survey\n",
    "- `SeparationType`: The reason why the person's employment ended\n",
    "- `Cease Date`: The year or month the person's employment ended\n",
    "- `DETE Start Date`: The year the person began employment with the DETE\n",
    "\n",
    "Below is a preview of a couple columns we'll work with from the `tafe_survey.csv`:\n",
    "\n",
    "- `Record ID`: An id used to identify the participant of the survey\n",
    "- `Reason for ceasing employment`: The reason why the person's employment ended\n",
    "- `LengthofServiceOverall. Overall Length of Service at Institute (in years)`: The length of the person's employment (in years)"
   ]
  },
  {
   "cell_type": "markdown",
   "id": "5aff919e",
   "metadata": {},
   "source": [
    "<a id='loading_data'></a>\n",
    "# Acquiring and Loading Data"
   ]
  },
  {
   "cell_type": "code",
   "execution_count": 1,
   "id": "2d3c91f4",
   "metadata": {},
   "outputs": [],
   "source": [
    "# Data manipulation\n",
    "import pandas as pd\n",
    "import numpy as np\n",
    "\n",
    "# Visualizations\n",
    "import matplotlib.pyplot as plt\n",
    "import matplotlib.style as style\n",
    "%matplotlib inline"
   ]
  },
  {
   "cell_type": "markdown",
   "id": "a7b26586",
   "metadata": {},
   "source": [
    "Our starting point is to read two files and look at them more closely."
   ]
  },
  {
   "cell_type": "code",
   "execution_count": 2,
   "id": "d9db55db",
   "metadata": {},
   "outputs": [],
   "source": [
    "tafe = pd.read_csv('data/tafe_survey.csv')\n",
    "dete = pd.read_csv('data/dete_survey.csv', na_values='Not Stated')"
   ]
  },
  {
   "cell_type": "markdown",
   "id": "26ca2a59",
   "metadata": {},
   "source": [
    "Here's **TAFE exit survey** dataset."
   ]
  },
  {
   "cell_type": "code",
   "execution_count": 3,
   "id": "dc408406",
   "metadata": {},
   "outputs": [
    {
     "data": {
      "text/html": [
       "<div>\n",
       "<style scoped>\n",
       "    .dataframe tbody tr th:only-of-type {\n",
       "        vertical-align: middle;\n",
       "    }\n",
       "\n",
       "    .dataframe tbody tr th {\n",
       "        vertical-align: top;\n",
       "    }\n",
       "\n",
       "    .dataframe thead th {\n",
       "        text-align: right;\n",
       "    }\n",
       "</style>\n",
       "<table border=\"1\" class=\"dataframe\">\n",
       "  <thead>\n",
       "    <tr style=\"text-align: right;\">\n",
       "      <th></th>\n",
       "      <th>Record ID</th>\n",
       "      <th>Institute</th>\n",
       "      <th>WorkArea</th>\n",
       "      <th>CESSATION YEAR</th>\n",
       "      <th>Reason for ceasing employment</th>\n",
       "      <th>Contributing Factors. Career Move - Public Sector</th>\n",
       "      <th>Contributing Factors. Career Move - Private Sector</th>\n",
       "      <th>Contributing Factors. Career Move - Self-employment</th>\n",
       "      <th>Contributing Factors. Ill Health</th>\n",
       "      <th>Contributing Factors. Maternity/Family</th>\n",
       "      <th>...</th>\n",
       "      <th>Workplace. Topic:Does your workplace promote a work culture free from all forms of unlawful discrimination?</th>\n",
       "      <th>Workplace. Topic:Does your workplace promote and practice the principles of employment equity?</th>\n",
       "      <th>Workplace. Topic:Does your workplace value the diversity of its employees?</th>\n",
       "      <th>Workplace. Topic:Would you recommend the Institute as an employer to others?</th>\n",
       "      <th>Gender. What is your Gender?</th>\n",
       "      <th>CurrentAge. Current Age</th>\n",
       "      <th>Employment Type. Employment Type</th>\n",
       "      <th>Classification. Classification</th>\n",
       "      <th>LengthofServiceOverall. Overall Length of Service at Institute (in years)</th>\n",
       "      <th>LengthofServiceCurrent. Length of Service at current workplace (in years)</th>\n",
       "    </tr>\n",
       "  </thead>\n",
       "  <tbody>\n",
       "    <tr>\n",
       "      <th>0</th>\n",
       "      <td>6.341330e+17</td>\n",
       "      <td>Southern Queensland Institute of TAFE</td>\n",
       "      <td>Non-Delivery (corporate)</td>\n",
       "      <td>2010.0</td>\n",
       "      <td>Contract Expired</td>\n",
       "      <td>NaN</td>\n",
       "      <td>NaN</td>\n",
       "      <td>NaN</td>\n",
       "      <td>NaN</td>\n",
       "      <td>NaN</td>\n",
       "      <td>...</td>\n",
       "      <td>Yes</td>\n",
       "      <td>Yes</td>\n",
       "      <td>Yes</td>\n",
       "      <td>Yes</td>\n",
       "      <td>Female</td>\n",
       "      <td>26  30</td>\n",
       "      <td>Temporary Full-time</td>\n",
       "      <td>Administration (AO)</td>\n",
       "      <td>1-2</td>\n",
       "      <td>1-2</td>\n",
       "    </tr>\n",
       "    <tr>\n",
       "      <th>1</th>\n",
       "      <td>6.341337e+17</td>\n",
       "      <td>Mount Isa Institute of TAFE</td>\n",
       "      <td>Non-Delivery (corporate)</td>\n",
       "      <td>2010.0</td>\n",
       "      <td>Retirement</td>\n",
       "      <td>-</td>\n",
       "      <td>-</td>\n",
       "      <td>-</td>\n",
       "      <td>-</td>\n",
       "      <td>-</td>\n",
       "      <td>...</td>\n",
       "      <td>Yes</td>\n",
       "      <td>Yes</td>\n",
       "      <td>Yes</td>\n",
       "      <td>Yes</td>\n",
       "      <td>NaN</td>\n",
       "      <td>NaN</td>\n",
       "      <td>NaN</td>\n",
       "      <td>NaN</td>\n",
       "      <td>NaN</td>\n",
       "      <td>NaN</td>\n",
       "    </tr>\n",
       "    <tr>\n",
       "      <th>2</th>\n",
       "      <td>6.341388e+17</td>\n",
       "      <td>Mount Isa Institute of TAFE</td>\n",
       "      <td>Delivery (teaching)</td>\n",
       "      <td>2010.0</td>\n",
       "      <td>Retirement</td>\n",
       "      <td>-</td>\n",
       "      <td>-</td>\n",
       "      <td>-</td>\n",
       "      <td>-</td>\n",
       "      <td>-</td>\n",
       "      <td>...</td>\n",
       "      <td>Yes</td>\n",
       "      <td>Yes</td>\n",
       "      <td>Yes</td>\n",
       "      <td>Yes</td>\n",
       "      <td>NaN</td>\n",
       "      <td>NaN</td>\n",
       "      <td>NaN</td>\n",
       "      <td>NaN</td>\n",
       "      <td>NaN</td>\n",
       "      <td>NaN</td>\n",
       "    </tr>\n",
       "    <tr>\n",
       "      <th>3</th>\n",
       "      <td>6.341399e+17</td>\n",
       "      <td>Mount Isa Institute of TAFE</td>\n",
       "      <td>Non-Delivery (corporate)</td>\n",
       "      <td>2010.0</td>\n",
       "      <td>Resignation</td>\n",
       "      <td>-</td>\n",
       "      <td>-</td>\n",
       "      <td>-</td>\n",
       "      <td>-</td>\n",
       "      <td>-</td>\n",
       "      <td>...</td>\n",
       "      <td>Yes</td>\n",
       "      <td>Yes</td>\n",
       "      <td>Yes</td>\n",
       "      <td>Yes</td>\n",
       "      <td>NaN</td>\n",
       "      <td>NaN</td>\n",
       "      <td>NaN</td>\n",
       "      <td>NaN</td>\n",
       "      <td>NaN</td>\n",
       "      <td>NaN</td>\n",
       "    </tr>\n",
       "    <tr>\n",
       "      <th>4</th>\n",
       "      <td>6.341466e+17</td>\n",
       "      <td>Southern Queensland Institute of TAFE</td>\n",
       "      <td>Delivery (teaching)</td>\n",
       "      <td>2010.0</td>\n",
       "      <td>Resignation</td>\n",
       "      <td>-</td>\n",
       "      <td>Career Move - Private Sector</td>\n",
       "      <td>-</td>\n",
       "      <td>-</td>\n",
       "      <td>-</td>\n",
       "      <td>...</td>\n",
       "      <td>Yes</td>\n",
       "      <td>Yes</td>\n",
       "      <td>Yes</td>\n",
       "      <td>Yes</td>\n",
       "      <td>Male</td>\n",
       "      <td>41  45</td>\n",
       "      <td>Permanent Full-time</td>\n",
       "      <td>Teacher (including LVT)</td>\n",
       "      <td>3-4</td>\n",
       "      <td>3-4</td>\n",
       "    </tr>\n",
       "    <tr>\n",
       "      <th>...</th>\n",
       "      <td>...</td>\n",
       "      <td>...</td>\n",
       "      <td>...</td>\n",
       "      <td>...</td>\n",
       "      <td>...</td>\n",
       "      <td>...</td>\n",
       "      <td>...</td>\n",
       "      <td>...</td>\n",
       "      <td>...</td>\n",
       "      <td>...</td>\n",
       "      <td>...</td>\n",
       "      <td>...</td>\n",
       "      <td>...</td>\n",
       "      <td>...</td>\n",
       "      <td>...</td>\n",
       "      <td>...</td>\n",
       "      <td>...</td>\n",
       "      <td>...</td>\n",
       "      <td>...</td>\n",
       "      <td>...</td>\n",
       "      <td>...</td>\n",
       "    </tr>\n",
       "    <tr>\n",
       "      <th>697</th>\n",
       "      <td>6.350668e+17</td>\n",
       "      <td>Barrier Reef Institute of TAFE</td>\n",
       "      <td>Delivery (teaching)</td>\n",
       "      <td>2013.0</td>\n",
       "      <td>Resignation</td>\n",
       "      <td>Career Move - Public Sector</td>\n",
       "      <td>-</td>\n",
       "      <td>-</td>\n",
       "      <td>-</td>\n",
       "      <td>-</td>\n",
       "      <td>...</td>\n",
       "      <td>Yes</td>\n",
       "      <td>Yes</td>\n",
       "      <td>Yes</td>\n",
       "      <td>Yes</td>\n",
       "      <td>Male</td>\n",
       "      <td>51-55</td>\n",
       "      <td>Temporary Full-time</td>\n",
       "      <td>Teacher (including LVT)</td>\n",
       "      <td>1-2</td>\n",
       "      <td>1-2</td>\n",
       "    </tr>\n",
       "    <tr>\n",
       "      <th>698</th>\n",
       "      <td>6.350677e+17</td>\n",
       "      <td>Southern Queensland Institute of TAFE</td>\n",
       "      <td>Non-Delivery (corporate)</td>\n",
       "      <td>2013.0</td>\n",
       "      <td>Resignation</td>\n",
       "      <td>Career Move - Public Sector</td>\n",
       "      <td>-</td>\n",
       "      <td>-</td>\n",
       "      <td>-</td>\n",
       "      <td>-</td>\n",
       "      <td>...</td>\n",
       "      <td>NaN</td>\n",
       "      <td>NaN</td>\n",
       "      <td>NaN</td>\n",
       "      <td>NaN</td>\n",
       "      <td>NaN</td>\n",
       "      <td>NaN</td>\n",
       "      <td>NaN</td>\n",
       "      <td>NaN</td>\n",
       "      <td>NaN</td>\n",
       "      <td>NaN</td>\n",
       "    </tr>\n",
       "    <tr>\n",
       "      <th>699</th>\n",
       "      <td>6.350704e+17</td>\n",
       "      <td>Tropical North Institute of TAFE</td>\n",
       "      <td>Delivery (teaching)</td>\n",
       "      <td>2013.0</td>\n",
       "      <td>Resignation</td>\n",
       "      <td>-</td>\n",
       "      <td>-</td>\n",
       "      <td>-</td>\n",
       "      <td>-</td>\n",
       "      <td>-</td>\n",
       "      <td>...</td>\n",
       "      <td>Yes</td>\n",
       "      <td>Yes</td>\n",
       "      <td>Yes</td>\n",
       "      <td>Yes</td>\n",
       "      <td>Female</td>\n",
       "      <td>51-55</td>\n",
       "      <td>Permanent Full-time</td>\n",
       "      <td>Teacher (including LVT)</td>\n",
       "      <td>5-6</td>\n",
       "      <td>1-2</td>\n",
       "    </tr>\n",
       "    <tr>\n",
       "      <th>700</th>\n",
       "      <td>6.350712e+17</td>\n",
       "      <td>Southbank Institute of Technology</td>\n",
       "      <td>Non-Delivery (corporate)</td>\n",
       "      <td>2013.0</td>\n",
       "      <td>Contract Expired</td>\n",
       "      <td>NaN</td>\n",
       "      <td>NaN</td>\n",
       "      <td>NaN</td>\n",
       "      <td>NaN</td>\n",
       "      <td>NaN</td>\n",
       "      <td>...</td>\n",
       "      <td>No</td>\n",
       "      <td>No</td>\n",
       "      <td>Yes</td>\n",
       "      <td>No</td>\n",
       "      <td>Female</td>\n",
       "      <td>41  45</td>\n",
       "      <td>Temporary Full-time</td>\n",
       "      <td>Professional Officer (PO)</td>\n",
       "      <td>1-2</td>\n",
       "      <td>1-2</td>\n",
       "    </tr>\n",
       "    <tr>\n",
       "      <th>701</th>\n",
       "      <td>6.350730e+17</td>\n",
       "      <td>Tropical North Institute of TAFE</td>\n",
       "      <td>Non-Delivery (corporate)</td>\n",
       "      <td>2013.0</td>\n",
       "      <td>Resignation</td>\n",
       "      <td>-</td>\n",
       "      <td>-</td>\n",
       "      <td>Career Move - Self-employment</td>\n",
       "      <td>-</td>\n",
       "      <td>-</td>\n",
       "      <td>...</td>\n",
       "      <td>Yes</td>\n",
       "      <td>Yes</td>\n",
       "      <td>Yes</td>\n",
       "      <td>Yes</td>\n",
       "      <td>Female</td>\n",
       "      <td>26  30</td>\n",
       "      <td>Contract/casual</td>\n",
       "      <td>Administration (AO)</td>\n",
       "      <td>3-4</td>\n",
       "      <td>1-2</td>\n",
       "    </tr>\n",
       "  </tbody>\n",
       "</table>\n",
       "<p>702 rows × 72 columns</p>\n",
       "</div>"
      ],
      "text/plain": [
       "        Record ID                              Institute  \\\n",
       "0    6.341330e+17  Southern Queensland Institute of TAFE   \n",
       "1    6.341337e+17            Mount Isa Institute of TAFE   \n",
       "2    6.341388e+17            Mount Isa Institute of TAFE   \n",
       "3    6.341399e+17            Mount Isa Institute of TAFE   \n",
       "4    6.341466e+17  Southern Queensland Institute of TAFE   \n",
       "..            ...                                    ...   \n",
       "697  6.350668e+17         Barrier Reef Institute of TAFE   \n",
       "698  6.350677e+17  Southern Queensland Institute of TAFE   \n",
       "699  6.350704e+17       Tropical North Institute of TAFE   \n",
       "700  6.350712e+17      Southbank Institute of Technology   \n",
       "701  6.350730e+17       Tropical North Institute of TAFE   \n",
       "\n",
       "                     WorkArea  CESSATION YEAR Reason for ceasing employment  \\\n",
       "0    Non-Delivery (corporate)          2010.0              Contract Expired   \n",
       "1    Non-Delivery (corporate)          2010.0                    Retirement   \n",
       "2         Delivery (teaching)          2010.0                    Retirement   \n",
       "3    Non-Delivery (corporate)          2010.0                   Resignation   \n",
       "4         Delivery (teaching)          2010.0                   Resignation   \n",
       "..                        ...             ...                           ...   \n",
       "697       Delivery (teaching)          2013.0                   Resignation   \n",
       "698  Non-Delivery (corporate)          2013.0                   Resignation   \n",
       "699       Delivery (teaching)          2013.0                   Resignation   \n",
       "700  Non-Delivery (corporate)          2013.0              Contract Expired   \n",
       "701  Non-Delivery (corporate)          2013.0                   Resignation   \n",
       "\n",
       "    Contributing Factors. Career Move - Public Sector   \\\n",
       "0                                                  NaN   \n",
       "1                                                    -   \n",
       "2                                                    -   \n",
       "3                                                    -   \n",
       "4                                                    -   \n",
       "..                                                 ...   \n",
       "697                        Career Move - Public Sector   \n",
       "698                        Career Move - Public Sector   \n",
       "699                                                  -   \n",
       "700                                                NaN   \n",
       "701                                                  -   \n",
       "\n",
       "    Contributing Factors. Career Move - Private Sector   \\\n",
       "0                                                  NaN    \n",
       "1                                                    -    \n",
       "2                                                    -    \n",
       "3                                                    -    \n",
       "4                         Career Move - Private Sector    \n",
       "..                                                 ...    \n",
       "697                                                  -    \n",
       "698                                                  -    \n",
       "699                                                  -    \n",
       "700                                                NaN    \n",
       "701                                                  -    \n",
       "\n",
       "    Contributing Factors. Career Move - Self-employment  \\\n",
       "0                                                  NaN    \n",
       "1                                                    -    \n",
       "2                                                    -    \n",
       "3                                                    -    \n",
       "4                                                    -    \n",
       "..                                                 ...    \n",
       "697                                                  -    \n",
       "698                                                  -    \n",
       "699                                                  -    \n",
       "700                                                NaN    \n",
       "701                      Career Move - Self-employment    \n",
       "\n",
       "    Contributing Factors. Ill Health Contributing Factors. Maternity/Family  \\\n",
       "0                                NaN                                    NaN   \n",
       "1                                  -                                      -   \n",
       "2                                  -                                      -   \n",
       "3                                  -                                      -   \n",
       "4                                  -                                      -   \n",
       "..                               ...                                    ...   \n",
       "697                                -                                      -   \n",
       "698                                -                                      -   \n",
       "699                                -                                      -   \n",
       "700                              NaN                                    NaN   \n",
       "701                                -                                      -   \n",
       "\n",
       "     ...  \\\n",
       "0    ...   \n",
       "1    ...   \n",
       "2    ...   \n",
       "3    ...   \n",
       "4    ...   \n",
       "..   ...   \n",
       "697  ...   \n",
       "698  ...   \n",
       "699  ...   \n",
       "700  ...   \n",
       "701  ...   \n",
       "\n",
       "    Workplace. Topic:Does your workplace promote a work culture free from all forms of unlawful discrimination?  \\\n",
       "0                                                  Yes                                                            \n",
       "1                                                  Yes                                                            \n",
       "2                                                  Yes                                                            \n",
       "3                                                  Yes                                                            \n",
       "4                                                  Yes                                                            \n",
       "..                                                 ...                                                            \n",
       "697                                                Yes                                                            \n",
       "698                                                NaN                                                            \n",
       "699                                                Yes                                                            \n",
       "700                                                 No                                                            \n",
       "701                                                Yes                                                            \n",
       "\n",
       "    Workplace. Topic:Does your workplace promote and practice the principles of employment equity?  \\\n",
       "0                                                  Yes                                               \n",
       "1                                                  Yes                                               \n",
       "2                                                  Yes                                               \n",
       "3                                                  Yes                                               \n",
       "4                                                  Yes                                               \n",
       "..                                                 ...                                               \n",
       "697                                                Yes                                               \n",
       "698                                                NaN                                               \n",
       "699                                                Yes                                               \n",
       "700                                                 No                                               \n",
       "701                                                Yes                                               \n",
       "\n",
       "    Workplace. Topic:Does your workplace value the diversity of its employees?  \\\n",
       "0                                                  Yes                           \n",
       "1                                                  Yes                           \n",
       "2                                                  Yes                           \n",
       "3                                                  Yes                           \n",
       "4                                                  Yes                           \n",
       "..                                                 ...                           \n",
       "697                                                Yes                           \n",
       "698                                                NaN                           \n",
       "699                                                Yes                           \n",
       "700                                                Yes                           \n",
       "701                                                Yes                           \n",
       "\n",
       "    Workplace. Topic:Would you recommend the Institute as an employer to others?  \\\n",
       "0                                                  Yes                             \n",
       "1                                                  Yes                             \n",
       "2                                                  Yes                             \n",
       "3                                                  Yes                             \n",
       "4                                                  Yes                             \n",
       "..                                                 ...                             \n",
       "697                                                Yes                             \n",
       "698                                                NaN                             \n",
       "699                                                Yes                             \n",
       "700                                                 No                             \n",
       "701                                                Yes                             \n",
       "\n",
       "    Gender. What is your Gender? CurrentAge. Current Age  \\\n",
       "0                         Female                  26  30   \n",
       "1                            NaN                     NaN   \n",
       "2                            NaN                     NaN   \n",
       "3                            NaN                     NaN   \n",
       "4                           Male                  41  45   \n",
       "..                           ...                     ...   \n",
       "697                         Male                   51-55   \n",
       "698                          NaN                     NaN   \n",
       "699                       Female                   51-55   \n",
       "700                       Female                  41  45   \n",
       "701                       Female                  26  30   \n",
       "\n",
       "    Employment Type. Employment Type Classification. Classification  \\\n",
       "0                Temporary Full-time            Administration (AO)   \n",
       "1                                NaN                            NaN   \n",
       "2                                NaN                            NaN   \n",
       "3                                NaN                            NaN   \n",
       "4                Permanent Full-time        Teacher (including LVT)   \n",
       "..                               ...                            ...   \n",
       "697              Temporary Full-time        Teacher (including LVT)   \n",
       "698                              NaN                            NaN   \n",
       "699              Permanent Full-time        Teacher (including LVT)   \n",
       "700              Temporary Full-time      Professional Officer (PO)   \n",
       "701                  Contract/casual            Administration (AO)   \n",
       "\n",
       "    LengthofServiceOverall. Overall Length of Service at Institute (in years)  \\\n",
       "0                                                  1-2                          \n",
       "1                                                  NaN                          \n",
       "2                                                  NaN                          \n",
       "3                                                  NaN                          \n",
       "4                                                  3-4                          \n",
       "..                                                 ...                          \n",
       "697                                                1-2                          \n",
       "698                                                NaN                          \n",
       "699                                                5-6                          \n",
       "700                                                1-2                          \n",
       "701                                                3-4                          \n",
       "\n",
       "    LengthofServiceCurrent. Length of Service at current workplace (in years)  \n",
       "0                                                  1-2                         \n",
       "1                                                  NaN                         \n",
       "2                                                  NaN                         \n",
       "3                                                  NaN                         \n",
       "4                                                  3-4                         \n",
       "..                                                 ...                         \n",
       "697                                                1-2                         \n",
       "698                                                NaN                         \n",
       "699                                                1-2                         \n",
       "700                                                1-2                         \n",
       "701                                                1-2                         \n",
       "\n",
       "[702 rows x 72 columns]"
      ]
     },
     "execution_count": 3,
     "metadata": {},
     "output_type": "execute_result"
    }
   ],
   "source": [
    "tafe"
   ]
  },
  {
   "cell_type": "markdown",
   "id": "08dee002",
   "metadata": {},
   "source": [
    "Let's take a look at the information about this dataset."
   ]
  },
  {
   "cell_type": "code",
   "execution_count": 4,
   "id": "29223867",
   "metadata": {},
   "outputs": [
    {
     "name": "stdout",
     "output_type": "stream",
     "text": [
      "<class 'pandas.core.frame.DataFrame'>\n",
      "RangeIndex: 702 entries, 0 to 701\n",
      "Data columns (total 72 columns):\n",
      " #   Column                                                                                                                                                         Non-Null Count  Dtype  \n",
      "---  ------                                                                                                                                                         --------------  -----  \n",
      " 0   Record ID                                                                                                                                                      702 non-null    float64\n",
      " 1   Institute                                                                                                                                                      702 non-null    object \n",
      " 2   WorkArea                                                                                                                                                       702 non-null    object \n",
      " 3   CESSATION YEAR                                                                                                                                                 695 non-null    float64\n",
      " 4   Reason for ceasing employment                                                                                                                                  701 non-null    object \n",
      " 5   Contributing Factors. Career Move - Public Sector                                                                                                              437 non-null    object \n",
      " 6   Contributing Factors. Career Move - Private Sector                                                                                                             437 non-null    object \n",
      " 7   Contributing Factors. Career Move - Self-employment                                                                                                            437 non-null    object \n",
      " 8   Contributing Factors. Ill Health                                                                                                                               437 non-null    object \n",
      " 9   Contributing Factors. Maternity/Family                                                                                                                         437 non-null    object \n",
      " 10  Contributing Factors. Dissatisfaction                                                                                                                          437 non-null    object \n",
      " 11  Contributing Factors. Job Dissatisfaction                                                                                                                      437 non-null    object \n",
      " 12  Contributing Factors. Interpersonal Conflict                                                                                                                   437 non-null    object \n",
      " 13  Contributing Factors. Study                                                                                                                                    437 non-null    object \n",
      " 14  Contributing Factors. Travel                                                                                                                                   437 non-null    object \n",
      " 15  Contributing Factors. Other                                                                                                                                    437 non-null    object \n",
      " 16  Contributing Factors. NONE                                                                                                                                     437 non-null    object \n",
      " 17  Main Factor. Which of these was the main factor for leaving?                                                                                                   113 non-null    object \n",
      " 18  InstituteViews. Topic:1. I feel the senior leadership had a clear vision and direction                                                                         608 non-null    object \n",
      " 19  InstituteViews. Topic:2. I was given access to skills training to help me do my job better                                                                     613 non-null    object \n",
      " 20  InstituteViews. Topic:3. I was given adequate opportunities for personal development                                                                           610 non-null    object \n",
      " 21  InstituteViews. Topic:4. I was given adequate opportunities for promotion within %Institute]Q25LBL%                                                            608 non-null    object \n",
      " 22  InstituteViews. Topic:5. I felt the salary for the job was right for the responsibilities I had                                                                615 non-null    object \n",
      " 23  InstituteViews. Topic:6. The organisation recognised when staff did good work                                                                                  607 non-null    object \n",
      " 24  InstituteViews. Topic:7. Management was generally supportive of me                                                                                             614 non-null    object \n",
      " 25  InstituteViews. Topic:8. Management was generally supportive of my team                                                                                        608 non-null    object \n",
      " 26  InstituteViews. Topic:9. I was kept informed of the changes in the organisation which would affect me                                                          610 non-null    object \n",
      " 27  InstituteViews. Topic:10. Staff morale was positive within the Institute                                                                                       602 non-null    object \n",
      " 28  InstituteViews. Topic:11. If I had a workplace issue it was dealt with quickly                                                                                 601 non-null    object \n",
      " 29  InstituteViews. Topic:12. If I had a workplace issue it was dealt with efficiently                                                                             597 non-null    object \n",
      " 30  InstituteViews. Topic:13. If I had a workplace issue it was dealt with discreetly                                                                              601 non-null    object \n",
      " 31  WorkUnitViews. Topic:14. I was satisfied with the quality of the management and supervision within my work unit                                                609 non-null    object \n",
      " 32  WorkUnitViews. Topic:15. I worked well with my colleagues                                                                                                      605 non-null    object \n",
      " 33  WorkUnitViews. Topic:16. My job was challenging and interesting                                                                                                607 non-null    object \n",
      " 34  WorkUnitViews. Topic:17. I was encouraged to use my initiative in the course of my work                                                                        610 non-null    object \n",
      " 35  WorkUnitViews. Topic:18. I had sufficient contact with other people in my job                                                                                  613 non-null    object \n",
      " 36  WorkUnitViews. Topic:19. I was given adequate support and co-operation by my peers to enable me to do my job                                                   609 non-null    object \n",
      " 37  WorkUnitViews. Topic:20. I was able to use the full range of my skills in my job                                                                               609 non-null    object \n",
      " 38  WorkUnitViews. Topic:21. I was able to use the full range of my abilities in my job. ; Category:Level of Agreement; Question:YOUR VIEWS ABOUT YOUR WORK UNIT]  608 non-null    object \n",
      " 39  WorkUnitViews. Topic:22. I was able to use the full range of my knowledge in my job                                                                            608 non-null    object \n",
      " 40  WorkUnitViews. Topic:23. My job provided sufficient variety                                                                                                    611 non-null    object \n",
      " 41  WorkUnitViews. Topic:24. I was able to cope with the level of stress and pressure in my job                                                                    610 non-null    object \n",
      " 42  WorkUnitViews. Topic:25. My job allowed me to balance the demands of work and family to my satisfaction                                                        611 non-null    object \n",
      " 43  WorkUnitViews. Topic:26. My supervisor gave me adequate personal recognition and feedback on my performance                                                    606 non-null    object \n",
      " 44  WorkUnitViews. Topic:27. My working environment was satisfactory e.g. sufficient space, good lighting, suitable seating and working area                       610 non-null    object \n",
      " 45  WorkUnitViews. Topic:28. I was given the opportunity to mentor and coach others in order for me to pass on my skills and knowledge prior to my cessation date  609 non-null    object \n",
      " 46  WorkUnitViews. Topic:29. There was adequate communication between staff in my unit                                                                             603 non-null    object \n",
      " 47  WorkUnitViews. Topic:30. Staff morale was positive within my work unit                                                                                         606 non-null    object \n",
      " 48  Induction. Did you undertake Workplace Induction?                                                                                                              619 non-null    object \n",
      " 49  InductionInfo. Topic:Did you undertake a Corporate Induction?                                                                                                  432 non-null    object \n",
      " 50  InductionInfo. Topic:Did you undertake a Institute Induction?                                                                                                  483 non-null    object \n",
      " 51  InductionInfo. Topic: Did you undertake Team Induction?                                                                                                        440 non-null    object \n",
      " 52  InductionInfo. Face to Face Topic:Did you undertake a Corporate Induction; Category:How it was conducted?                                                      555 non-null    object \n",
      " 53  InductionInfo. On-line Topic:Did you undertake a Corporate Induction; Category:How it was conducted?                                                           555 non-null    object \n",
      " 54  InductionInfo. Induction Manual Topic:Did you undertake a Corporate Induction?                                                                                 555 non-null    object \n",
      " 55  InductionInfo. Face to Face Topic:Did you undertake a Institute Induction?                                                                                     530 non-null    object \n",
      " 56  InductionInfo. On-line Topic:Did you undertake a Institute Induction?                                                                                          555 non-null    object \n",
      " 57  InductionInfo. Induction Manual Topic:Did you undertake a Institute Induction?                                                                                 553 non-null    object \n",
      " 58  InductionInfo. Face to Face Topic: Did you undertake Team Induction; Category?                                                                                 555 non-null    object \n",
      " 59  InductionInfo. On-line Topic: Did you undertake Team Induction?process you undertook and how it was conducted.]                                                555 non-null    object \n",
      " 60  InductionInfo. Induction Manual Topic: Did you undertake Team Induction?                                                                                       555 non-null    object \n",
      " 61  Workplace. Topic:Did you and your Manager develop a Performance and Professional Development Plan (PPDP)?                                                      608 non-null    object \n",
      " 62  Workplace. Topic:Does your workplace promote a work culture free from all forms of unlawful discrimination?                                                    594 non-null    object \n",
      " 63  Workplace. Topic:Does your workplace promote and practice the principles of employment equity?                                                                 587 non-null    object \n",
      " 64  Workplace. Topic:Does your workplace value the diversity of its employees?                                                                                     586 non-null    object \n",
      " 65  Workplace. Topic:Would you recommend the Institute as an employer to others?                                                                                   581 non-null    object \n",
      " 66  Gender. What is your Gender?                                                                                                                                   596 non-null    object \n",
      " 67  CurrentAge. Current Age                                                                                                                                        596 non-null    object \n",
      " 68  Employment Type. Employment Type                                                                                                                               596 non-null    object \n",
      " 69  Classification. Classification                                                                                                                                 596 non-null    object \n",
      " 70  LengthofServiceOverall. Overall Length of Service at Institute (in years)                                                                                      596 non-null    object \n",
      " 71  LengthofServiceCurrent. Length of Service at current workplace (in years)                                                                                      596 non-null    object \n",
      "dtypes: float64(2), object(70)\n",
      "memory usage: 395.0+ KB\n"
     ]
    }
   ],
   "source": [
    "tafe.info()"
   ]
  },
  {
   "cell_type": "markdown",
   "id": "ca53cf67",
   "metadata": {},
   "source": [
    "As we can see, we have many columns here. We also have many empty data in these columns. For example let's look at the `Contributing Factors. Dissatisfaction` column."
   ]
  },
  {
   "cell_type": "code",
   "execution_count": 5,
   "id": "4ceadb63",
   "metadata": {},
   "outputs": [
    {
     "data": {
      "text/plain": [
       "Contributing Factors. Dissatisfaction\n",
       "-                                         371\n",
       "NaN                                       265\n",
       "Contributing Factors. Dissatisfaction      66\n",
       "Name: count, dtype: int64"
      ]
     },
     "execution_count": 5,
     "metadata": {},
     "output_type": "execute_result"
    }
   ],
   "source": [
    "tafe['Contributing Factors. Dissatisfaction'].value_counts(dropna=False)"
   ]
  },
  {
   "cell_type": "markdown",
   "id": "b7feda02",
   "metadata": {},
   "source": [
    "We have 265 empty entries in this column. We will handle this later on.\n",
    "\n",
    "Let's explore some more columns that we'll use in our analysis later on."
   ]
  },
  {
   "cell_type": "code",
   "execution_count": 6,
   "id": "20710a20",
   "metadata": {},
   "outputs": [
    {
     "data": {
      "text/plain": [
       "Reason for ceasing employment\n",
       "Resignation                 340\n",
       "Contract Expired            127\n",
       "Retrenchment/ Redundancy    104\n",
       "Retirement                   82\n",
       "Transfer                     25\n",
       "Termination                  23\n",
       "NaN                           1\n",
       "Name: count, dtype: int64"
      ]
     },
     "execution_count": 6,
     "metadata": {},
     "output_type": "execute_result"
    }
   ],
   "source": [
    "tafe['Reason for ceasing employment'].value_counts(dropna=False)"
   ]
  },
  {
   "cell_type": "code",
   "execution_count": 7,
   "id": "04759b8d",
   "metadata": {},
   "outputs": [
    {
     "data": {
      "text/plain": [
       "Contributing Factors. Job Dissatisfaction\n",
       "-                      360\n",
       "NaN                    265\n",
       "Job Dissatisfaction     77\n",
       "Name: count, dtype: int64"
      ]
     },
     "execution_count": 7,
     "metadata": {},
     "output_type": "execute_result"
    }
   ],
   "source": [
    "tafe['Contributing Factors. Job Dissatisfaction'].value_counts(dropna=False)"
   ]
  },
  {
   "cell_type": "code",
   "execution_count": 8,
   "id": "a01f9475",
   "metadata": {},
   "outputs": [
    {
     "data": {
      "text/plain": [
       "LengthofServiceOverall. Overall Length of Service at Institute (in years)\n",
       "Less than 1 year      147\n",
       "NaN                   106\n",
       "1-2                   102\n",
       "3-4                    96\n",
       "11-20                  89\n",
       "More than 20 years     71\n",
       "5-6                    48\n",
       "7-10                   43\n",
       "Name: count, dtype: int64"
      ]
     },
     "execution_count": 8,
     "metadata": {},
     "output_type": "execute_result"
    }
   ],
   "source": [
    "tafe['LengthofServiceOverall. Overall Length of Service at Institute (in years)'].value_counts(dropna=False)"
   ]
  },
  {
   "cell_type": "code",
   "execution_count": 9,
   "id": "9811dca6",
   "metadata": {},
   "outputs": [
    {
     "data": {
      "text/plain": [
       "CurrentAge. Current Age\n",
       "56 or older      162\n",
       "NaN              106\n",
       "51-55             82\n",
       "41  45            80\n",
       "46  50            59\n",
       "31  35            52\n",
       "36  40            51\n",
       "26  30            50\n",
       "21  25            44\n",
       "20 or younger     16\n",
       "Name: count, dtype: int64"
      ]
     },
     "execution_count": 9,
     "metadata": {},
     "output_type": "execute_result"
    }
   ],
   "source": [
    "tafe['CurrentAge. Current Age'].value_counts(dropna=False)"
   ]
  },
  {
   "cell_type": "markdown",
   "id": "5e509089",
   "metadata": {},
   "source": [
    "We have many empty entries in these columns too. We'll also need to do some stylistical changes in these columns. \n",
    "\n",
    "For now, let's take a look at the **DETE exit survey** dataset."
   ]
  },
  {
   "cell_type": "code",
   "execution_count": 10,
   "id": "77079bb6",
   "metadata": {},
   "outputs": [
    {
     "data": {
      "text/html": [
       "<div>\n",
       "<style scoped>\n",
       "    .dataframe tbody tr th:only-of-type {\n",
       "        vertical-align: middle;\n",
       "    }\n",
       "\n",
       "    .dataframe tbody tr th {\n",
       "        vertical-align: top;\n",
       "    }\n",
       "\n",
       "    .dataframe thead th {\n",
       "        text-align: right;\n",
       "    }\n",
       "</style>\n",
       "<table border=\"1\" class=\"dataframe\">\n",
       "  <thead>\n",
       "    <tr style=\"text-align: right;\">\n",
       "      <th></th>\n",
       "      <th>ID</th>\n",
       "      <th>SeparationType</th>\n",
       "      <th>Cease Date</th>\n",
       "      <th>DETE Start Date</th>\n",
       "      <th>Role Start Date</th>\n",
       "      <th>Position</th>\n",
       "      <th>Classification</th>\n",
       "      <th>Region</th>\n",
       "      <th>Business Unit</th>\n",
       "      <th>Employment Status</th>\n",
       "      <th>...</th>\n",
       "      <th>Kept informed</th>\n",
       "      <th>Wellness programs</th>\n",
       "      <th>Health &amp; Safety</th>\n",
       "      <th>Gender</th>\n",
       "      <th>Age</th>\n",
       "      <th>Aboriginal</th>\n",
       "      <th>Torres Strait</th>\n",
       "      <th>South Sea</th>\n",
       "      <th>Disability</th>\n",
       "      <th>NESB</th>\n",
       "    </tr>\n",
       "  </thead>\n",
       "  <tbody>\n",
       "    <tr>\n",
       "      <th>0</th>\n",
       "      <td>1</td>\n",
       "      <td>Ill Health Retirement</td>\n",
       "      <td>08/2012</td>\n",
       "      <td>1984.0</td>\n",
       "      <td>2004.0</td>\n",
       "      <td>Public Servant</td>\n",
       "      <td>A01-A04</td>\n",
       "      <td>Central Office</td>\n",
       "      <td>Corporate Strategy and Peformance</td>\n",
       "      <td>Permanent Full-time</td>\n",
       "      <td>...</td>\n",
       "      <td>N</td>\n",
       "      <td>N</td>\n",
       "      <td>N</td>\n",
       "      <td>Male</td>\n",
       "      <td>56-60</td>\n",
       "      <td>NaN</td>\n",
       "      <td>NaN</td>\n",
       "      <td>NaN</td>\n",
       "      <td>NaN</td>\n",
       "      <td>Yes</td>\n",
       "    </tr>\n",
       "    <tr>\n",
       "      <th>1</th>\n",
       "      <td>2</td>\n",
       "      <td>Voluntary Early Retirement (VER)</td>\n",
       "      <td>08/2012</td>\n",
       "      <td>NaN</td>\n",
       "      <td>NaN</td>\n",
       "      <td>Public Servant</td>\n",
       "      <td>AO5-AO7</td>\n",
       "      <td>Central Office</td>\n",
       "      <td>Corporate Strategy and Peformance</td>\n",
       "      <td>Permanent Full-time</td>\n",
       "      <td>...</td>\n",
       "      <td>N</td>\n",
       "      <td>N</td>\n",
       "      <td>N</td>\n",
       "      <td>Male</td>\n",
       "      <td>56-60</td>\n",
       "      <td>NaN</td>\n",
       "      <td>NaN</td>\n",
       "      <td>NaN</td>\n",
       "      <td>NaN</td>\n",
       "      <td>NaN</td>\n",
       "    </tr>\n",
       "    <tr>\n",
       "      <th>2</th>\n",
       "      <td>3</td>\n",
       "      <td>Voluntary Early Retirement (VER)</td>\n",
       "      <td>05/2012</td>\n",
       "      <td>2011.0</td>\n",
       "      <td>2011.0</td>\n",
       "      <td>Schools Officer</td>\n",
       "      <td>NaN</td>\n",
       "      <td>Central Office</td>\n",
       "      <td>Education Queensland</td>\n",
       "      <td>Permanent Full-time</td>\n",
       "      <td>...</td>\n",
       "      <td>N</td>\n",
       "      <td>N</td>\n",
       "      <td>N</td>\n",
       "      <td>Male</td>\n",
       "      <td>61 or older</td>\n",
       "      <td>NaN</td>\n",
       "      <td>NaN</td>\n",
       "      <td>NaN</td>\n",
       "      <td>NaN</td>\n",
       "      <td>NaN</td>\n",
       "    </tr>\n",
       "    <tr>\n",
       "      <th>3</th>\n",
       "      <td>4</td>\n",
       "      <td>Resignation-Other reasons</td>\n",
       "      <td>05/2012</td>\n",
       "      <td>2005.0</td>\n",
       "      <td>2006.0</td>\n",
       "      <td>Teacher</td>\n",
       "      <td>Primary</td>\n",
       "      <td>Central Queensland</td>\n",
       "      <td>NaN</td>\n",
       "      <td>Permanent Full-time</td>\n",
       "      <td>...</td>\n",
       "      <td>A</td>\n",
       "      <td>N</td>\n",
       "      <td>A</td>\n",
       "      <td>Female</td>\n",
       "      <td>36-40</td>\n",
       "      <td>NaN</td>\n",
       "      <td>NaN</td>\n",
       "      <td>NaN</td>\n",
       "      <td>NaN</td>\n",
       "      <td>NaN</td>\n",
       "    </tr>\n",
       "    <tr>\n",
       "      <th>4</th>\n",
       "      <td>5</td>\n",
       "      <td>Age Retirement</td>\n",
       "      <td>05/2012</td>\n",
       "      <td>1970.0</td>\n",
       "      <td>1989.0</td>\n",
       "      <td>Head of Curriculum/Head of Special Education</td>\n",
       "      <td>NaN</td>\n",
       "      <td>South East</td>\n",
       "      <td>NaN</td>\n",
       "      <td>Permanent Full-time</td>\n",
       "      <td>...</td>\n",
       "      <td>N</td>\n",
       "      <td>A</td>\n",
       "      <td>M</td>\n",
       "      <td>Female</td>\n",
       "      <td>61 or older</td>\n",
       "      <td>NaN</td>\n",
       "      <td>NaN</td>\n",
       "      <td>NaN</td>\n",
       "      <td>NaN</td>\n",
       "      <td>NaN</td>\n",
       "    </tr>\n",
       "    <tr>\n",
       "      <th>...</th>\n",
       "      <td>...</td>\n",
       "      <td>...</td>\n",
       "      <td>...</td>\n",
       "      <td>...</td>\n",
       "      <td>...</td>\n",
       "      <td>...</td>\n",
       "      <td>...</td>\n",
       "      <td>...</td>\n",
       "      <td>...</td>\n",
       "      <td>...</td>\n",
       "      <td>...</td>\n",
       "      <td>...</td>\n",
       "      <td>...</td>\n",
       "      <td>...</td>\n",
       "      <td>...</td>\n",
       "      <td>...</td>\n",
       "      <td>...</td>\n",
       "      <td>...</td>\n",
       "      <td>...</td>\n",
       "      <td>...</td>\n",
       "      <td>...</td>\n",
       "    </tr>\n",
       "    <tr>\n",
       "      <th>817</th>\n",
       "      <td>819</td>\n",
       "      <td>Age Retirement</td>\n",
       "      <td>02/2014</td>\n",
       "      <td>1977.0</td>\n",
       "      <td>1999.0</td>\n",
       "      <td>Teacher</td>\n",
       "      <td>Primary</td>\n",
       "      <td>Central Queensland</td>\n",
       "      <td>NaN</td>\n",
       "      <td>Permanent Part-time</td>\n",
       "      <td>...</td>\n",
       "      <td>A</td>\n",
       "      <td>A</td>\n",
       "      <td>SA</td>\n",
       "      <td>Female</td>\n",
       "      <td>56-60</td>\n",
       "      <td>NaN</td>\n",
       "      <td>NaN</td>\n",
       "      <td>NaN</td>\n",
       "      <td>NaN</td>\n",
       "      <td>NaN</td>\n",
       "    </tr>\n",
       "    <tr>\n",
       "      <th>818</th>\n",
       "      <td>820</td>\n",
       "      <td>Age Retirement</td>\n",
       "      <td>01/2014</td>\n",
       "      <td>1980.0</td>\n",
       "      <td>1980.0</td>\n",
       "      <td>Teacher</td>\n",
       "      <td>Secondary</td>\n",
       "      <td>North Coast</td>\n",
       "      <td>NaN</td>\n",
       "      <td>Permanent Full-time</td>\n",
       "      <td>...</td>\n",
       "      <td>N</td>\n",
       "      <td>N</td>\n",
       "      <td>N</td>\n",
       "      <td>Male</td>\n",
       "      <td>51-55</td>\n",
       "      <td>NaN</td>\n",
       "      <td>NaN</td>\n",
       "      <td>NaN</td>\n",
       "      <td>NaN</td>\n",
       "      <td>NaN</td>\n",
       "    </tr>\n",
       "    <tr>\n",
       "      <th>819</th>\n",
       "      <td>821</td>\n",
       "      <td>Resignation-Move overseas/interstate</td>\n",
       "      <td>01/2014</td>\n",
       "      <td>2009.0</td>\n",
       "      <td>2009.0</td>\n",
       "      <td>Public Servant</td>\n",
       "      <td>A01-A04</td>\n",
       "      <td>Central Office</td>\n",
       "      <td>Education Queensland</td>\n",
       "      <td>Permanent Full-time</td>\n",
       "      <td>...</td>\n",
       "      <td>A</td>\n",
       "      <td>N</td>\n",
       "      <td>A</td>\n",
       "      <td>Female</td>\n",
       "      <td>31-35</td>\n",
       "      <td>NaN</td>\n",
       "      <td>NaN</td>\n",
       "      <td>NaN</td>\n",
       "      <td>NaN</td>\n",
       "      <td>NaN</td>\n",
       "    </tr>\n",
       "    <tr>\n",
       "      <th>820</th>\n",
       "      <td>822</td>\n",
       "      <td>Ill Health Retirement</td>\n",
       "      <td>12/2013</td>\n",
       "      <td>2001.0</td>\n",
       "      <td>2009.0</td>\n",
       "      <td>Teacher</td>\n",
       "      <td>Secondary</td>\n",
       "      <td>Darling Downs South West</td>\n",
       "      <td>NaN</td>\n",
       "      <td>Permanent Full-time</td>\n",
       "      <td>...</td>\n",
       "      <td>A</td>\n",
       "      <td>N</td>\n",
       "      <td>A</td>\n",
       "      <td>Female</td>\n",
       "      <td>41-45</td>\n",
       "      <td>NaN</td>\n",
       "      <td>NaN</td>\n",
       "      <td>NaN</td>\n",
       "      <td>NaN</td>\n",
       "      <td>NaN</td>\n",
       "    </tr>\n",
       "    <tr>\n",
       "      <th>821</th>\n",
       "      <td>823</td>\n",
       "      <td>Resignation-Move overseas/interstate</td>\n",
       "      <td>12/2013</td>\n",
       "      <td>NaN</td>\n",
       "      <td>NaN</td>\n",
       "      <td>Teacher Aide</td>\n",
       "      <td>NaN</td>\n",
       "      <td>Metropolitan</td>\n",
       "      <td>NaN</td>\n",
       "      <td>NaN</td>\n",
       "      <td>...</td>\n",
       "      <td>NaN</td>\n",
       "      <td>NaN</td>\n",
       "      <td>NaN</td>\n",
       "      <td>NaN</td>\n",
       "      <td>NaN</td>\n",
       "      <td>NaN</td>\n",
       "      <td>NaN</td>\n",
       "      <td>NaN</td>\n",
       "      <td>NaN</td>\n",
       "      <td>NaN</td>\n",
       "    </tr>\n",
       "  </tbody>\n",
       "</table>\n",
       "<p>822 rows × 56 columns</p>\n",
       "</div>"
      ],
      "text/plain": [
       "      ID                        SeparationType Cease Date  DETE Start Date  \\\n",
       "0      1                 Ill Health Retirement    08/2012           1984.0   \n",
       "1      2      Voluntary Early Retirement (VER)    08/2012              NaN   \n",
       "2      3      Voluntary Early Retirement (VER)    05/2012           2011.0   \n",
       "3      4             Resignation-Other reasons    05/2012           2005.0   \n",
       "4      5                        Age Retirement    05/2012           1970.0   \n",
       "..   ...                                   ...        ...              ...   \n",
       "817  819                        Age Retirement    02/2014           1977.0   \n",
       "818  820                        Age Retirement    01/2014           1980.0   \n",
       "819  821  Resignation-Move overseas/interstate    01/2014           2009.0   \n",
       "820  822                 Ill Health Retirement    12/2013           2001.0   \n",
       "821  823  Resignation-Move overseas/interstate    12/2013              NaN   \n",
       "\n",
       "     Role Start Date                                      Position  \\\n",
       "0             2004.0                                Public Servant   \n",
       "1                NaN                                Public Servant   \n",
       "2             2011.0                               Schools Officer   \n",
       "3             2006.0                                       Teacher   \n",
       "4             1989.0  Head of Curriculum/Head of Special Education   \n",
       "..               ...                                           ...   \n",
       "817           1999.0                                       Teacher   \n",
       "818           1980.0                                       Teacher   \n",
       "819           2009.0                                Public Servant   \n",
       "820           2009.0                                       Teacher   \n",
       "821              NaN                                  Teacher Aide   \n",
       "\n",
       "    Classification                    Region  \\\n",
       "0          A01-A04            Central Office   \n",
       "1          AO5-AO7            Central Office   \n",
       "2              NaN            Central Office   \n",
       "3          Primary        Central Queensland   \n",
       "4              NaN                South East   \n",
       "..             ...                       ...   \n",
       "817        Primary        Central Queensland   \n",
       "818      Secondary               North Coast   \n",
       "819        A01-A04            Central Office   \n",
       "820      Secondary  Darling Downs South West   \n",
       "821            NaN              Metropolitan   \n",
       "\n",
       "                         Business Unit    Employment Status  ...  \\\n",
       "0    Corporate Strategy and Peformance  Permanent Full-time  ...   \n",
       "1    Corporate Strategy and Peformance  Permanent Full-time  ...   \n",
       "2                 Education Queensland  Permanent Full-time  ...   \n",
       "3                                  NaN  Permanent Full-time  ...   \n",
       "4                                  NaN  Permanent Full-time  ...   \n",
       "..                                 ...                  ...  ...   \n",
       "817                                NaN  Permanent Part-time  ...   \n",
       "818                                NaN  Permanent Full-time  ...   \n",
       "819               Education Queensland  Permanent Full-time  ...   \n",
       "820                                NaN  Permanent Full-time  ...   \n",
       "821                                NaN                  NaN  ...   \n",
       "\n",
       "     Kept informed  Wellness programs  Health & Safety  Gender          Age  \\\n",
       "0                N                  N                N    Male        56-60   \n",
       "1                N                  N                N    Male        56-60   \n",
       "2                N                  N                N    Male  61 or older   \n",
       "3                A                  N                A  Female        36-40   \n",
       "4                N                  A                M  Female  61 or older   \n",
       "..             ...                ...              ...     ...          ...   \n",
       "817              A                  A               SA  Female        56-60   \n",
       "818              N                  N                N    Male        51-55   \n",
       "819              A                  N                A  Female        31-35   \n",
       "820              A                  N                A  Female        41-45   \n",
       "821            NaN                NaN              NaN     NaN          NaN   \n",
       "\n",
       "     Aboriginal  Torres Strait  South Sea  Disability  NESB  \n",
       "0           NaN            NaN        NaN         NaN   Yes  \n",
       "1           NaN            NaN        NaN         NaN   NaN  \n",
       "2           NaN            NaN        NaN         NaN   NaN  \n",
       "3           NaN            NaN        NaN         NaN   NaN  \n",
       "4           NaN            NaN        NaN         NaN   NaN  \n",
       "..          ...            ...        ...         ...   ...  \n",
       "817         NaN            NaN        NaN         NaN   NaN  \n",
       "818         NaN            NaN        NaN         NaN   NaN  \n",
       "819         NaN            NaN        NaN         NaN   NaN  \n",
       "820         NaN            NaN        NaN         NaN   NaN  \n",
       "821         NaN            NaN        NaN         NaN   NaN  \n",
       "\n",
       "[822 rows x 56 columns]"
      ]
     },
     "execution_count": 10,
     "metadata": {},
     "output_type": "execute_result"
    }
   ],
   "source": [
    "dete"
   ]
  },
  {
   "cell_type": "markdown",
   "id": "aba50883",
   "metadata": {},
   "source": [
    "We can see that this dataset has `NaN` values too. Let's explore the information about this dataset."
   ]
  },
  {
   "cell_type": "code",
   "execution_count": 11,
   "id": "5aef701f",
   "metadata": {},
   "outputs": [
    {
     "name": "stdout",
     "output_type": "stream",
     "text": [
      "<class 'pandas.core.frame.DataFrame'>\n",
      "RangeIndex: 822 entries, 0 to 821\n",
      "Data columns (total 56 columns):\n",
      " #   Column                               Non-Null Count  Dtype  \n",
      "---  ------                               --------------  -----  \n",
      " 0   ID                                   822 non-null    int64  \n",
      " 1   SeparationType                       822 non-null    object \n",
      " 2   Cease Date                           788 non-null    object \n",
      " 3   DETE Start Date                      749 non-null    float64\n",
      " 4   Role Start Date                      724 non-null    float64\n",
      " 5   Position                             817 non-null    object \n",
      " 6   Classification                       455 non-null    object \n",
      " 7   Region                               717 non-null    object \n",
      " 8   Business Unit                        126 non-null    object \n",
      " 9   Employment Status                    817 non-null    object \n",
      " 10  Career move to public sector         822 non-null    bool   \n",
      " 11  Career move to private sector        822 non-null    bool   \n",
      " 12  Interpersonal conflicts              822 non-null    bool   \n",
      " 13  Job dissatisfaction                  822 non-null    bool   \n",
      " 14  Dissatisfaction with the department  822 non-null    bool   \n",
      " 15  Physical work environment            822 non-null    bool   \n",
      " 16  Lack of recognition                  822 non-null    bool   \n",
      " 17  Lack of job security                 822 non-null    bool   \n",
      " 18  Work location                        822 non-null    bool   \n",
      " 19  Employment conditions                822 non-null    bool   \n",
      " 20  Maternity/family                     822 non-null    bool   \n",
      " 21  Relocation                           822 non-null    bool   \n",
      " 22  Study/Travel                         822 non-null    bool   \n",
      " 23  Ill Health                           822 non-null    bool   \n",
      " 24  Traumatic incident                   822 non-null    bool   \n",
      " 25  Work life balance                    822 non-null    bool   \n",
      " 26  Workload                             822 non-null    bool   \n",
      " 27  None of the above                    822 non-null    bool   \n",
      " 28  Professional Development             808 non-null    object \n",
      " 29  Opportunities for promotion          735 non-null    object \n",
      " 30  Staff morale                         816 non-null    object \n",
      " 31  Workplace issue                      788 non-null    object \n",
      " 32  Physical environment                 817 non-null    object \n",
      " 33  Worklife balance                     815 non-null    object \n",
      " 34  Stress and pressure support          810 non-null    object \n",
      " 35  Performance of supervisor            813 non-null    object \n",
      " 36  Peer support                         812 non-null    object \n",
      " 37  Initiative                           813 non-null    object \n",
      " 38  Skills                               811 non-null    object \n",
      " 39  Coach                                767 non-null    object \n",
      " 40  Career Aspirations                   746 non-null    object \n",
      " 41  Feedback                             792 non-null    object \n",
      " 42  Further PD                           768 non-null    object \n",
      " 43  Communication                        814 non-null    object \n",
      " 44  My say                               812 non-null    object \n",
      " 45  Information                          816 non-null    object \n",
      " 46  Kept informed                        813 non-null    object \n",
      " 47  Wellness programs                    766 non-null    object \n",
      " 48  Health & Safety                      793 non-null    object \n",
      " 49  Gender                               798 non-null    object \n",
      " 50  Age                                  811 non-null    object \n",
      " 51  Aboriginal                           16 non-null     object \n",
      " 52  Torres Strait                        3 non-null      object \n",
      " 53  South Sea                            7 non-null      object \n",
      " 54  Disability                           23 non-null     object \n",
      " 55  NESB                                 32 non-null     object \n",
      "dtypes: bool(18), float64(2), int64(1), object(35)\n",
      "memory usage: 258.6+ KB\n"
     ]
    }
   ],
   "source": [
    "dete.info()"
   ]
  },
  {
   "cell_type": "markdown",
   "id": "357878cd",
   "metadata": {},
   "source": [
    "In this dataset we have less missing entries compared to TAFE dataset.\n",
    "\n",
    "Let's take a look at some columns that we'll use for our analysis."
   ]
  },
  {
   "cell_type": "code",
   "execution_count": 12,
   "id": "d4812e61",
   "metadata": {},
   "outputs": [
    {
     "data": {
      "text/plain": [
       "SeparationType\n",
       "Age Retirement                          285\n",
       "Resignation-Other reasons               150\n",
       "Resignation-Other employer               91\n",
       "Resignation-Move overseas/interstate     70\n",
       "Voluntary Early Retirement (VER)         67\n",
       "Ill Health Retirement                    61\n",
       "Other                                    49\n",
       "Contract Expired                         34\n",
       "Termination                              15\n",
       "Name: count, dtype: int64"
      ]
     },
     "execution_count": 12,
     "metadata": {},
     "output_type": "execute_result"
    }
   ],
   "source": [
    "dete['SeparationType'].value_counts(dropna=False)"
   ]
  },
  {
   "cell_type": "code",
   "execution_count": 13,
   "id": "5b6c4f00",
   "metadata": {},
   "outputs": [
    {
     "data": {
      "text/plain": [
       "Cease Date\n",
       "2012       344\n",
       "2013       200\n",
       "01/2014     43\n",
       "12/2013     40\n",
       "NaN         34\n",
       "09/2013     34\n",
       "06/2013     27\n",
       "07/2013     22\n",
       "10/2013     20\n",
       "11/2013     16\n",
       "08/2013     12\n",
       "05/2013      7\n",
       "05/2012      6\n",
       "04/2014      2\n",
       "07/2014      2\n",
       "08/2012      2\n",
       "04/2013      2\n",
       "02/2014      2\n",
       "11/2012      1\n",
       "09/2010      1\n",
       "2010         1\n",
       "2014         1\n",
       "07/2012      1\n",
       "09/2014      1\n",
       "07/2006      1\n",
       "Name: count, dtype: int64"
      ]
     },
     "execution_count": 13,
     "metadata": {},
     "output_type": "execute_result"
    }
   ],
   "source": [
    "dete['Cease Date'].value_counts(dropna=False)"
   ]
  },
  {
   "cell_type": "code",
   "execution_count": 14,
   "id": "8636c817",
   "metadata": {},
   "outputs": [
    {
     "data": {
      "text/plain": [
       "DETE Start Date\n",
       "1963.0     4\n",
       "1965.0     1\n",
       "1966.0     1\n",
       "1967.0     2\n",
       "1968.0     3\n",
       "1969.0    10\n",
       "1970.0    21\n",
       "1971.0    10\n",
       "1972.0    12\n",
       "1973.0     8\n",
       "1974.0    14\n",
       "1975.0    21\n",
       "1976.0    15\n",
       "1977.0    11\n",
       "1978.0    15\n",
       "1979.0    14\n",
       "1980.0    14\n",
       "1981.0     9\n",
       "1982.0     4\n",
       "1983.0     9\n",
       "1984.0    10\n",
       "1985.0     8\n",
       "1986.0    12\n",
       "1987.0     7\n",
       "1988.0    15\n",
       "1989.0    17\n",
       "1990.0    20\n",
       "1991.0    18\n",
       "1992.0    18\n",
       "1993.0    13\n",
       "1994.0    10\n",
       "1995.0    14\n",
       "1996.0    19\n",
       "1997.0    14\n",
       "1998.0    14\n",
       "1999.0    19\n",
       "2000.0    18\n",
       "2001.0    10\n",
       "2002.0    15\n",
       "2003.0    15\n",
       "2004.0    18\n",
       "2005.0    20\n",
       "2006.0    23\n",
       "2007.0    34\n",
       "2008.0    31\n",
       "2009.0    24\n",
       "2010.0    27\n",
       "2011.0    40\n",
       "2012.0    27\n",
       "2013.0    21\n",
       "NaN       73\n",
       "Name: count, dtype: int64"
      ]
     },
     "execution_count": 14,
     "metadata": {},
     "output_type": "execute_result"
    }
   ],
   "source": [
    "dete['DETE Start Date'].value_counts(dropna=False).sort_index()"
   ]
  },
  {
   "cell_type": "code",
   "execution_count": 15,
   "id": "b81cabea",
   "metadata": {},
   "outputs": [
    {
     "data": {
      "text/plain": [
       "Job dissatisfaction\n",
       "False    733\n",
       "True      89\n",
       "Name: count, dtype: int64"
      ]
     },
     "execution_count": 15,
     "metadata": {},
     "output_type": "execute_result"
    }
   ],
   "source": [
    "dete['Job dissatisfaction'].value_counts(dropna=False)"
   ]
  },
  {
   "cell_type": "code",
   "execution_count": 16,
   "id": "15aa38b4",
   "metadata": {},
   "outputs": [
    {
     "data": {
      "text/plain": [
       "Age\n",
       "61 or older      222\n",
       "56-60            174\n",
       "51-55            103\n",
       "46-50             63\n",
       "41-45             61\n",
       "26-30             57\n",
       "36-40             51\n",
       "21-25             40\n",
       "31-35             39\n",
       "NaN               11\n",
       "20 or younger      1\n",
       "Name: count, dtype: int64"
      ]
     },
     "execution_count": 16,
     "metadata": {},
     "output_type": "execute_result"
    }
   ],
   "source": [
    "dete['Age'].value_counts(dropna=False)"
   ]
  },
  {
   "cell_type": "markdown",
   "id": "79e86e2d",
   "metadata": {},
   "source": [
    "Here's also many empty entries that we'll have to handle later on. We also need to extract only *Resignation* part from values in `SeparationType` column."
   ]
  },
  {
   "cell_type": "markdown",
   "id": "017baefc",
   "metadata": {},
   "source": [
    "<a id='data_cleaning'></a>\n",
    "# Data Cleaning"
   ]
  },
  {
   "cell_type": "markdown",
   "id": "f767cfc2",
   "metadata": {},
   "source": [
    "## Dropping Redundant Columns"
   ]
  },
  {
   "cell_type": "markdown",
   "id": "3893bf00",
   "metadata": {},
   "source": [
    "For our first step we are going to drop columns that will be worthless for our analysis."
   ]
  },
  {
   "cell_type": "code",
   "execution_count": 17,
   "id": "9010a56a",
   "metadata": {},
   "outputs": [
    {
     "name": "stdout",
     "output_type": "stream",
     "text": [
      "<class 'pandas.core.frame.DataFrame'>\n",
      "RangeIndex: 702 entries, 0 to 701\n",
      "Data columns (total 22 columns):\n",
      " #   Column                                                                     Non-Null Count  Dtype  \n",
      "---  ------                                                                     --------------  -----  \n",
      " 0   Record ID                                                                  702 non-null    float64\n",
      " 1   Institute                                                                  702 non-null    object \n",
      " 2   WorkArea                                                                   702 non-null    object \n",
      " 3   CESSATION YEAR                                                             695 non-null    float64\n",
      " 4   Reason for ceasing employment                                              701 non-null    object \n",
      " 5   Contributing Factors. Career Move - Public Sector                          437 non-null    object \n",
      " 6   Contributing Factors. Career Move - Private Sector                         437 non-null    object \n",
      " 7   Contributing Factors. Career Move - Self-employment                        437 non-null    object \n",
      " 8   Contributing Factors. Ill Health                                           437 non-null    object \n",
      " 9   Contributing Factors. Maternity/Family                                     437 non-null    object \n",
      " 10  Contributing Factors. Dissatisfaction                                      437 non-null    object \n",
      " 11  Contributing Factors. Job Dissatisfaction                                  437 non-null    object \n",
      " 12  Contributing Factors. Interpersonal Conflict                               437 non-null    object \n",
      " 13  Contributing Factors. Study                                                437 non-null    object \n",
      " 14  Contributing Factors. Travel                                               437 non-null    object \n",
      " 15  Contributing Factors. Other                                                437 non-null    object \n",
      " 16  Gender. What is your Gender?                                               596 non-null    object \n",
      " 17  CurrentAge. Current Age                                                    596 non-null    object \n",
      " 18  Employment Type. Employment Type                                           596 non-null    object \n",
      " 19  Classification. Classification                                             596 non-null    object \n",
      " 20  LengthofServiceOverall. Overall Length of Service at Institute (in years)  596 non-null    object \n",
      " 21  LengthofServiceCurrent. Length of Service at current workplace (in years)  596 non-null    object \n",
      "dtypes: float64(2), object(20)\n",
      "memory usage: 120.8+ KB\n"
     ]
    }
   ],
   "source": [
    "# Dropping rows in TAFE dataset by index\n",
    "tafe_updated = tafe.drop(tafe.columns[16:66], axis=1)\n",
    "tafe_updated.info()"
   ]
  },
  {
   "cell_type": "code",
   "execution_count": 18,
   "id": "b382d566",
   "metadata": {},
   "outputs": [
    {
     "name": "stdout",
     "output_type": "stream",
     "text": [
      "<class 'pandas.core.frame.DataFrame'>\n",
      "RangeIndex: 822 entries, 0 to 821\n",
      "Data columns (total 35 columns):\n",
      " #   Column                               Non-Null Count  Dtype  \n",
      "---  ------                               --------------  -----  \n",
      " 0   ID                                   822 non-null    int64  \n",
      " 1   SeparationType                       822 non-null    object \n",
      " 2   Cease Date                           788 non-null    object \n",
      " 3   DETE Start Date                      749 non-null    float64\n",
      " 4   Role Start Date                      724 non-null    float64\n",
      " 5   Position                             817 non-null    object \n",
      " 6   Classification                       455 non-null    object \n",
      " 7   Region                               717 non-null    object \n",
      " 8   Business Unit                        126 non-null    object \n",
      " 9   Employment Status                    817 non-null    object \n",
      " 10  Career move to public sector         822 non-null    bool   \n",
      " 11  Career move to private sector        822 non-null    bool   \n",
      " 12  Interpersonal conflicts              822 non-null    bool   \n",
      " 13  Job dissatisfaction                  822 non-null    bool   \n",
      " 14  Dissatisfaction with the department  822 non-null    bool   \n",
      " 15  Physical work environment            822 non-null    bool   \n",
      " 16  Lack of recognition                  822 non-null    bool   \n",
      " 17  Lack of job security                 822 non-null    bool   \n",
      " 18  Work location                        822 non-null    bool   \n",
      " 19  Employment conditions                822 non-null    bool   \n",
      " 20  Maternity/family                     822 non-null    bool   \n",
      " 21  Relocation                           822 non-null    bool   \n",
      " 22  Study/Travel                         822 non-null    bool   \n",
      " 23  Ill Health                           822 non-null    bool   \n",
      " 24  Traumatic incident                   822 non-null    bool   \n",
      " 25  Work life balance                    822 non-null    bool   \n",
      " 26  Workload                             822 non-null    bool   \n",
      " 27  None of the above                    822 non-null    bool   \n",
      " 28  Gender                               798 non-null    object \n",
      " 29  Age                                  811 non-null    object \n",
      " 30  Aboriginal                           16 non-null     object \n",
      " 31  Torres Strait                        3 non-null      object \n",
      " 32  South Sea                            7 non-null      object \n",
      " 33  Disability                           23 non-null     object \n",
      " 34  NESB                                 32 non-null     object \n",
      "dtypes: bool(18), float64(2), int64(1), object(14)\n",
      "memory usage: 123.8+ KB\n"
     ]
    }
   ],
   "source": [
    "# Dropping columns in DETE dataset by index\n",
    "dete_updated = dete.drop(dete.columns[28:49], axis=1)\n",
    "dete_updated.info()"
   ]
  },
  {
   "cell_type": "markdown",
   "id": "be772f99",
   "metadata": {},
   "source": [
    "There are still columns here that we're not going to use, but we'll get rid of them a little later."
   ]
  },
  {
   "cell_type": "markdown",
   "id": "17c0347b",
   "metadata": {},
   "source": [
    "## Renaming Columns"
   ]
  },
  {
   "cell_type": "markdown",
   "id": "5e0d5707",
   "metadata": {},
   "source": [
    "Now, we have to rename some columns because we will combine these datasets together. We need to make sure that the necessary columns are not separated after the merge.\n",
    "\n",
    "Here's the list of the column names for the DETE dataset."
   ]
  },
  {
   "cell_type": "code",
   "execution_count": 19,
   "id": "ad46fd39",
   "metadata": {},
   "outputs": [
    {
     "data": {
      "text/plain": [
       "Index(['ID', 'SeparationType', 'Cease Date', 'DETE Start Date',\n",
       "       'Role Start Date', 'Position', 'Classification', 'Region',\n",
       "       'Business Unit', 'Employment Status', 'Career move to public sector',\n",
       "       'Career move to private sector', 'Interpersonal conflicts',\n",
       "       'Job dissatisfaction', 'Dissatisfaction with the department',\n",
       "       'Physical work environment', 'Lack of recognition',\n",
       "       'Lack of job security', 'Work location', 'Employment conditions',\n",
       "       'Maternity/family', 'Relocation', 'Study/Travel', 'Ill Health',\n",
       "       'Traumatic incident', 'Work life balance', 'Workload',\n",
       "       'None of the above', 'Gender', 'Age', 'Aboriginal', 'Torres Strait',\n",
       "       'South Sea', 'Disability', 'NESB'],\n",
       "      dtype='object')"
      ]
     },
     "execution_count": 19,
     "metadata": {},
     "output_type": "execute_result"
    }
   ],
   "source": [
    "dete_updated.columns"
   ]
  },
  {
   "cell_type": "markdown",
   "id": "fd1cc4fa",
   "metadata": {},
   "source": [
    "Below are the new columns that we will use as an example for the columns in the TAFE dataset."
   ]
  },
  {
   "cell_type": "code",
   "execution_count": 20,
   "id": "b7ad0544",
   "metadata": {},
   "outputs": [
    {
     "name": "stdout",
     "output_type": "stream",
     "text": [
      "<class 'pandas.core.frame.DataFrame'>\n",
      "RangeIndex: 822 entries, 0 to 821\n",
      "Data columns (total 35 columns):\n",
      " #   Column                               Non-Null Count  Dtype  \n",
      "---  ------                               --------------  -----  \n",
      " 0   id                                   822 non-null    int64  \n",
      " 1   separationtype                       822 non-null    object \n",
      " 2   cease_date                           788 non-null    object \n",
      " 3   dete_start_date                      749 non-null    float64\n",
      " 4   role_start_date                      724 non-null    float64\n",
      " 5   position                             817 non-null    object \n",
      " 6   classification                       455 non-null    object \n",
      " 7   region                               717 non-null    object \n",
      " 8   business_unit                        126 non-null    object \n",
      " 9   employment_status                    817 non-null    object \n",
      " 10  career_move_to_public_sector         822 non-null    bool   \n",
      " 11  career_move_to_private_sector        822 non-null    bool   \n",
      " 12  interpersonal_conflicts              822 non-null    bool   \n",
      " 13  job_dissatisfaction                  822 non-null    bool   \n",
      " 14  dissatisfaction_with_the_department  822 non-null    bool   \n",
      " 15  physical_work_environment            822 non-null    bool   \n",
      " 16  lack_of_recognition                  822 non-null    bool   \n",
      " 17  lack_of_job_security                 822 non-null    bool   \n",
      " 18  work_location                        822 non-null    bool   \n",
      " 19  employment_conditions                822 non-null    bool   \n",
      " 20  maternity/family                     822 non-null    bool   \n",
      " 21  relocation                           822 non-null    bool   \n",
      " 22  study/travel                         822 non-null    bool   \n",
      " 23  ill_health                           822 non-null    bool   \n",
      " 24  traumatic_incident                   822 non-null    bool   \n",
      " 25  work_life_balance                    822 non-null    bool   \n",
      " 26  workload                             822 non-null    bool   \n",
      " 27  none_of_the_above                    822 non-null    bool   \n",
      " 28  gender                               798 non-null    object \n",
      " 29  age                                  811 non-null    object \n",
      " 30  aboriginal                           16 non-null     object \n",
      " 31  torres_strait                        3 non-null      object \n",
      " 32  south_sea                            7 non-null      object \n",
      " 33  disability                           23 non-null     object \n",
      " 34  nesb                                 32 non-null     object \n",
      "dtypes: bool(18), float64(2), int64(1), object(14)\n",
      "memory usage: 123.8+ KB\n"
     ]
    }
   ],
   "source": [
    "# Replacing spaces between column names with -, and converting all letters to lowercase in DETE dataset\n",
    "dete_updated.columns = dete_updated.columns.str.lower().str.replace(' ', '_')\n",
    "dete_updated.info()"
   ]
  },
  {
   "cell_type": "markdown",
   "id": "8b027d0f",
   "metadata": {},
   "source": [
    "Here's the list of the column names for the TAFE dataset."
   ]
  },
  {
   "cell_type": "code",
   "execution_count": 21,
   "id": "d61f94de",
   "metadata": {},
   "outputs": [
    {
     "data": {
      "text/plain": [
       "Index(['Record ID', 'Institute', 'WorkArea', 'CESSATION YEAR',\n",
       "       'Reason for ceasing employment',\n",
       "       'Contributing Factors. Career Move - Public Sector ',\n",
       "       'Contributing Factors. Career Move - Private Sector ',\n",
       "       'Contributing Factors. Career Move - Self-employment',\n",
       "       'Contributing Factors. Ill Health',\n",
       "       'Contributing Factors. Maternity/Family',\n",
       "       'Contributing Factors. Dissatisfaction',\n",
       "       'Contributing Factors. Job Dissatisfaction',\n",
       "       'Contributing Factors. Interpersonal Conflict',\n",
       "       'Contributing Factors. Study', 'Contributing Factors. Travel',\n",
       "       'Contributing Factors. Other', 'Gender. What is your Gender?',\n",
       "       'CurrentAge. Current Age', 'Employment Type. Employment Type',\n",
       "       'Classification. Classification',\n",
       "       'LengthofServiceOverall. Overall Length of Service at Institute (in years)',\n",
       "       'LengthofServiceCurrent. Length of Service at current workplace (in years)'],\n",
       "      dtype='object')"
      ]
     },
     "execution_count": 21,
     "metadata": {},
     "output_type": "execute_result"
    }
   ],
   "source": [
    "tafe_updated.columns"
   ]
  },
  {
   "cell_type": "markdown",
   "id": "933ba094",
   "metadata": {},
   "source": [
    "Since we don't need all the columns, we will only rename some important ones and leave the rest as is."
   ]
  },
  {
   "cell_type": "code",
   "execution_count": 22,
   "id": "67b71d84",
   "metadata": {},
   "outputs": [
    {
     "name": "stdout",
     "output_type": "stream",
     "text": [
      "<class 'pandas.core.frame.DataFrame'>\n",
      "RangeIndex: 702 entries, 0 to 701\n",
      "Data columns (total 22 columns):\n",
      " #   Column                                               Non-Null Count  Dtype  \n",
      "---  ------                                               --------------  -----  \n",
      " 0   id                                                   702 non-null    float64\n",
      " 1   Institute                                            702 non-null    object \n",
      " 2   WorkArea                                             702 non-null    object \n",
      " 3   cease_date                                           695 non-null    float64\n",
      " 4   separationtype                                       701 non-null    object \n",
      " 5   Contributing Factors. Career Move - Public Sector    437 non-null    object \n",
      " 6   Contributing Factors. Career Move - Private Sector   437 non-null    object \n",
      " 7   Contributing Factors. Career Move - Self-employment  437 non-null    object \n",
      " 8   Contributing Factors. Ill Health                     437 non-null    object \n",
      " 9   Contributing Factors. Maternity/Family               437 non-null    object \n",
      " 10  Contributing Factors. Dissatisfaction                437 non-null    object \n",
      " 11  Contributing Factors. Job Dissatisfaction            437 non-null    object \n",
      " 12  Contributing Factors. Interpersonal Conflict         437 non-null    object \n",
      " 13  Contributing Factors. Study                          437 non-null    object \n",
      " 14  Contributing Factors. Travel                         437 non-null    object \n",
      " 15  Contributing Factors. Other                          437 non-null    object \n",
      " 16  gender                                               596 non-null    object \n",
      " 17  age                                                  596 non-null    object \n",
      " 18  position                                             596 non-null    object \n",
      " 19  classification                                       596 non-null    object \n",
      " 20  institute_service                                    596 non-null    object \n",
      " 21  role_service                                         596 non-null    object \n",
      "dtypes: float64(2), object(20)\n",
      "memory usage: 120.8+ KB\n"
     ]
    }
   ],
   "source": [
    "# Applying column names map to TAFE columns\n",
    "rename_col_map = {'Record ID': 'id', 'CESSATION YEAR': 'cease_date', 'Reason for ceasing employment': 'separationtype',\n",
    "                  'Employment Type. Employment Type': 'position', 'Classification. Classification': 'classification',\n",
    "                  'LengthofServiceOverall. Overall Length of Service at Institute (in years)': 'institute_service',\n",
    "                  'LengthofServiceCurrent. Length of Service at current workplace (in years)': 'role_service',\n",
    "                  'CurrentAge. Current Age': 'age', 'Gender. What is your Gender?': 'gender'\n",
    "                 }\n",
    "tafe_updated = tafe_updated.rename(rename_col_map, axis=1)\n",
    "tafe_updated.info()"
   ]
  },
  {
   "cell_type": "markdown",
   "id": "f8d90354",
   "metadata": {},
   "source": [
    "Above, we can see the new columns."
   ]
  },
  {
   "cell_type": "markdown",
   "id": "9074f45e",
   "metadata": {},
   "source": [
    "## Dropping Redundant Rows"
   ]
  },
  {
   "cell_type": "markdown",
   "id": "f8dd4e2f",
   "metadata": {},
   "source": [
    "For our next step we need to drop redundant rows.\n",
    "\n",
    "For our analysis we only need rows with *Resignation* entries in `separationtype` column in both TAFE and DETE datasets."
   ]
  },
  {
   "cell_type": "code",
   "execution_count": 23,
   "id": "3895648d",
   "metadata": {},
   "outputs": [
    {
     "name": "stdout",
     "output_type": "stream",
     "text": [
      "TAFE dataset:\n",
      " separationtype\n",
      "Resignation                 340\n",
      "Contract Expired            127\n",
      "Retrenchment/ Redundancy    104\n",
      "Retirement                   82\n",
      "Transfer                     25\n",
      "Termination                  23\n",
      "NaN                           1\n",
      "Name: count, dtype: int64\n",
      "\n",
      "DETE dataset:\n",
      " separationtype\n",
      "Age Retirement                          285\n",
      "Resignation-Other reasons               150\n",
      "Resignation-Other employer               91\n",
      "Resignation-Move overseas/interstate     70\n",
      "Voluntary Early Retirement (VER)         67\n",
      "Ill Health Retirement                    61\n",
      "Other                                    49\n",
      "Contract Expired                         34\n",
      "Termination                              15\n",
      "Name: count, dtype: int64\n"
     ]
    }
   ],
   "source": [
    "print('TAFE dataset:\\n', tafe_updated['separationtype'].value_counts(dropna=False))\n",
    "print('\\nDETE dataset:\\n', dete_updated['separationtype'].value_counts(dropna=False))"
   ]
  },
  {
   "cell_type": "markdown",
   "id": "abe2177b",
   "metadata": {},
   "source": [
    "In the DETE dataset we have three different types of resignation *Resignation-Move overseas/interstate*, *Resignation-Other employer* and *Resignation-Other reasons*. We can drop parts after ' - ' and leave only with *Resignation*."
   ]
  },
  {
   "cell_type": "code",
   "execution_count": 24,
   "id": "c3781c7c",
   "metadata": {},
   "outputs": [
    {
     "data": {
      "text/plain": [
       "separationtype\n",
       "Resignation                         311\n",
       "Age Retirement                      285\n",
       "Voluntary Early Retirement (VER)     67\n",
       "Ill Health Retirement                61\n",
       "Other                                49\n",
       "Contract Expired                     34\n",
       "Termination                          15\n",
       "Name: count, dtype: int64"
      ]
     },
     "execution_count": 24,
     "metadata": {},
     "output_type": "execute_result"
    }
   ],
   "source": [
    "# Extract 'Resignation' word in 'separationtype' column in DETE dataset\n",
    "dete_updated['separationtype'] = dete_updated['separationtype'].str.split('-').str[0]\n",
    "dete_updated['separationtype'].value_counts()"
   ]
  },
  {
   "cell_type": "markdown",
   "id": "2fc67355",
   "metadata": {},
   "source": [
    "Now, we are ready to drop unnecessary rows."
   ]
  },
  {
   "cell_type": "code",
   "execution_count": 25,
   "id": "6a99f6e7",
   "metadata": {},
   "outputs": [
    {
     "data": {
      "text/html": [
       "<div>\n",
       "<style scoped>\n",
       "    .dataframe tbody tr th:only-of-type {\n",
       "        vertical-align: middle;\n",
       "    }\n",
       "\n",
       "    .dataframe tbody tr th {\n",
       "        vertical-align: top;\n",
       "    }\n",
       "\n",
       "    .dataframe thead th {\n",
       "        text-align: right;\n",
       "    }\n",
       "</style>\n",
       "<table border=\"1\" class=\"dataframe\">\n",
       "  <thead>\n",
       "    <tr style=\"text-align: right;\">\n",
       "      <th></th>\n",
       "      <th>id</th>\n",
       "      <th>Institute</th>\n",
       "      <th>WorkArea</th>\n",
       "      <th>cease_date</th>\n",
       "      <th>separationtype</th>\n",
       "      <th>Contributing Factors. Career Move - Public Sector</th>\n",
       "      <th>Contributing Factors. Career Move - Private Sector</th>\n",
       "      <th>Contributing Factors. Career Move - Self-employment</th>\n",
       "      <th>Contributing Factors. Ill Health</th>\n",
       "      <th>Contributing Factors. Maternity/Family</th>\n",
       "      <th>...</th>\n",
       "      <th>Contributing Factors. Interpersonal Conflict</th>\n",
       "      <th>Contributing Factors. Study</th>\n",
       "      <th>Contributing Factors. Travel</th>\n",
       "      <th>Contributing Factors. Other</th>\n",
       "      <th>gender</th>\n",
       "      <th>age</th>\n",
       "      <th>position</th>\n",
       "      <th>classification</th>\n",
       "      <th>institute_service</th>\n",
       "      <th>role_service</th>\n",
       "    </tr>\n",
       "  </thead>\n",
       "  <tbody>\n",
       "    <tr>\n",
       "      <th>3</th>\n",
       "      <td>6.341399e+17</td>\n",
       "      <td>Mount Isa Institute of TAFE</td>\n",
       "      <td>Non-Delivery (corporate)</td>\n",
       "      <td>2010.0</td>\n",
       "      <td>Resignation</td>\n",
       "      <td>-</td>\n",
       "      <td>-</td>\n",
       "      <td>-</td>\n",
       "      <td>-</td>\n",
       "      <td>-</td>\n",
       "      <td>...</td>\n",
       "      <td>-</td>\n",
       "      <td>-</td>\n",
       "      <td>Travel</td>\n",
       "      <td>-</td>\n",
       "      <td>NaN</td>\n",
       "      <td>NaN</td>\n",
       "      <td>NaN</td>\n",
       "      <td>NaN</td>\n",
       "      <td>NaN</td>\n",
       "      <td>NaN</td>\n",
       "    </tr>\n",
       "    <tr>\n",
       "      <th>4</th>\n",
       "      <td>6.341466e+17</td>\n",
       "      <td>Southern Queensland Institute of TAFE</td>\n",
       "      <td>Delivery (teaching)</td>\n",
       "      <td>2010.0</td>\n",
       "      <td>Resignation</td>\n",
       "      <td>-</td>\n",
       "      <td>Career Move - Private Sector</td>\n",
       "      <td>-</td>\n",
       "      <td>-</td>\n",
       "      <td>-</td>\n",
       "      <td>...</td>\n",
       "      <td>-</td>\n",
       "      <td>-</td>\n",
       "      <td>-</td>\n",
       "      <td>-</td>\n",
       "      <td>Male</td>\n",
       "      <td>41  45</td>\n",
       "      <td>Permanent Full-time</td>\n",
       "      <td>Teacher (including LVT)</td>\n",
       "      <td>3-4</td>\n",
       "      <td>3-4</td>\n",
       "    </tr>\n",
       "    <tr>\n",
       "      <th>5</th>\n",
       "      <td>6.341475e+17</td>\n",
       "      <td>Southern Queensland Institute of TAFE</td>\n",
       "      <td>Delivery (teaching)</td>\n",
       "      <td>2010.0</td>\n",
       "      <td>Resignation</td>\n",
       "      <td>-</td>\n",
       "      <td>-</td>\n",
       "      <td>-</td>\n",
       "      <td>-</td>\n",
       "      <td>-</td>\n",
       "      <td>...</td>\n",
       "      <td>-</td>\n",
       "      <td>-</td>\n",
       "      <td>-</td>\n",
       "      <td>Other</td>\n",
       "      <td>Female</td>\n",
       "      <td>56 or older</td>\n",
       "      <td>Contract/casual</td>\n",
       "      <td>Teacher (including LVT)</td>\n",
       "      <td>7-10</td>\n",
       "      <td>7-10</td>\n",
       "    </tr>\n",
       "    <tr>\n",
       "      <th>6</th>\n",
       "      <td>6.341520e+17</td>\n",
       "      <td>Barrier Reef Institute of TAFE</td>\n",
       "      <td>Non-Delivery (corporate)</td>\n",
       "      <td>2010.0</td>\n",
       "      <td>Resignation</td>\n",
       "      <td>-</td>\n",
       "      <td>Career Move - Private Sector</td>\n",
       "      <td>-</td>\n",
       "      <td>-</td>\n",
       "      <td>Maternity/Family</td>\n",
       "      <td>...</td>\n",
       "      <td>-</td>\n",
       "      <td>-</td>\n",
       "      <td>-</td>\n",
       "      <td>Other</td>\n",
       "      <td>Male</td>\n",
       "      <td>20 or younger</td>\n",
       "      <td>Temporary Full-time</td>\n",
       "      <td>Administration (AO)</td>\n",
       "      <td>3-4</td>\n",
       "      <td>3-4</td>\n",
       "    </tr>\n",
       "    <tr>\n",
       "      <th>7</th>\n",
       "      <td>6.341537e+17</td>\n",
       "      <td>Southern Queensland Institute of TAFE</td>\n",
       "      <td>Delivery (teaching)</td>\n",
       "      <td>2010.0</td>\n",
       "      <td>Resignation</td>\n",
       "      <td>-</td>\n",
       "      <td>-</td>\n",
       "      <td>-</td>\n",
       "      <td>-</td>\n",
       "      <td>-</td>\n",
       "      <td>...</td>\n",
       "      <td>-</td>\n",
       "      <td>-</td>\n",
       "      <td>-</td>\n",
       "      <td>Other</td>\n",
       "      <td>Male</td>\n",
       "      <td>46  50</td>\n",
       "      <td>Permanent Full-time</td>\n",
       "      <td>Teacher (including LVT)</td>\n",
       "      <td>3-4</td>\n",
       "      <td>3-4</td>\n",
       "    </tr>\n",
       "  </tbody>\n",
       "</table>\n",
       "<p>5 rows × 22 columns</p>\n",
       "</div>"
      ],
      "text/plain": [
       "             id                              Institute  \\\n",
       "3  6.341399e+17            Mount Isa Institute of TAFE   \n",
       "4  6.341466e+17  Southern Queensland Institute of TAFE   \n",
       "5  6.341475e+17  Southern Queensland Institute of TAFE   \n",
       "6  6.341520e+17         Barrier Reef Institute of TAFE   \n",
       "7  6.341537e+17  Southern Queensland Institute of TAFE   \n",
       "\n",
       "                   WorkArea  cease_date separationtype  \\\n",
       "3  Non-Delivery (corporate)      2010.0    Resignation   \n",
       "4       Delivery (teaching)      2010.0    Resignation   \n",
       "5       Delivery (teaching)      2010.0    Resignation   \n",
       "6  Non-Delivery (corporate)      2010.0    Resignation   \n",
       "7       Delivery (teaching)      2010.0    Resignation   \n",
       "\n",
       "  Contributing Factors. Career Move - Public Sector   \\\n",
       "3                                                  -   \n",
       "4                                                  -   \n",
       "5                                                  -   \n",
       "6                                                  -   \n",
       "7                                                  -   \n",
       "\n",
       "  Contributing Factors. Career Move - Private Sector   \\\n",
       "3                                                  -    \n",
       "4                       Career Move - Private Sector    \n",
       "5                                                  -    \n",
       "6                       Career Move - Private Sector    \n",
       "7                                                  -    \n",
       "\n",
       "  Contributing Factors. Career Move - Self-employment  \\\n",
       "3                                                  -    \n",
       "4                                                  -    \n",
       "5                                                  -    \n",
       "6                                                  -    \n",
       "7                                                  -    \n",
       "\n",
       "  Contributing Factors. Ill Health Contributing Factors. Maternity/Family  \\\n",
       "3                                -                                      -   \n",
       "4                                -                                      -   \n",
       "5                                -                                      -   \n",
       "6                                -                       Maternity/Family   \n",
       "7                                -                                      -   \n",
       "\n",
       "   ... Contributing Factors. Interpersonal Conflict  \\\n",
       "3  ...                                            -   \n",
       "4  ...                                            -   \n",
       "5  ...                                            -   \n",
       "6  ...                                            -   \n",
       "7  ...                                            -   \n",
       "\n",
       "  Contributing Factors. Study Contributing Factors. Travel  \\\n",
       "3                           -                       Travel   \n",
       "4                           -                            -   \n",
       "5                           -                            -   \n",
       "6                           -                            -   \n",
       "7                           -                            -   \n",
       "\n",
       "  Contributing Factors. Other  gender            age             position  \\\n",
       "3                           -     NaN            NaN                  NaN   \n",
       "4                           -    Male         41  45  Permanent Full-time   \n",
       "5                       Other  Female    56 or older      Contract/casual   \n",
       "6                       Other    Male  20 or younger  Temporary Full-time   \n",
       "7                       Other    Male         46  50  Permanent Full-time   \n",
       "\n",
       "            classification institute_service role_service  \n",
       "3                      NaN               NaN          NaN  \n",
       "4  Teacher (including LVT)               3-4          3-4  \n",
       "5  Teacher (including LVT)              7-10         7-10  \n",
       "6      Administration (AO)               3-4          3-4  \n",
       "7  Teacher (including LVT)               3-4          3-4  \n",
       "\n",
       "[5 rows x 22 columns]"
      ]
     },
     "execution_count": 25,
     "metadata": {},
     "output_type": "execute_result"
    }
   ],
   "source": [
    "# Create a copy of the TAFE dataset containing only `Resignation` in `separationtype` column in a new variable\n",
    "tafe_resigned = tafe_updated[tafe_updated['separationtype'] == 'Resignation'].copy()\n",
    "tafe_resigned.head()"
   ]
  },
  {
   "cell_type": "code",
   "execution_count": 26,
   "id": "d188fb37",
   "metadata": {},
   "outputs": [
    {
     "data": {
      "text/plain": [
       "separationtype\n",
       "Resignation    340\n",
       "Name: count, dtype: int64"
      ]
     },
     "execution_count": 26,
     "metadata": {},
     "output_type": "execute_result"
    }
   ],
   "source": [
    "tafe_resigned['separationtype'].value_counts(dropna=False)"
   ]
  },
  {
   "cell_type": "markdown",
   "id": "c1fc272f",
   "metadata": {},
   "source": [
    "In TAFE dataset we have 340 `Resignation` entries."
   ]
  },
  {
   "cell_type": "code",
   "execution_count": 27,
   "id": "54ce7e7f",
   "metadata": {},
   "outputs": [
    {
     "data": {
      "text/html": [
       "<div>\n",
       "<style scoped>\n",
       "    .dataframe tbody tr th:only-of-type {\n",
       "        vertical-align: middle;\n",
       "    }\n",
       "\n",
       "    .dataframe tbody tr th {\n",
       "        vertical-align: top;\n",
       "    }\n",
       "\n",
       "    .dataframe thead th {\n",
       "        text-align: right;\n",
       "    }\n",
       "</style>\n",
       "<table border=\"1\" class=\"dataframe\">\n",
       "  <thead>\n",
       "    <tr style=\"text-align: right;\">\n",
       "      <th></th>\n",
       "      <th>id</th>\n",
       "      <th>separationtype</th>\n",
       "      <th>cease_date</th>\n",
       "      <th>dete_start_date</th>\n",
       "      <th>role_start_date</th>\n",
       "      <th>position</th>\n",
       "      <th>classification</th>\n",
       "      <th>region</th>\n",
       "      <th>business_unit</th>\n",
       "      <th>employment_status</th>\n",
       "      <th>...</th>\n",
       "      <th>work_life_balance</th>\n",
       "      <th>workload</th>\n",
       "      <th>none_of_the_above</th>\n",
       "      <th>gender</th>\n",
       "      <th>age</th>\n",
       "      <th>aboriginal</th>\n",
       "      <th>torres_strait</th>\n",
       "      <th>south_sea</th>\n",
       "      <th>disability</th>\n",
       "      <th>nesb</th>\n",
       "    </tr>\n",
       "  </thead>\n",
       "  <tbody>\n",
       "    <tr>\n",
       "      <th>3</th>\n",
       "      <td>4</td>\n",
       "      <td>Resignation</td>\n",
       "      <td>05/2012</td>\n",
       "      <td>2005.0</td>\n",
       "      <td>2006.0</td>\n",
       "      <td>Teacher</td>\n",
       "      <td>Primary</td>\n",
       "      <td>Central Queensland</td>\n",
       "      <td>NaN</td>\n",
       "      <td>Permanent Full-time</td>\n",
       "      <td>...</td>\n",
       "      <td>False</td>\n",
       "      <td>False</td>\n",
       "      <td>False</td>\n",
       "      <td>Female</td>\n",
       "      <td>36-40</td>\n",
       "      <td>NaN</td>\n",
       "      <td>NaN</td>\n",
       "      <td>NaN</td>\n",
       "      <td>NaN</td>\n",
       "      <td>NaN</td>\n",
       "    </tr>\n",
       "    <tr>\n",
       "      <th>5</th>\n",
       "      <td>6</td>\n",
       "      <td>Resignation</td>\n",
       "      <td>05/2012</td>\n",
       "      <td>1994.0</td>\n",
       "      <td>1997.0</td>\n",
       "      <td>Guidance Officer</td>\n",
       "      <td>NaN</td>\n",
       "      <td>Central Office</td>\n",
       "      <td>Education Queensland</td>\n",
       "      <td>Permanent Full-time</td>\n",
       "      <td>...</td>\n",
       "      <td>False</td>\n",
       "      <td>False</td>\n",
       "      <td>False</td>\n",
       "      <td>Female</td>\n",
       "      <td>41-45</td>\n",
       "      <td>NaN</td>\n",
       "      <td>NaN</td>\n",
       "      <td>NaN</td>\n",
       "      <td>NaN</td>\n",
       "      <td>NaN</td>\n",
       "    </tr>\n",
       "    <tr>\n",
       "      <th>8</th>\n",
       "      <td>9</td>\n",
       "      <td>Resignation</td>\n",
       "      <td>07/2012</td>\n",
       "      <td>2009.0</td>\n",
       "      <td>2009.0</td>\n",
       "      <td>Teacher</td>\n",
       "      <td>Secondary</td>\n",
       "      <td>North Queensland</td>\n",
       "      <td>NaN</td>\n",
       "      <td>Permanent Full-time</td>\n",
       "      <td>...</td>\n",
       "      <td>False</td>\n",
       "      <td>False</td>\n",
       "      <td>False</td>\n",
       "      <td>Female</td>\n",
       "      <td>31-35</td>\n",
       "      <td>NaN</td>\n",
       "      <td>NaN</td>\n",
       "      <td>NaN</td>\n",
       "      <td>NaN</td>\n",
       "      <td>NaN</td>\n",
       "    </tr>\n",
       "    <tr>\n",
       "      <th>9</th>\n",
       "      <td>10</td>\n",
       "      <td>Resignation</td>\n",
       "      <td>2012</td>\n",
       "      <td>1997.0</td>\n",
       "      <td>2008.0</td>\n",
       "      <td>Teacher Aide</td>\n",
       "      <td>NaN</td>\n",
       "      <td>NaN</td>\n",
       "      <td>NaN</td>\n",
       "      <td>Permanent Part-time</td>\n",
       "      <td>...</td>\n",
       "      <td>False</td>\n",
       "      <td>False</td>\n",
       "      <td>False</td>\n",
       "      <td>Female</td>\n",
       "      <td>46-50</td>\n",
       "      <td>NaN</td>\n",
       "      <td>NaN</td>\n",
       "      <td>NaN</td>\n",
       "      <td>NaN</td>\n",
       "      <td>NaN</td>\n",
       "    </tr>\n",
       "    <tr>\n",
       "      <th>11</th>\n",
       "      <td>12</td>\n",
       "      <td>Resignation</td>\n",
       "      <td>2012</td>\n",
       "      <td>2009.0</td>\n",
       "      <td>2009.0</td>\n",
       "      <td>Teacher</td>\n",
       "      <td>Secondary</td>\n",
       "      <td>Far North Queensland</td>\n",
       "      <td>NaN</td>\n",
       "      <td>Permanent Full-time</td>\n",
       "      <td>...</td>\n",
       "      <td>False</td>\n",
       "      <td>False</td>\n",
       "      <td>False</td>\n",
       "      <td>Male</td>\n",
       "      <td>31-35</td>\n",
       "      <td>NaN</td>\n",
       "      <td>NaN</td>\n",
       "      <td>NaN</td>\n",
       "      <td>NaN</td>\n",
       "      <td>NaN</td>\n",
       "    </tr>\n",
       "  </tbody>\n",
       "</table>\n",
       "<p>5 rows × 35 columns</p>\n",
       "</div>"
      ],
      "text/plain": [
       "    id separationtype cease_date  dete_start_date  role_start_date  \\\n",
       "3    4    Resignation    05/2012           2005.0           2006.0   \n",
       "5    6    Resignation    05/2012           1994.0           1997.0   \n",
       "8    9    Resignation    07/2012           2009.0           2009.0   \n",
       "9   10    Resignation       2012           1997.0           2008.0   \n",
       "11  12    Resignation       2012           2009.0           2009.0   \n",
       "\n",
       "            position classification                region  \\\n",
       "3            Teacher        Primary    Central Queensland   \n",
       "5   Guidance Officer            NaN        Central Office   \n",
       "8            Teacher      Secondary      North Queensland   \n",
       "9       Teacher Aide            NaN                   NaN   \n",
       "11           Teacher      Secondary  Far North Queensland   \n",
       "\n",
       "           business_unit    employment_status  ...  work_life_balance  \\\n",
       "3                    NaN  Permanent Full-time  ...              False   \n",
       "5   Education Queensland  Permanent Full-time  ...              False   \n",
       "8                    NaN  Permanent Full-time  ...              False   \n",
       "9                    NaN  Permanent Part-time  ...              False   \n",
       "11                   NaN  Permanent Full-time  ...              False   \n",
       "\n",
       "    workload  none_of_the_above  gender    age  aboriginal  torres_strait  \\\n",
       "3      False              False  Female  36-40         NaN            NaN   \n",
       "5      False              False  Female  41-45         NaN            NaN   \n",
       "8      False              False  Female  31-35         NaN            NaN   \n",
       "9      False              False  Female  46-50         NaN            NaN   \n",
       "11     False              False    Male  31-35         NaN            NaN   \n",
       "\n",
       "    south_sea  disability  nesb  \n",
       "3         NaN         NaN   NaN  \n",
       "5         NaN         NaN   NaN  \n",
       "8         NaN         NaN   NaN  \n",
       "9         NaN         NaN   NaN  \n",
       "11        NaN         NaN   NaN  \n",
       "\n",
       "[5 rows x 35 columns]"
      ]
     },
     "execution_count": 27,
     "metadata": {},
     "output_type": "execute_result"
    }
   ],
   "source": [
    "# Creating a copy of the DETE dataset containing only `Resignation` in `separationtype` column in a new variable\n",
    "dete_resigned = dete_updated[dete_updated['separationtype'] == 'Resignation'].copy()\n",
    "dete_resigned.head()"
   ]
  },
  {
   "cell_type": "code",
   "execution_count": 28,
   "id": "c82fb814",
   "metadata": {},
   "outputs": [
    {
     "data": {
      "text/plain": [
       "separationtype\n",
       "Resignation    311\n",
       "Name: count, dtype: int64"
      ]
     },
     "execution_count": 28,
     "metadata": {},
     "output_type": "execute_result"
    }
   ],
   "source": [
    "dete_resigned['separationtype'].value_counts(dropna=False)"
   ]
  },
  {
   "cell_type": "markdown",
   "id": "9472d6f7",
   "metadata": {},
   "source": [
    "In DETE dataset we have 311 `Resignation` entries."
   ]
  },
  {
   "cell_type": "markdown",
   "id": "f9075b8c",
   "metadata": {},
   "source": [
    "## Calculating DETE Institute Service"
   ]
  },
  {
   "cell_type": "markdown",
   "id": "d8541b14",
   "metadata": {},
   "source": [
    "If we take a look at the TAFE dateset columns one more time we will notice `institute_service` column."
   ]
  },
  {
   "cell_type": "code",
   "execution_count": 29,
   "id": "6429313e",
   "metadata": {},
   "outputs": [
    {
     "name": "stdout",
     "output_type": "stream",
     "text": [
      "<class 'pandas.core.frame.DataFrame'>\n",
      "Index: 340 entries, 3 to 701\n",
      "Data columns (total 22 columns):\n",
      " #   Column                                               Non-Null Count  Dtype  \n",
      "---  ------                                               --------------  -----  \n",
      " 0   id                                                   340 non-null    float64\n",
      " 1   Institute                                            340 non-null    object \n",
      " 2   WorkArea                                             340 non-null    object \n",
      " 3   cease_date                                           335 non-null    float64\n",
      " 4   separationtype                                       340 non-null    object \n",
      " 5   Contributing Factors. Career Move - Public Sector    332 non-null    object \n",
      " 6   Contributing Factors. Career Move - Private Sector   332 non-null    object \n",
      " 7   Contributing Factors. Career Move - Self-employment  332 non-null    object \n",
      " 8   Contributing Factors. Ill Health                     332 non-null    object \n",
      " 9   Contributing Factors. Maternity/Family               332 non-null    object \n",
      " 10  Contributing Factors. Dissatisfaction                332 non-null    object \n",
      " 11  Contributing Factors. Job Dissatisfaction            332 non-null    object \n",
      " 12  Contributing Factors. Interpersonal Conflict         332 non-null    object \n",
      " 13  Contributing Factors. Study                          332 non-null    object \n",
      " 14  Contributing Factors. Travel                         332 non-null    object \n",
      " 15  Contributing Factors. Other                          332 non-null    object \n",
      " 16  gender                                               290 non-null    object \n",
      " 17  age                                                  290 non-null    object \n",
      " 18  position                                             290 non-null    object \n",
      " 19  classification                                       290 non-null    object \n",
      " 20  institute_service                                    290 non-null    object \n",
      " 21  role_service                                         290 non-null    object \n",
      "dtypes: float64(2), object(20)\n",
      "memory usage: 61.1+ KB\n"
     ]
    }
   ],
   "source": [
    "tafe_resigned.info()"
   ]
  },
  {
   "cell_type": "code",
   "execution_count": 30,
   "id": "1dcd8a7a",
   "metadata": {},
   "outputs": [
    {
     "data": {
      "text/plain": [
       "institute_service\n",
       "Less than 1 year      73\n",
       "1-2                   64\n",
       "3-4                   63\n",
       "5-6                   33\n",
       "11-20                 26\n",
       "7-10                  21\n",
       "More than 20 years    10\n",
       "Name: count, dtype: int64"
      ]
     },
     "execution_count": 30,
     "metadata": {},
     "output_type": "execute_result"
    }
   ],
   "source": [
    "tafe_resigned['institute_service'].value_counts()"
   ]
  },
  {
   "cell_type": "markdown",
   "id": "763a1b74",
   "metadata": {},
   "source": [
    "In this column, we have data about how long employee has worked here.\n",
    "\n",
    "As alternative, in DETE dataset we have `dete_start_date` and `cease_date` columns. We can calculate how long employee has worked at the DETE and put that data in a new column."
   ]
  },
  {
   "cell_type": "code",
   "execution_count": 31,
   "id": "4af9d300",
   "metadata": {},
   "outputs": [
    {
     "name": "stdout",
     "output_type": "stream",
     "text": [
      "<class 'pandas.core.frame.DataFrame'>\n",
      "Index: 311 entries, 3 to 821\n",
      "Data columns (total 35 columns):\n",
      " #   Column                               Non-Null Count  Dtype  \n",
      "---  ------                               --------------  -----  \n",
      " 0   id                                   311 non-null    int64  \n",
      " 1   separationtype                       311 non-null    object \n",
      " 2   cease_date                           300 non-null    object \n",
      " 3   dete_start_date                      283 non-null    float64\n",
      " 4   role_start_date                      271 non-null    float64\n",
      " 5   position                             308 non-null    object \n",
      " 6   classification                       161 non-null    object \n",
      " 7   region                               265 non-null    object \n",
      " 8   business_unit                        32 non-null     object \n",
      " 9   employment_status                    307 non-null    object \n",
      " 10  career_move_to_public_sector         311 non-null    bool   \n",
      " 11  career_move_to_private_sector        311 non-null    bool   \n",
      " 12  interpersonal_conflicts              311 non-null    bool   \n",
      " 13  job_dissatisfaction                  311 non-null    bool   \n",
      " 14  dissatisfaction_with_the_department  311 non-null    bool   \n",
      " 15  physical_work_environment            311 non-null    bool   \n",
      " 16  lack_of_recognition                  311 non-null    bool   \n",
      " 17  lack_of_job_security                 311 non-null    bool   \n",
      " 18  work_location                        311 non-null    bool   \n",
      " 19  employment_conditions                311 non-null    bool   \n",
      " 20  maternity/family                     311 non-null    bool   \n",
      " 21  relocation                           311 non-null    bool   \n",
      " 22  study/travel                         311 non-null    bool   \n",
      " 23  ill_health                           311 non-null    bool   \n",
      " 24  traumatic_incident                   311 non-null    bool   \n",
      " 25  work_life_balance                    311 non-null    bool   \n",
      " 26  workload                             311 non-null    bool   \n",
      " 27  none_of_the_above                    311 non-null    bool   \n",
      " 28  gender                               302 non-null    object \n",
      " 29  age                                  306 non-null    object \n",
      " 30  aboriginal                           7 non-null      object \n",
      " 31  torres_strait                        0 non-null      object \n",
      " 32  south_sea                            3 non-null      object \n",
      " 33  disability                           8 non-null      object \n",
      " 34  nesb                                 9 non-null      object \n",
      "dtypes: bool(18), float64(2), int64(1), object(14)\n",
      "memory usage: 49.2+ KB\n"
     ]
    }
   ],
   "source": [
    "dete_resigned.info()"
   ]
  },
  {
   "cell_type": "markdown",
   "id": "cda2c27e",
   "metadata": {},
   "source": [
    "Let's take a look at the `cease_date` and `dete_start_date` columns."
   ]
  },
  {
   "cell_type": "code",
   "execution_count": 32,
   "id": "c8d8d1e2",
   "metadata": {},
   "outputs": [
    {
     "data": {
      "text/plain": [
       "cease_date\n",
       "2012       126\n",
       "2013        74\n",
       "01/2014     22\n",
       "12/2013     17\n",
       "06/2013     14\n",
       "NaN         11\n",
       "09/2013     11\n",
       "07/2013      9\n",
       "11/2013      9\n",
       "10/2013      6\n",
       "08/2013      4\n",
       "05/2012      2\n",
       "05/2013      2\n",
       "09/2010      1\n",
       "07/2012      1\n",
       "2010         1\n",
       "07/2006      1\n",
       "Name: count, dtype: int64"
      ]
     },
     "execution_count": 32,
     "metadata": {},
     "output_type": "execute_result"
    }
   ],
   "source": [
    "dete_resigned['cease_date'].value_counts(dropna=False)"
   ]
  },
  {
   "cell_type": "markdown",
   "id": "2b489976",
   "metadata": {},
   "source": [
    "We can see here that some entries have month alongside with year."
   ]
  },
  {
   "cell_type": "code",
   "execution_count": 33,
   "id": "5a4bc2ab",
   "metadata": {},
   "outputs": [
    {
     "data": {
      "text/plain": [
       "dete_start_date\n",
       "NaN       28\n",
       "2011.0    24\n",
       "2008.0    22\n",
       "2012.0    21\n",
       "2007.0    21\n",
       "2010.0    17\n",
       "2005.0    15\n",
       "2004.0    14\n",
       "2006.0    13\n",
       "2009.0    13\n",
       "2013.0    10\n",
       "2000.0     9\n",
       "1999.0     8\n",
       "1994.0     6\n",
       "2003.0     6\n",
       "1992.0     6\n",
       "1996.0     6\n",
       "1998.0     6\n",
       "2002.0     6\n",
       "1990.0     5\n",
       "1997.0     5\n",
       "1980.0     5\n",
       "1993.0     5\n",
       "1989.0     4\n",
       "1991.0     4\n",
       "1988.0     4\n",
       "1995.0     4\n",
       "1986.0     3\n",
       "2001.0     3\n",
       "1985.0     3\n",
       "1983.0     2\n",
       "1976.0     2\n",
       "1974.0     2\n",
       "1975.0     1\n",
       "1984.0     1\n",
       "1971.0     1\n",
       "1982.0     1\n",
       "1972.0     1\n",
       "1963.0     1\n",
       "1977.0     1\n",
       "1973.0     1\n",
       "1987.0     1\n",
       "Name: count, dtype: int64"
      ]
     },
     "execution_count": 33,
     "metadata": {},
     "output_type": "execute_result"
    }
   ],
   "source": [
    "dete_resigned['dete_start_date'].value_counts(dropna=False)"
   ]
  },
  {
   "cell_type": "markdown",
   "id": "69ac3732",
   "metadata": {},
   "source": [
    "For the `dete_start_date` column we have only 22 `NaN` entires. All the other data is good for the calculations.\n",
    "\n",
    "But before start our calculations we need to remove months in `cease_date` column. We also need to convert `datatype` to `float`."
   ]
  },
  {
   "cell_type": "code",
   "execution_count": 34,
   "id": "c89ac1e5",
   "metadata": {},
   "outputs": [
    {
     "data": {
      "text/plain": [
       "cease_date\n",
       "2013.0    146\n",
       "2012.0    129\n",
       "2014.0     22\n",
       "NaN        11\n",
       "2010.0      2\n",
       "2006.0      1\n",
       "Name: count, dtype: int64"
      ]
     },
     "execution_count": 34,
     "metadata": {},
     "output_type": "execute_result"
    }
   ],
   "source": [
    "# In DETE dataset, extract the year from the `cease_date` column and covert the value to float\n",
    "dete_resigned['cease_date'] = dete_resigned['cease_date'].str.split('/').str[-1].astype(float)\n",
    "dete_resigned['cease_date'].value_counts(dropna=False)"
   ]
  },
  {
   "cell_type": "markdown",
   "id": "5d840477",
   "metadata": {},
   "source": [
    "Below, we can see a new column in DETE dataset `institute_service` with many entries in it. It is quite different from the `institute_service` column in the TAFE dataset, but we don't have to worry about that."
   ]
  },
  {
   "cell_type": "code",
   "execution_count": 35,
   "id": "2c027ffd",
   "metadata": {},
   "outputs": [
    {
     "data": {
      "text/plain": [
       "institute_service\n",
       "NaN     38\n",
       "5.0     23\n",
       "1.0     22\n",
       "3.0     20\n",
       "0.0     20\n",
       "6.0     17\n",
       "4.0     16\n",
       "9.0     14\n",
       "2.0     14\n",
       "7.0     13\n",
       "13.0     8\n",
       "8.0      8\n",
       "20.0     7\n",
       "15.0     7\n",
       "17.0     6\n",
       "10.0     6\n",
       "22.0     6\n",
       "14.0     6\n",
       "12.0     6\n",
       "18.0     5\n",
       "16.0     5\n",
       "24.0     4\n",
       "11.0     4\n",
       "23.0     4\n",
       "21.0     3\n",
       "19.0     3\n",
       "39.0     3\n",
       "32.0     3\n",
       "25.0     2\n",
       "28.0     2\n",
       "26.0     2\n",
       "36.0     2\n",
       "30.0     2\n",
       "34.0     1\n",
       "29.0     1\n",
       "27.0     1\n",
       "42.0     1\n",
       "33.0     1\n",
       "41.0     1\n",
       "49.0     1\n",
       "35.0     1\n",
       "38.0     1\n",
       "31.0     1\n",
       "Name: count, dtype: int64"
      ]
     },
     "execution_count": 35,
     "metadata": {},
     "output_type": "execute_result"
    }
   ],
   "source": [
    "# Subtract `dete_start_date` from `cease_date` and store the values in the new `institute_service` column in DETE dataset\n",
    "dete_resigned['institute_service'] = dete_resigned['cease_date'] - dete_resigned['dete_start_date']\n",
    "dete_resigned['institute_service'].value_counts(dropna=False)"
   ]
  },
  {
   "cell_type": "markdown",
   "id": "aa97232c",
   "metadata": {},
   "source": [
    "## Counting Dissatisfied Resignments"
   ]
  },
  {
   "cell_type": "markdown",
   "id": "cac83bf6",
   "metadata": {},
   "source": [
    "Now, we are going to split resignments in two groups - satisfied and dissatisfied.\n",
    "\n",
    "In the TAFE dataset, we have two columns that we can use to find out if an employee resigns due to dissatisfaction. The first column is `Contributing Factors. Dissatisfaction` and the second column is `Contributing Factors. Job Dissatisfaction`."
   ]
  },
  {
   "cell_type": "code",
   "execution_count": 36,
   "id": "7ecd77be",
   "metadata": {},
   "outputs": [
    {
     "name": "stdout",
     "output_type": "stream",
     "text": [
      "<class 'pandas.core.frame.DataFrame'>\n",
      "Index: 340 entries, 3 to 701\n",
      "Data columns (total 22 columns):\n",
      " #   Column                                               Non-Null Count  Dtype  \n",
      "---  ------                                               --------------  -----  \n",
      " 0   id                                                   340 non-null    float64\n",
      " 1   Institute                                            340 non-null    object \n",
      " 2   WorkArea                                             340 non-null    object \n",
      " 3   cease_date                                           335 non-null    float64\n",
      " 4   separationtype                                       340 non-null    object \n",
      " 5   Contributing Factors. Career Move - Public Sector    332 non-null    object \n",
      " 6   Contributing Factors. Career Move - Private Sector   332 non-null    object \n",
      " 7   Contributing Factors. Career Move - Self-employment  332 non-null    object \n",
      " 8   Contributing Factors. Ill Health                     332 non-null    object \n",
      " 9   Contributing Factors. Maternity/Family               332 non-null    object \n",
      " 10  Contributing Factors. Dissatisfaction                332 non-null    object \n",
      " 11  Contributing Factors. Job Dissatisfaction            332 non-null    object \n",
      " 12  Contributing Factors. Interpersonal Conflict         332 non-null    object \n",
      " 13  Contributing Factors. Study                          332 non-null    object \n",
      " 14  Contributing Factors. Travel                         332 non-null    object \n",
      " 15  Contributing Factors. Other                          332 non-null    object \n",
      " 16  gender                                               290 non-null    object \n",
      " 17  age                                                  290 non-null    object \n",
      " 18  position                                             290 non-null    object \n",
      " 19  classification                                       290 non-null    object \n",
      " 20  institute_service                                    290 non-null    object \n",
      " 21  role_service                                         290 non-null    object \n",
      "dtypes: float64(2), object(20)\n",
      "memory usage: 61.1+ KB\n"
     ]
    }
   ],
   "source": [
    "tafe_resigned.info()"
   ]
  },
  {
   "cell_type": "markdown",
   "id": "74eae49b",
   "metadata": {},
   "source": [
    "Let's look at the values in these two columns."
   ]
  },
  {
   "cell_type": "code",
   "execution_count": 37,
   "id": "9428586e",
   "metadata": {},
   "outputs": [
    {
     "name": "stdout",
     "output_type": "stream",
     "text": [
      "Contributing Factors. Dissatisfaction\n",
      "-                                         277\n",
      "Contributing Factors. Dissatisfaction      55\n",
      "NaN                                         8\n",
      "Name: count, dtype: int64\n",
      "Contributing Factors. Job Dissatisfaction\n",
      "-                      270\n",
      "Job Dissatisfaction     62\n",
      "NaN                      8\n",
      "Name: count, dtype: int64\n"
     ]
    }
   ],
   "source": [
    "print(tafe_resigned['Contributing Factors. Dissatisfaction'].value_counts(dropna=False))\n",
    "print(tafe_resigned['Contributing Factors. Job Dissatisfaction'].value_counts(dropna=False))"
   ]
  },
  {
   "cell_type": "markdown",
   "id": "d9c8272a",
   "metadata": {},
   "source": [
    "We have three different values in these two columns *Contributing Factors. Dissatisfaction*, *Job Dissatisfaction* and ' - '. We will convert these values to more readable `True` and `False` values. For `True` values we will use *Contributing Factors. Dissatisfaction* and *Job Dissatisfaction* enties. For `False` values we will use ' - ' entries."
   ]
  },
  {
   "cell_type": "code",
   "execution_count": 38,
   "id": "17f3db85",
   "metadata": {},
   "outputs": [],
   "source": [
    "# Function that converts null values to NaN, `-` symbol to `False` and all other values to `True`\n",
    "def update_val(val):\n",
    "    if pd.isnull(val):\n",
    "        return np.nan\n",
    "    elif val == '-':\n",
    "        return False\n",
    "    else:\n",
    "        return True"
   ]
  },
  {
   "cell_type": "code",
   "execution_count": 39,
   "id": "cd788f4f",
   "metadata": {},
   "outputs": [
    {
     "name": "stdout",
     "output_type": "stream",
     "text": [
      "Contributing Factors. Dissatisfaction\n",
      "False    277\n",
      "True      55\n",
      "NaN        8\n",
      "Name: count, dtype: int64\n",
      "Contributing Factors. Job Dissatisfaction\n",
      "False    270\n",
      "True      62\n",
      "NaN        8\n",
      "Name: count, dtype: int64\n"
     ]
    }
   ],
   "source": [
    "tafe_resigned[tafe_resigned.columns[10:12]] = tafe_resigned[tafe_resigned.columns[10:12]].applymap(update_val)\n",
    "print(tafe_resigned['Contributing Factors. Dissatisfaction'].value_counts(dropna=False))\n",
    "print(tafe_resigned['Contributing Factors. Job Dissatisfaction'].value_counts(dropna=False))"
   ]
  },
  {
   "cell_type": "markdown",
   "id": "dff9e204",
   "metadata": {},
   "source": [
    "Now we have only `True` and `False` values in `Contributing Factors. Dissatisfaction` and `Contributing Factors. Job Dissatisfaction` columns. \n",
    "\n",
    "Let's create new column `dissatisfied`. Here we will store data on whether dissatisfaction was the reason for resignation. To do so, we will look at the two columns `Contributing Factors. Dissatisfaction` and `Contributing Factors. Job Dissatisfaction`, if either of these two columns is `True` we will store `True` in `dissatisfied` column. In other case, we will store `False`."
   ]
  },
  {
   "cell_type": "code",
   "execution_count": 40,
   "id": "157c7457",
   "metadata": {},
   "outputs": [
    {
     "data": {
      "text/plain": [
       "dissatisfied\n",
       "False    241\n",
       "True      99\n",
       "Name: count, dtype: int64"
      ]
     },
     "execution_count": 40,
     "metadata": {},
     "output_type": "execute_result"
    }
   ],
   "source": [
    "# Store `True` and `False` values in a new column `dissatisfied` based on 10 and 11 columns in TAFE dataset\n",
    "tafe_resigned['dissatisfied'] = tafe_resigned[tafe_resigned.columns[10:12]].any(axis=1, skipna=False)\n",
    "tafe_resigned_up = tafe_resigned.copy()\n",
    "tafe_resigned_up['dissatisfied'].value_counts(dropna=False)"
   ]
  },
  {
   "cell_type": "markdown",
   "id": "95e78d5c",
   "metadata": {},
   "source": [
    "After our manipulation with the data, we have 99 employees who resigned due to dissatisfaction and 241 employees who resigned for other reasons.\n",
    "\n",
    "Now, let's split resignments for DETE dataset."
   ]
  },
  {
   "cell_type": "code",
   "execution_count": 41,
   "id": "2e281d6b",
   "metadata": {},
   "outputs": [
    {
     "name": "stdout",
     "output_type": "stream",
     "text": [
      "<class 'pandas.core.frame.DataFrame'>\n",
      "Index: 311 entries, 3 to 821\n",
      "Data columns (total 36 columns):\n",
      " #   Column                               Non-Null Count  Dtype  \n",
      "---  ------                               --------------  -----  \n",
      " 0   id                                   311 non-null    int64  \n",
      " 1   separationtype                       311 non-null    object \n",
      " 2   cease_date                           300 non-null    float64\n",
      " 3   dete_start_date                      283 non-null    float64\n",
      " 4   role_start_date                      271 non-null    float64\n",
      " 5   position                             308 non-null    object \n",
      " 6   classification                       161 non-null    object \n",
      " 7   region                               265 non-null    object \n",
      " 8   business_unit                        32 non-null     object \n",
      " 9   employment_status                    307 non-null    object \n",
      " 10  career_move_to_public_sector         311 non-null    bool   \n",
      " 11  career_move_to_private_sector        311 non-null    bool   \n",
      " 12  interpersonal_conflicts              311 non-null    bool   \n",
      " 13  job_dissatisfaction                  311 non-null    bool   \n",
      " 14  dissatisfaction_with_the_department  311 non-null    bool   \n",
      " 15  physical_work_environment            311 non-null    bool   \n",
      " 16  lack_of_recognition                  311 non-null    bool   \n",
      " 17  lack_of_job_security                 311 non-null    bool   \n",
      " 18  work_location                        311 non-null    bool   \n",
      " 19  employment_conditions                311 non-null    bool   \n",
      " 20  maternity/family                     311 non-null    bool   \n",
      " 21  relocation                           311 non-null    bool   \n",
      " 22  study/travel                         311 non-null    bool   \n",
      " 23  ill_health                           311 non-null    bool   \n",
      " 24  traumatic_incident                   311 non-null    bool   \n",
      " 25  work_life_balance                    311 non-null    bool   \n",
      " 26  workload                             311 non-null    bool   \n",
      " 27  none_of_the_above                    311 non-null    bool   \n",
      " 28  gender                               302 non-null    object \n",
      " 29  age                                  306 non-null    object \n",
      " 30  aboriginal                           7 non-null      object \n",
      " 31  torres_strait                        0 non-null      object \n",
      " 32  south_sea                            3 non-null      object \n",
      " 33  disability                           8 non-null      object \n",
      " 34  nesb                                 9 non-null      object \n",
      " 35  institute_service                    273 non-null    float64\n",
      "dtypes: bool(18), float64(4), int64(1), object(13)\n",
      "memory usage: 51.6+ KB\n"
     ]
    }
   ],
   "source": [
    "dete_resigned.info()"
   ]
  },
  {
   "cell_type": "markdown",
   "id": "a8f47789",
   "metadata": {},
   "source": [
    "Here we have many more columns to work with compared to the TAFE dataset. We will use `job_dissatisfaction`, `dissatisfaction_with_the_department`, `physical_work_environment`, `lack_of_recognition`, `lack_of_job_security`, `work_location`, `employment_conditions`, `work_life_balance` and `workload` columns. They are already `bool` `datatype`. It mean that they store only `True` or `False` values. We can look at one of the columns to confirm this."
   ]
  },
  {
   "cell_type": "code",
   "execution_count": 42,
   "id": "084a4e4f",
   "metadata": {},
   "outputs": [
    {
     "data": {
      "text/plain": [
       "job_dissatisfaction\n",
       "False    270\n",
       "True      41\n",
       "Name: count, dtype: int64"
      ]
     },
     "execution_count": 42,
     "metadata": {},
     "output_type": "execute_result"
    }
   ],
   "source": [
    "dete_resigned['job_dissatisfaction'].value_counts(dropna=False)"
   ]
  },
  {
   "cell_type": "markdown",
   "id": "a5123b93",
   "metadata": {},
   "source": [
    "Now, let's create `dissatisfied` column and store data on whether dissatisfaction was the reason for resignation."
   ]
  },
  {
   "cell_type": "code",
   "execution_count": 43,
   "id": "9e4e3535",
   "metadata": {},
   "outputs": [
    {
     "data": {
      "text/plain": [
       "dissatisfied\n",
       "False    162\n",
       "True     149\n",
       "Name: count, dtype: int64"
      ]
     },
     "execution_count": 43,
     "metadata": {},
     "output_type": "execute_result"
    }
   ],
   "source": [
    "# Store `True` and `False` values in a new column `dissatisfied` based on columns 13, 14, 15, 16, 17, 18, 19, 25 and 26 in DETE dataset\n",
    "dete_resigned['dissatisfied'] = dete_resigned.iloc[:, [13,14,15,16,17,18,19,25,26]].any(axis=1, skipna=False)\n",
    "dete_resigned_up = dete_resigned.copy()\n",
    "dete_resigned_up['dissatisfied'].value_counts(dropna=False)"
   ]
  },
  {
   "cell_type": "markdown",
   "id": "18fdda0e",
   "metadata": {},
   "source": [
    "After our manipulation with the data, we have 149 employees who resigned due to dissatisfaction and 162 employees who resigned for other reasons."
   ]
  },
  {
   "cell_type": "markdown",
   "id": "c4df92ed",
   "metadata": {},
   "source": [
    "## Cleaning Age Columns"
   ]
  },
  {
   "cell_type": "markdown",
   "id": "675e3fb3",
   "metadata": {},
   "source": [
    "One of the questions that we'll have to answer is 'Are younger employees resigning due to some kind of dissatisfaction?'. So we need to look at the `age` columns for both TAFE and DETE datasets. Let's take a look at the values in these columns."
   ]
  },
  {
   "cell_type": "code",
   "execution_count": 44,
   "id": "256807dc",
   "metadata": {},
   "outputs": [
    {
     "name": "stdout",
     "output_type": "stream",
     "text": [
      "TAFE dataset:\n",
      " age\n",
      "NaN              50\n",
      "41  45           45\n",
      "46  50           39\n",
      "51-55            39\n",
      "21  25           33\n",
      "36  40           32\n",
      "31  35           32\n",
      "26  30           32\n",
      "56 or older      29\n",
      "20 or younger     9\n",
      "Name: count, dtype: int64\n",
      "\n",
      "DETE dataset:\n",
      " age\n",
      "41-45            48\n",
      "46-50            42\n",
      "36-40            41\n",
      "26-30            35\n",
      "51-55            32\n",
      "31-35            29\n",
      "21-25            29\n",
      "56-60            26\n",
      "61 or older      23\n",
      "NaN               5\n",
      "20 or younger     1\n",
      "Name: count, dtype: int64\n"
     ]
    }
   ],
   "source": [
    "print('TAFE dataset:\\n', tafe_resigned_up['age'].value_counts(dropna=False))\n",
    "print('\\nDETE dataset:\\n', dete_resigned_up['age'].value_counts(dropna=False))"
   ]
  },
  {
   "cell_type": "markdown",
   "id": "2a68dcf4",
   "metadata": {},
   "source": [
    "We can see that these columns different from each other. In TAFE dataset, there are whitespaces between numbers and also *56 or older* values. In DETE dataset we have *61 or older* values that not in TAFE dataset. We have to change this.\n",
    "\n",
    "Let's start with TAFE dataset. We need to remove whitespaces between numbers and place ' - ' instead."
   ]
  },
  {
   "cell_type": "code",
   "execution_count": 45,
   "id": "26def8cf",
   "metadata": {},
   "outputs": [
    {
     "data": {
      "text/plain": [
       "age\n",
       "NaN              50\n",
       "41-45            45\n",
       "46-50            39\n",
       "51-55            39\n",
       "21-25            33\n",
       "36-40            32\n",
       "31-35            32\n",
       "26-30            32\n",
       "56 or older      29\n",
       "20 or younger     9\n",
       "Name: count, dtype: int64"
      ]
     },
     "execution_count": 45,
     "metadata": {},
     "output_type": "execute_result"
    }
   ],
   "source": [
    "# Convert spaces between ages with -\n",
    "tafe_resigned_up['age'] = tafe_resigned_up['age'].str.replace(r'\\s+', '-', regex=True).str.replace('-or-', ' or ')\n",
    "tafe_resigned_up['age'].value_counts(dropna=False)"
   ]
  },
  {
   "cell_type": "markdown",
   "id": "4d95f777",
   "metadata": {},
   "source": [
    "Now our values in TAFE dataset looks a lot better.\n",
    "\n",
    "Let's continue our cleaning. For DETE dataset we already have ' - ' between numbers. All that we need to change is *56-60* and *61 or older* entries. We will change them in *56 or older* values so we have same values in both TAFE and DETE datasets."
   ]
  },
  {
   "cell_type": "code",
   "execution_count": 46,
   "id": "21beefbc",
   "metadata": {},
   "outputs": [
    {
     "data": {
      "text/plain": [
       "age\n",
       "56 or older      49\n",
       "41-45            48\n",
       "46-50            42\n",
       "36-40            41\n",
       "26-30            35\n",
       "51-55            32\n",
       "31-35            29\n",
       "21-25            29\n",
       "NaN               5\n",
       "20 or younger     1\n",
       "Name: count, dtype: int64"
      ]
     },
     "execution_count": 46,
     "metadata": {},
     "output_type": "execute_result"
    }
   ],
   "source": [
    "# Convert `56-60` and `61 or older` ages to `56 or older`\n",
    "dete_resigned_up['age'] = dete_resigned_up['age'].str.replace('61 or older', '56 or older').str.replace('56-60', '56 or older')\n",
    "dete_resigned_up['age'].value_counts(dropna=False)"
   ]
  },
  {
   "cell_type": "markdown",
   "id": "b6b3a053",
   "metadata": {},
   "source": [
    "## Cleaning Institute Service Columns"
   ]
  },
  {
   "cell_type": "markdown",
   "id": "569adcb9",
   "metadata": {},
   "source": [
    "Our next step is to clean `institute service` for both TAFE and DETE datasets.\n",
    "\n",
    "Here's `institute_service` column in TAFE dataset."
   ]
  },
  {
   "cell_type": "code",
   "execution_count": 47,
   "id": "2b86ea5c",
   "metadata": {},
   "outputs": [
    {
     "data": {
      "text/plain": [
       "institute_service\n",
       "Less than 1 year      73\n",
       "1-2                   64\n",
       "3-4                   63\n",
       "NaN                   50\n",
       "5-6                   33\n",
       "11-20                 26\n",
       "7-10                  21\n",
       "More than 20 years    10\n",
       "Name: count, dtype: int64"
      ]
     },
     "execution_count": 47,
     "metadata": {},
     "output_type": "execute_result"
    }
   ],
   "source": [
    "tafe_resigned_up['institute_service'].value_counts(dropna=False)"
   ]
  },
  {
   "cell_type": "markdown",
   "id": "d6b766b4",
   "metadata": {},
   "source": [
    "Here we have many groups like *1-2*, *2-3*, *11-20* etc.\n",
    "\n",
    "Now, let's take a look at the `institute_service` column in DETE dataset."
   ]
  },
  {
   "cell_type": "code",
   "execution_count": 48,
   "id": "7cce46b9",
   "metadata": {},
   "outputs": [
    {
     "data": {
      "text/plain": [
       "institute_service\n",
       "NaN     38\n",
       "5.0     23\n",
       "1.0     22\n",
       "3.0     20\n",
       "0.0     20\n",
       "6.0     17\n",
       "4.0     16\n",
       "9.0     14\n",
       "2.0     14\n",
       "7.0     13\n",
       "13.0     8\n",
       "8.0      8\n",
       "20.0     7\n",
       "15.0     7\n",
       "17.0     6\n",
       "10.0     6\n",
       "22.0     6\n",
       "14.0     6\n",
       "12.0     6\n",
       "18.0     5\n",
       "16.0     5\n",
       "24.0     4\n",
       "11.0     4\n",
       "23.0     4\n",
       "21.0     3\n",
       "19.0     3\n",
       "39.0     3\n",
       "32.0     3\n",
       "25.0     2\n",
       "28.0     2\n",
       "26.0     2\n",
       "36.0     2\n",
       "30.0     2\n",
       "34.0     1\n",
       "29.0     1\n",
       "27.0     1\n",
       "42.0     1\n",
       "33.0     1\n",
       "41.0     1\n",
       "49.0     1\n",
       "35.0     1\n",
       "38.0     1\n",
       "31.0     1\n",
       "Name: count, dtype: int64"
      ]
     },
     "execution_count": 48,
     "metadata": {},
     "output_type": "execute_result"
    }
   ],
   "source": [
    "dete_resigned_up['institute_service'].value_counts(dropna=False)"
   ]
  },
  {
   "cell_type": "markdown",
   "id": "2b79f70f",
   "metadata": {},
   "source": [
    "Here we have many years without groups.\n",
    "\n",
    "To clean these two columns we'll create new column `service_cat` and split values into 4 categories. *New* for employees who worked less than 3 years at a company. *Experienced* for employees who worked 3-6 years at a company. *Established* for employees who worked 7-10 years at a company. *Veteran* for employees who worked 11 or more years at a company.\n",
    "\n",
    "But first, we have to extract numbers from `institute_service` column in TAFE dataset and convert it to `float`."
   ]
  },
  {
   "cell_type": "code",
   "execution_count": 49,
   "id": "9dc2f358",
   "metadata": {},
   "outputs": [],
   "source": [
    "tafe_resigned_up['institute_service'] = tafe_resigned_up['institute_service'].str.extract(r'(\\d+)').astype(float)"
   ]
  },
  {
   "cell_type": "markdown",
   "id": "c2ae7383",
   "metadata": {},
   "source": [
    "Now we are ready to create `service_cat` column and store values here."
   ]
  },
  {
   "cell_type": "code",
   "execution_count": 50,
   "id": "b2f8cddf",
   "metadata": {},
   "outputs": [],
   "source": [
    "# Convert integer value to category based on condition\n",
    "def year_to_career_stage_map(year):\n",
    "    if pd.isnull(year):\n",
    "        return np.nan\n",
    "    elif year < 3:\n",
    "        return 'New'\n",
    "    elif year < 7:\n",
    "        return 'Experienced'\n",
    "    elif year < 11:\n",
    "        return 'Established'\n",
    "    else:\n",
    "        return 'Veteran'"
   ]
  },
  {
   "cell_type": "code",
   "execution_count": 51,
   "id": "93332d74",
   "metadata": {},
   "outputs": [],
   "source": [
    "tafe_resigned_up['service_cat'] = tafe_resigned_up['institute_service'].apply(year_to_career_stage_map)\n",
    "dete_resigned_up['service_cat'] = dete_resigned_up['institute_service'].apply(year_to_career_stage_map)"
   ]
  },
  {
   "cell_type": "code",
   "execution_count": 52,
   "id": "12500536",
   "metadata": {},
   "outputs": [
    {
     "name": "stdout",
     "output_type": "stream",
     "text": [
      "TAFE dataset:\n",
      " service_cat\n",
      "New            137\n",
      "Experienced     96\n",
      "NaN             50\n",
      "Veteran         36\n",
      "Established     21\n",
      "Name: count, dtype: int64\n",
      "\n",
      "DETE dataset:\n",
      " service_cat\n",
      "Veteran        100\n",
      "Experienced     76\n",
      "New             56\n",
      "Established     41\n",
      "NaN             38\n",
      "Name: count, dtype: int64\n"
     ]
    }
   ],
   "source": [
    "print('TAFE dataset:\\n', tafe_resigned_up['service_cat'].value_counts(dropna=False))\n",
    "print('\\nDETE dataset:\\n', dete_resigned_up['service_cat'].value_counts(dropna=False))"
   ]
  },
  {
   "cell_type": "markdown",
   "id": "51cb21a9",
   "metadata": {},
   "source": [
    "After our manipulations with the data we can see the following results:\n",
    "\n",
    "In TAFE dataset we have 137 *New* employees, 96 *Experienced* employees, 21 *Established* employees and 36 *Veteran* employees.\n",
    "\n",
    "In DETE dataset we have 56 *New* employees, 76 *Experienced* employees, 41 *Established* employees and 100 *Veteran* employees."
   ]
  },
  {
   "cell_type": "markdown",
   "id": "ad342bdd",
   "metadata": {},
   "source": [
    "## Creating Clean TAFE and DETE datasets"
   ]
  },
  {
   "cell_type": "markdown",
   "id": "b0da1da4",
   "metadata": {},
   "source": [
    "In this section, we will make final changes to the original datasets. We will remove the remaining redundant columns, as well as rows with empty values.\n",
    "\n",
    "Let's take a look at the TAFE dataset information again to refresh our memory."
   ]
  },
  {
   "cell_type": "code",
   "execution_count": 53,
   "id": "c6d30429",
   "metadata": {},
   "outputs": [
    {
     "name": "stdout",
     "output_type": "stream",
     "text": [
      "<class 'pandas.core.frame.DataFrame'>\n",
      "Index: 340 entries, 3 to 701\n",
      "Data columns (total 24 columns):\n",
      " #   Column                                               Non-Null Count  Dtype  \n",
      "---  ------                                               --------------  -----  \n",
      " 0   id                                                   340 non-null    float64\n",
      " 1   Institute                                            340 non-null    object \n",
      " 2   WorkArea                                             340 non-null    object \n",
      " 3   cease_date                                           335 non-null    float64\n",
      " 4   separationtype                                       340 non-null    object \n",
      " 5   Contributing Factors. Career Move - Public Sector    332 non-null    object \n",
      " 6   Contributing Factors. Career Move - Private Sector   332 non-null    object \n",
      " 7   Contributing Factors. Career Move - Self-employment  332 non-null    object \n",
      " 8   Contributing Factors. Ill Health                     332 non-null    object \n",
      " 9   Contributing Factors. Maternity/Family               332 non-null    object \n",
      " 10  Contributing Factors. Dissatisfaction                332 non-null    object \n",
      " 11  Contributing Factors. Job Dissatisfaction            332 non-null    object \n",
      " 12  Contributing Factors. Interpersonal Conflict         332 non-null    object \n",
      " 13  Contributing Factors. Study                          332 non-null    object \n",
      " 14  Contributing Factors. Travel                         332 non-null    object \n",
      " 15  Contributing Factors. Other                          332 non-null    object \n",
      " 16  gender                                               290 non-null    object \n",
      " 17  age                                                  290 non-null    object \n",
      " 18  position                                             290 non-null    object \n",
      " 19  classification                                       290 non-null    object \n",
      " 20  institute_service                                    290 non-null    float64\n",
      " 21  role_service                                         290 non-null    object \n",
      " 22  dissatisfied                                         340 non-null    bool   \n",
      " 23  service_cat                                          290 non-null    object \n",
      "dtypes: bool(1), float64(3), object(20)\n",
      "memory usage: 64.1+ KB\n"
     ]
    }
   ],
   "source": [
    "tafe_resigned_up.info()"
   ]
  },
  {
   "cell_type": "markdown",
   "id": "8911e444",
   "metadata": {},
   "source": [
    "We will drop columns starting from `Contributing Factors. Career Move - Public Sector` all the way up to `Contributing Factors. Other`. We also drop all rows that contain empty values in any of the `age` or `service_cat` columns."
   ]
  },
  {
   "cell_type": "code",
   "execution_count": 54,
   "id": "87212de5",
   "metadata": {},
   "outputs": [
    {
     "name": "stdout",
     "output_type": "stream",
     "text": [
      "<class 'pandas.core.frame.DataFrame'>\n",
      "Index: 290 entries, 4 to 701\n",
      "Data columns (total 13 columns):\n",
      " #   Column             Non-Null Count  Dtype  \n",
      "---  ------             --------------  -----  \n",
      " 0   id                 290 non-null    float64\n",
      " 1   Institute          290 non-null    object \n",
      " 2   WorkArea           290 non-null    object \n",
      " 3   cease_date         288 non-null    float64\n",
      " 4   separationtype     290 non-null    object \n",
      " 5   gender             290 non-null    object \n",
      " 6   age                290 non-null    object \n",
      " 7   position           290 non-null    object \n",
      " 8   classification     290 non-null    object \n",
      " 9   institute_service  290 non-null    float64\n",
      " 10  role_service       290 non-null    object \n",
      " 11  dissatisfied       290 non-null    bool   \n",
      " 12  service_cat        290 non-null    object \n",
      "dtypes: bool(1), float64(3), object(9)\n",
      "memory usage: 29.7+ KB\n"
     ]
    }
   ],
   "source": [
    "# Create a copy of the TAFE dataset in a new variable\n",
    "tafe_resigned_clean = tafe_resigned_up.copy()\n",
    "# Drop columns by index\n",
    "tafe_resigned_clean = tafe_resigned_up.drop(tafe_resigned_up.columns[5:16], axis=1)\n",
    "# Drop rows if any value in `age` and `service_cat` column is NaN\n",
    "tafe_resigned_clean = tafe_resigned_clean.dropna(axis=0, subset=['age', 'service_cat'], how='any')\n",
    "tafe_resigned_clean.info()"
   ]
  },
  {
   "cell_type": "markdown",
   "id": "5f1adaed",
   "metadata": {},
   "source": [
    "After cleaning, we are left with 290 entries in all columns. We lost about 14% of the data, but this will not have much effect on the results of our analysis in the future.\n",
    "\n",
    "Now, let's complete all the steps above again but for DETE dataset."
   ]
  },
  {
   "cell_type": "code",
   "execution_count": 55,
   "id": "3bd59810",
   "metadata": {},
   "outputs": [
    {
     "name": "stdout",
     "output_type": "stream",
     "text": [
      "<class 'pandas.core.frame.DataFrame'>\n",
      "Index: 311 entries, 3 to 821\n",
      "Data columns (total 38 columns):\n",
      " #   Column                               Non-Null Count  Dtype  \n",
      "---  ------                               --------------  -----  \n",
      " 0   id                                   311 non-null    int64  \n",
      " 1   separationtype                       311 non-null    object \n",
      " 2   cease_date                           300 non-null    float64\n",
      " 3   dete_start_date                      283 non-null    float64\n",
      " 4   role_start_date                      271 non-null    float64\n",
      " 5   position                             308 non-null    object \n",
      " 6   classification                       161 non-null    object \n",
      " 7   region                               265 non-null    object \n",
      " 8   business_unit                        32 non-null     object \n",
      " 9   employment_status                    307 non-null    object \n",
      " 10  career_move_to_public_sector         311 non-null    bool   \n",
      " 11  career_move_to_private_sector        311 non-null    bool   \n",
      " 12  interpersonal_conflicts              311 non-null    bool   \n",
      " 13  job_dissatisfaction                  311 non-null    bool   \n",
      " 14  dissatisfaction_with_the_department  311 non-null    bool   \n",
      " 15  physical_work_environment            311 non-null    bool   \n",
      " 16  lack_of_recognition                  311 non-null    bool   \n",
      " 17  lack_of_job_security                 311 non-null    bool   \n",
      " 18  work_location                        311 non-null    bool   \n",
      " 19  employment_conditions                311 non-null    bool   \n",
      " 20  maternity/family                     311 non-null    bool   \n",
      " 21  relocation                           311 non-null    bool   \n",
      " 22  study/travel                         311 non-null    bool   \n",
      " 23  ill_health                           311 non-null    bool   \n",
      " 24  traumatic_incident                   311 non-null    bool   \n",
      " 25  work_life_balance                    311 non-null    bool   \n",
      " 26  workload                             311 non-null    bool   \n",
      " 27  none_of_the_above                    311 non-null    bool   \n",
      " 28  gender                               302 non-null    object \n",
      " 29  age                                  306 non-null    object \n",
      " 30  aboriginal                           7 non-null      object \n",
      " 31  torres_strait                        0 non-null      object \n",
      " 32  south_sea                            3 non-null      object \n",
      " 33  disability                           8 non-null      object \n",
      " 34  nesb                                 9 non-null      object \n",
      " 35  institute_service                    273 non-null    float64\n",
      " 36  dissatisfied                         311 non-null    bool   \n",
      " 37  service_cat                          273 non-null    object \n",
      "dtypes: bool(19), float64(4), int64(1), object(14)\n",
      "memory usage: 54.4+ KB\n"
     ]
    }
   ],
   "source": [
    "dete_resigned_up.info()"
   ]
  },
  {
   "cell_type": "markdown",
   "id": "269ec221",
   "metadata": {},
   "source": [
    "In this dataset, we will drop columns starting from `role_start_date` all the way up to `none_of_the_above`. And also we drop columns starting from `aboriginal` up to `nesb`.\n",
    "\n",
    "We also drop all rows with empty values in any of the `age` or `service_cat` columns."
   ]
  },
  {
   "cell_type": "code",
   "execution_count": 56,
   "id": "13423d78",
   "metadata": {},
   "outputs": [
    {
     "name": "stdout",
     "output_type": "stream",
     "text": [
      "<class 'pandas.core.frame.DataFrame'>\n",
      "Index: 271 entries, 3 to 819\n",
      "Data columns (total 9 columns):\n",
      " #   Column             Non-Null Count  Dtype  \n",
      "---  ------             --------------  -----  \n",
      " 0   id                 271 non-null    int64  \n",
      " 1   separationtype     271 non-null    object \n",
      " 2   cease_date         271 non-null    float64\n",
      " 3   dete_start_date    271 non-null    float64\n",
      " 4   gender             266 non-null    object \n",
      " 5   age                271 non-null    object \n",
      " 6   institute_service  271 non-null    float64\n",
      " 7   dissatisfied       271 non-null    bool   \n",
      " 8   service_cat        271 non-null    object \n",
      "dtypes: bool(1), float64(3), int64(1), object(4)\n",
      "memory usage: 19.3+ KB\n"
     ]
    }
   ],
   "source": [
    "# Create a copy of the DETE dataset\n",
    "dete_resigned_clean = dete_resigned_up.copy()\n",
    "# Drop columns by index\n",
    "dete_resigned_clean = dete_resigned_clean.drop(dete_resigned_clean.columns[4:28], axis=1)\n",
    "dete_resigned_clean = dete_resigned_clean.drop(dete_resigned_clean.columns[6:11], axis=1)\n",
    "# Drop rows if any value in `age` and `service_cat` column is NaN\n",
    "dete_resigned_clean = dete_resigned_clean.dropna(axis=0, subset=['age', 'service_cat'], how='any')\n",
    "dete_resigned_clean.info()"
   ]
  },
  {
   "cell_type": "markdown",
   "id": "913a66bd",
   "metadata": {},
   "source": [
    "In the DETE dataset, after cleaning, we have 271 entries in all columns except the `gender` column. Here we also lose about 14% of the data, but it still won't affect our analysis much."
   ]
  },
  {
   "cell_type": "markdown",
   "id": "a3db14d6",
   "metadata": {},
   "source": [
    "## Combining Datasets"
   ]
  },
  {
   "cell_type": "markdown",
   "id": "c4208d3b",
   "metadata": {},
   "source": [
    "For the final step we have to combine two datasets together. Let's first create `institute` column for both DETE and TAFE dataset with the values `TAFE` and `DETE` to avoid confusion in the merged dataset."
   ]
  },
  {
   "cell_type": "code",
   "execution_count": 57,
   "id": "5157b6a0",
   "metadata": {},
   "outputs": [],
   "source": [
    "# Create new column `institute` with `DETE` or `TAFE` value based on institute\n",
    "dete_resigned_clean['institute'] = 'DETE'\n",
    "tafe_resigned_clean['institute'] = 'TAFE'"
   ]
  },
  {
   "cell_type": "markdown",
   "id": "3462c721",
   "metadata": {},
   "source": [
    "And now, let's merge two datasets together."
   ]
  },
  {
   "cell_type": "code",
   "execution_count": 58,
   "id": "3b1d5dfd",
   "metadata": {},
   "outputs": [
    {
     "data": {
      "text/html": [
       "<div>\n",
       "<style scoped>\n",
       "    .dataframe tbody tr th:only-of-type {\n",
       "        vertical-align: middle;\n",
       "    }\n",
       "\n",
       "    .dataframe tbody tr th {\n",
       "        vertical-align: top;\n",
       "    }\n",
       "\n",
       "    .dataframe thead th {\n",
       "        text-align: right;\n",
       "    }\n",
       "</style>\n",
       "<table border=\"1\" class=\"dataframe\">\n",
       "  <thead>\n",
       "    <tr style=\"text-align: right;\">\n",
       "      <th></th>\n",
       "      <th>id</th>\n",
       "      <th>separationtype</th>\n",
       "      <th>cease_date</th>\n",
       "      <th>dete_start_date</th>\n",
       "      <th>gender</th>\n",
       "      <th>age</th>\n",
       "      <th>institute_service</th>\n",
       "      <th>dissatisfied</th>\n",
       "      <th>service_cat</th>\n",
       "      <th>institute</th>\n",
       "      <th>Institute</th>\n",
       "      <th>WorkArea</th>\n",
       "      <th>position</th>\n",
       "      <th>classification</th>\n",
       "      <th>role_service</th>\n",
       "    </tr>\n",
       "  </thead>\n",
       "  <tbody>\n",
       "    <tr>\n",
       "      <th>0</th>\n",
       "      <td>4.000000e+00</td>\n",
       "      <td>Resignation</td>\n",
       "      <td>2012.0</td>\n",
       "      <td>2005.0</td>\n",
       "      <td>Female</td>\n",
       "      <td>36-40</td>\n",
       "      <td>7.0</td>\n",
       "      <td>False</td>\n",
       "      <td>Established</td>\n",
       "      <td>DETE</td>\n",
       "      <td>NaN</td>\n",
       "      <td>NaN</td>\n",
       "      <td>NaN</td>\n",
       "      <td>NaN</td>\n",
       "      <td>NaN</td>\n",
       "    </tr>\n",
       "    <tr>\n",
       "      <th>1</th>\n",
       "      <td>6.000000e+00</td>\n",
       "      <td>Resignation</td>\n",
       "      <td>2012.0</td>\n",
       "      <td>1994.0</td>\n",
       "      <td>Female</td>\n",
       "      <td>41-45</td>\n",
       "      <td>18.0</td>\n",
       "      <td>True</td>\n",
       "      <td>Veteran</td>\n",
       "      <td>DETE</td>\n",
       "      <td>NaN</td>\n",
       "      <td>NaN</td>\n",
       "      <td>NaN</td>\n",
       "      <td>NaN</td>\n",
       "      <td>NaN</td>\n",
       "    </tr>\n",
       "    <tr>\n",
       "      <th>2</th>\n",
       "      <td>9.000000e+00</td>\n",
       "      <td>Resignation</td>\n",
       "      <td>2012.0</td>\n",
       "      <td>2009.0</td>\n",
       "      <td>Female</td>\n",
       "      <td>31-35</td>\n",
       "      <td>3.0</td>\n",
       "      <td>False</td>\n",
       "      <td>Experienced</td>\n",
       "      <td>DETE</td>\n",
       "      <td>NaN</td>\n",
       "      <td>NaN</td>\n",
       "      <td>NaN</td>\n",
       "      <td>NaN</td>\n",
       "      <td>NaN</td>\n",
       "    </tr>\n",
       "    <tr>\n",
       "      <th>3</th>\n",
       "      <td>1.000000e+01</td>\n",
       "      <td>Resignation</td>\n",
       "      <td>2012.0</td>\n",
       "      <td>1997.0</td>\n",
       "      <td>Female</td>\n",
       "      <td>46-50</td>\n",
       "      <td>15.0</td>\n",
       "      <td>True</td>\n",
       "      <td>Veteran</td>\n",
       "      <td>DETE</td>\n",
       "      <td>NaN</td>\n",
       "      <td>NaN</td>\n",
       "      <td>NaN</td>\n",
       "      <td>NaN</td>\n",
       "      <td>NaN</td>\n",
       "    </tr>\n",
       "    <tr>\n",
       "      <th>4</th>\n",
       "      <td>1.200000e+01</td>\n",
       "      <td>Resignation</td>\n",
       "      <td>2012.0</td>\n",
       "      <td>2009.0</td>\n",
       "      <td>Male</td>\n",
       "      <td>31-35</td>\n",
       "      <td>3.0</td>\n",
       "      <td>False</td>\n",
       "      <td>Experienced</td>\n",
       "      <td>DETE</td>\n",
       "      <td>NaN</td>\n",
       "      <td>NaN</td>\n",
       "      <td>NaN</td>\n",
       "      <td>NaN</td>\n",
       "      <td>NaN</td>\n",
       "    </tr>\n",
       "    <tr>\n",
       "      <th>...</th>\n",
       "      <td>...</td>\n",
       "      <td>...</td>\n",
       "      <td>...</td>\n",
       "      <td>...</td>\n",
       "      <td>...</td>\n",
       "      <td>...</td>\n",
       "      <td>...</td>\n",
       "      <td>...</td>\n",
       "      <td>...</td>\n",
       "      <td>...</td>\n",
       "      <td>...</td>\n",
       "      <td>...</td>\n",
       "      <td>...</td>\n",
       "      <td>...</td>\n",
       "      <td>...</td>\n",
       "    </tr>\n",
       "    <tr>\n",
       "      <th>556</th>\n",
       "      <td>6.350599e+17</td>\n",
       "      <td>Resignation</td>\n",
       "      <td>2013.0</td>\n",
       "      <td>NaN</td>\n",
       "      <td>Female</td>\n",
       "      <td>26-30</td>\n",
       "      <td>1.0</td>\n",
       "      <td>False</td>\n",
       "      <td>New</td>\n",
       "      <td>TAFE</td>\n",
       "      <td>Tropical North Institute of TAFE</td>\n",
       "      <td>Non-Delivery (corporate)</td>\n",
       "      <td>Temporary Full-time</td>\n",
       "      <td>Administration (AO)</td>\n",
       "      <td>1-2</td>\n",
       "    </tr>\n",
       "    <tr>\n",
       "      <th>557</th>\n",
       "      <td>6.350660e+17</td>\n",
       "      <td>Resignation</td>\n",
       "      <td>2013.0</td>\n",
       "      <td>NaN</td>\n",
       "      <td>Male</td>\n",
       "      <td>21-25</td>\n",
       "      <td>5.0</td>\n",
       "      <td>False</td>\n",
       "      <td>Experienced</td>\n",
       "      <td>TAFE</td>\n",
       "      <td>Southern Queensland Institute of TAFE</td>\n",
       "      <td>Non-Delivery (corporate)</td>\n",
       "      <td>Temporary Full-time</td>\n",
       "      <td>Operational (OO)</td>\n",
       "      <td>5-6</td>\n",
       "    </tr>\n",
       "    <tr>\n",
       "      <th>558</th>\n",
       "      <td>6.350668e+17</td>\n",
       "      <td>Resignation</td>\n",
       "      <td>2013.0</td>\n",
       "      <td>NaN</td>\n",
       "      <td>Male</td>\n",
       "      <td>51-55</td>\n",
       "      <td>1.0</td>\n",
       "      <td>False</td>\n",
       "      <td>New</td>\n",
       "      <td>TAFE</td>\n",
       "      <td>Barrier Reef Institute of TAFE</td>\n",
       "      <td>Delivery (teaching)</td>\n",
       "      <td>Temporary Full-time</td>\n",
       "      <td>Teacher (including LVT)</td>\n",
       "      <td>1-2</td>\n",
       "    </tr>\n",
       "    <tr>\n",
       "      <th>559</th>\n",
       "      <td>6.350704e+17</td>\n",
       "      <td>Resignation</td>\n",
       "      <td>2013.0</td>\n",
       "      <td>NaN</td>\n",
       "      <td>Female</td>\n",
       "      <td>51-55</td>\n",
       "      <td>5.0</td>\n",
       "      <td>False</td>\n",
       "      <td>Experienced</td>\n",
       "      <td>TAFE</td>\n",
       "      <td>Tropical North Institute of TAFE</td>\n",
       "      <td>Delivery (teaching)</td>\n",
       "      <td>Permanent Full-time</td>\n",
       "      <td>Teacher (including LVT)</td>\n",
       "      <td>1-2</td>\n",
       "    </tr>\n",
       "    <tr>\n",
       "      <th>560</th>\n",
       "      <td>6.350730e+17</td>\n",
       "      <td>Resignation</td>\n",
       "      <td>2013.0</td>\n",
       "      <td>NaN</td>\n",
       "      <td>Female</td>\n",
       "      <td>26-30</td>\n",
       "      <td>3.0</td>\n",
       "      <td>False</td>\n",
       "      <td>Experienced</td>\n",
       "      <td>TAFE</td>\n",
       "      <td>Tropical North Institute of TAFE</td>\n",
       "      <td>Non-Delivery (corporate)</td>\n",
       "      <td>Contract/casual</td>\n",
       "      <td>Administration (AO)</td>\n",
       "      <td>1-2</td>\n",
       "    </tr>\n",
       "  </tbody>\n",
       "</table>\n",
       "<p>561 rows × 15 columns</p>\n",
       "</div>"
      ],
      "text/plain": [
       "               id separationtype  cease_date  dete_start_date  gender    age  \\\n",
       "0    4.000000e+00    Resignation      2012.0           2005.0  Female  36-40   \n",
       "1    6.000000e+00    Resignation      2012.0           1994.0  Female  41-45   \n",
       "2    9.000000e+00    Resignation      2012.0           2009.0  Female  31-35   \n",
       "3    1.000000e+01    Resignation      2012.0           1997.0  Female  46-50   \n",
       "4    1.200000e+01    Resignation      2012.0           2009.0    Male  31-35   \n",
       "..            ...            ...         ...              ...     ...    ...   \n",
       "556  6.350599e+17    Resignation      2013.0              NaN  Female  26-30   \n",
       "557  6.350660e+17    Resignation      2013.0              NaN    Male  21-25   \n",
       "558  6.350668e+17    Resignation      2013.0              NaN    Male  51-55   \n",
       "559  6.350704e+17    Resignation      2013.0              NaN  Female  51-55   \n",
       "560  6.350730e+17    Resignation      2013.0              NaN  Female  26-30   \n",
       "\n",
       "     institute_service  dissatisfied  service_cat institute  \\\n",
       "0                  7.0         False  Established      DETE   \n",
       "1                 18.0          True      Veteran      DETE   \n",
       "2                  3.0         False  Experienced      DETE   \n",
       "3                 15.0          True      Veteran      DETE   \n",
       "4                  3.0         False  Experienced      DETE   \n",
       "..                 ...           ...          ...       ...   \n",
       "556                1.0         False          New      TAFE   \n",
       "557                5.0         False  Experienced      TAFE   \n",
       "558                1.0         False          New      TAFE   \n",
       "559                5.0         False  Experienced      TAFE   \n",
       "560                3.0         False  Experienced      TAFE   \n",
       "\n",
       "                                 Institute                  WorkArea  \\\n",
       "0                                      NaN                       NaN   \n",
       "1                                      NaN                       NaN   \n",
       "2                                      NaN                       NaN   \n",
       "3                                      NaN                       NaN   \n",
       "4                                      NaN                       NaN   \n",
       "..                                     ...                       ...   \n",
       "556       Tropical North Institute of TAFE  Non-Delivery (corporate)   \n",
       "557  Southern Queensland Institute of TAFE  Non-Delivery (corporate)   \n",
       "558         Barrier Reef Institute of TAFE       Delivery (teaching)   \n",
       "559       Tropical North Institute of TAFE       Delivery (teaching)   \n",
       "560       Tropical North Institute of TAFE  Non-Delivery (corporate)   \n",
       "\n",
       "                position           classification role_service  \n",
       "0                    NaN                      NaN          NaN  \n",
       "1                    NaN                      NaN          NaN  \n",
       "2                    NaN                      NaN          NaN  \n",
       "3                    NaN                      NaN          NaN  \n",
       "4                    NaN                      NaN          NaN  \n",
       "..                   ...                      ...          ...  \n",
       "556  Temporary Full-time      Administration (AO)          1-2  \n",
       "557  Temporary Full-time         Operational (OO)          5-6  \n",
       "558  Temporary Full-time  Teacher (including LVT)          1-2  \n",
       "559  Permanent Full-time  Teacher (including LVT)          1-2  \n",
       "560      Contract/casual      Administration (AO)          1-2  \n",
       "\n",
       "[561 rows x 15 columns]"
      ]
     },
     "execution_count": 58,
     "metadata": {},
     "output_type": "execute_result"
    }
   ],
   "source": [
    "combined = pd.concat([dete_resigned_clean, tafe_resigned_clean], ignore_index=True)\n",
    "combined"
   ]
  },
  {
   "cell_type": "markdown",
   "id": "61b8ede3",
   "metadata": {},
   "source": [
    "To make the merged dataset cleaner, let's drop all the columns with less then 500 filled entries."
   ]
  },
  {
   "cell_type": "code",
   "execution_count": 59,
   "id": "4fbce278",
   "metadata": {},
   "outputs": [
    {
     "name": "stdout",
     "output_type": "stream",
     "text": [
      "<class 'pandas.core.frame.DataFrame'>\n",
      "RangeIndex: 561 entries, 0 to 560\n",
      "Data columns (total 9 columns):\n",
      " #   Column             Non-Null Count  Dtype  \n",
      "---  ------             --------------  -----  \n",
      " 0   id                 561 non-null    float64\n",
      " 1   separationtype     561 non-null    object \n",
      " 2   cease_date         559 non-null    float64\n",
      " 3   gender             556 non-null    object \n",
      " 4   age                561 non-null    object \n",
      " 5   institute_service  561 non-null    float64\n",
      " 6   dissatisfied       561 non-null    bool   \n",
      " 7   service_cat        561 non-null    object \n",
      " 8   institute          561 non-null    object \n",
      "dtypes: bool(1), float64(3), object(5)\n",
      "memory usage: 35.7+ KB\n"
     ]
    }
   ],
   "source": [
    "# Drop all rows with less than 500 non-null values and store a copy of that dataset in a new variable\n",
    "combined_cleaned = combined.dropna(thresh=500, axis=1).copy()\n",
    "combined_cleaned.info()"
   ]
  },
  {
   "cell_type": "markdown",
   "id": "d65ee10a",
   "metadata": {},
   "source": [
    "Now our dataset clean and ready for analysis."
   ]
  },
  {
   "cell_type": "markdown",
   "id": "934c3750",
   "metadata": {},
   "source": [
    "<a id='analysis'></a>\n",
    "# Data Analysis & Visualization"
   ]
  },
  {
   "cell_type": "markdown",
   "id": "7999fefa",
   "metadata": {},
   "source": [
    "## Resignations Due to Dissatisfaction by Career Stage"
   ]
  },
  {
   "cell_type": "markdown",
   "id": "a7bc2483",
   "metadata": {},
   "source": [
    "The first question we want to answer is: Are employees who only work for the institutes for a short period of time resigning due to some kind of dissatisfaction? What about employees who have been there longer?\n",
    "\n",
    "To answer this question let's take a look at the chart below."
   ]
  },
  {
   "cell_type": "code",
   "execution_count": 60,
   "id": "aa61a3bb",
   "metadata": {},
   "outputs": [],
   "source": [
    "# Calculate mean value of dissatisfied employees grouped by service category\n",
    "service_cat_pivot = combined_cleaned.pivot_table('dissatisfied', 'service_cat')"
   ]
  },
  {
   "cell_type": "code",
   "execution_count": 61,
   "id": "6dca4ef7",
   "metadata": {},
   "outputs": [
    {
     "data": {
      "image/png": "[encoded data removed]",
      "text/plain": [
       "<Figure size 640x480 with 1 Axes>"
      ]
     },
     "metadata": {},
     "output_type": "display_data"
    }
   ],
   "source": [
    "style.use('fivethirtyeight')\n",
    "\n",
    "fig, ax = plt.subplots()\n",
    "ax.bar(service_cat_pivot.index, service_cat_pivot['dissatisfied'])\n",
    "\n",
    "# Title\n",
    "ax.text(-1.3, 1.05, '50% Of Employees Who Have Worked at the DATE or TAFE\\nfor More Than 6 Years Resigned Due to Dissatisfaction',\n",
    "        fontsize=16, fontweight='bold')\n",
    "\n",
    "ax.grid(visible=False)\n",
    "\n",
    "# y ticks\n",
    "ax.set_ylim(0,1)\n",
    "\n",
    "ax.set_yticklabels([])\n",
    "ax.text(-0.9, -0.02, '0%', alpha=0.5)\n",
    "ax.text(-0.9, 0.48, '50%', alpha=0.5)\n",
    "ax.text(-0.9, 0.98, '100%', alpha=0.5)\n",
    "\n",
    "# x ticks\n",
    "ax.set_xticklabels([])\n",
    "ax.text(-0.42, -0.1, '7-11 years\\nin company', alpha=0.7)\n",
    "ax.text(0.6, -0.1, '3-6 years\\nin company', alpha=0.7)\n",
    "ax.text(1.6, -0.1, '< 3 years\\nin company', alpha=0.7)\n",
    "ax.text(2.6, -0.1, '> 11 years\\nin company', alpha=0.7)\n",
    "\n",
    "ax.axhline(0.5, linewidth=1, color='red')\n",
    "\n",
    "# Watermark\n",
    "ax.text(-1.3, -0.2, '©feelingcxld' + ' ' * 41 + 'Source: TAFE and DETE exit surveys',\n",
    "        backgroundcolor='#353739', color='#f3f6f4')\n",
    "\n",
    "plt.show()"
   ]
  },
  {
   "cell_type": "code",
   "execution_count": 62,
   "id": "facd5107",
   "metadata": {},
   "outputs": [
    {
     "name": "stdout",
     "output_type": "stream",
     "text": [
      "51.6% of established employees resign due to dissatisfaction.\n",
      "34.3% of experienced employees resign due to dissatisfaction.\n",
      "29.7% of new employees resign due to dissatisfaction.\n",
      "48.9% of veteran employees resign due to dissatisfaction.\n",
      "The average percentage of resignments due to dissatisfaction is about 41.1%\n"
     ]
    }
   ],
   "source": [
    "# Store index value from `service_cat_pivot` in `i` and value from `service_cat_pivot` in `val`\n",
    "# Return f-string with percentage of resignation due to dissatisfaction\n",
    "for i, val in zip(service_cat_pivot.index, service_cat_pivot['dissatisfied']):\n",
    "    print(f'{val*100:.3}% of {i.lower()} employees resign due to dissatisfaction.')\n",
    "\n",
    "# Calculate mean value from `service_cat_pivot` values and print mean value in percentage \n",
    "mean_service_cat_dissatisfaction = service_cat_pivot.mean()['dissatisfied']\n",
    "print(f'The average percentage of resignments due to dissatisfaction is about {mean_service_cat_dissatisfaction*100:.3}%')"
   ]
  },
  {
   "cell_type": "markdown",
   "id": "9b416dc5",
   "metadata": {},
   "source": [
    "We can see that employees who have worked at the TAFE or DETE for more than 6 years are more likely to resign due to dissatisfaction. Employees who worked at the TAFE or DETE for less than 7 years are more likely to resign for other reasons."
   ]
  },
  {
   "cell_type": "markdown",
   "id": "48289cbe",
   "metadata": {},
   "source": [
    "## Resignations Due to Dissatisfaction by Age Group"
   ]
  },
  {
   "cell_type": "markdown",
   "id": "627f9575",
   "metadata": {},
   "source": [
    "Our second question that we are going to answer is: Are younger employees resigning due to some kind of dissatisfaction? What about older employees?\n",
    "\n",
    "To answer this question let's take a look at the chart below."
   ]
  },
  {
   "cell_type": "code",
   "execution_count": 63,
   "id": "8336ba39",
   "metadata": {},
   "outputs": [],
   "source": [
    "# Calculate mean value of dissatisfied employees grouped by age\n",
    "age_pivot = combined_cleaned.pivot_table('dissatisfied', 'age')"
   ]
  },
  {
   "cell_type": "code",
   "execution_count": 64,
   "id": "2ac34ff6",
   "metadata": {
    "scrolled": false
   },
   "outputs": [
    {
     "data": {
      "image/png": "[encoded data removed]",
      "text/plain": [
       "<Figure size 640x480 with 1 Axes>"
      ]
     },
     "metadata": {},
     "output_type": "display_data"
    }
   ],
   "source": [
    "fig, ax = plt.subplots()\n",
    "ax.barh(age_pivot.index, age_pivot['dissatisfied'])\n",
    "\n",
    "# Title\n",
    "ax.text(-0.24, 9, 'Employees Over the Age of 26 Are More Likely to Resign\\nDue to Dissatisfaction',\n",
    "        fontsize=16, fontweight='bold')\n",
    "\n",
    "ax.grid(visible=False)\n",
    "\n",
    "# x ticks\n",
    "ax.set_xlim(0,1)\n",
    "\n",
    "ax.set_xticklabels([])\n",
    "ax.text(-0.02, -1.35, '0%', alpha=0.5)\n",
    "ax.text(0.47, -1.35, '50%', alpha=0.5)\n",
    "ax.text(0.96, -1.35, '100%', alpha=0.5)\n",
    "\n",
    "# y ticks\n",
    "ax.set_yticklabels([])\n",
    "ax.text(-0.26, -0.2, '20 or younger', alpha=0.5)\n",
    "ax.text(-0.2, 7.8, '56 or older', alpha=0.5)\n",
    "# Place age from `21-25` to `51-55` on y ticks\n",
    "for age, ycoord in zip(age_pivot.index[1:-1], range(1,8)):\n",
    "    ax.text(-0.11, ycoord-0.2, age, alpha=0.5)\n",
    "\n",
    "ax.axvline(0.38, ymin=0.21, color='red', linewidth=50, alpha=0.1)\n",
    "\n",
    "# Watermark\n",
    "ax.text(-0.26, -2.3, '©feelingcxld' + ' ' * 42 + 'Source: TAFE and DETE exit surveys',\n",
    "        backgroundcolor='#353739', color='#f3f6f4')\n",
    "\n",
    "plt.show()"
   ]
  },
  {
   "cell_type": "code",
   "execution_count": 65,
   "id": "6bdc7007",
   "metadata": {},
   "outputs": [
    {
     "name": "stdout",
     "output_type": "stream",
     "text": [
      "Employees aged 20 or younger resign due to dissatisfaction 20.0% of the time.\n",
      "Employees aged 21-25 resign due to dissatisfaction 28.8% of the time.\n",
      "Employees aged 26-30 resign due to dissatisfaction 41.3% of the time.\n",
      "Employees aged 31-35 resign due to dissatisfaction 37.7% of the time.\n",
      "Employees aged 36-40 resign due to dissatisfaction 35.3% of the time.\n",
      "Employees aged 41-45 resign due to dissatisfaction 39.3% of the time.\n",
      "Employees aged 46-50 resign due to dissatisfaction 39.7% of the time.\n",
      "Employees aged 51-55 resign due to dissatisfaction 42.0% of the time.\n",
      "Employees aged 56 or older resign due to dissatisfaction 42.0% of the time.\n",
      "The average percentage of resignments due to dissatisfaction is about 36.2%\n"
     ]
    }
   ],
   "source": [
    "# Store index value from `age_pivot` in `age` and value from `age_pivot` in `val`\n",
    "# Return f-string with percentage of resignation due to dissatisfaction\n",
    "for age, val in zip(age_pivot.index, age_pivot['dissatisfied']):\n",
    "    print(f'Employees aged {age} resign due to dissatisfaction {val*100:.3}% of the time.')\n",
    "\n",
    "# Calculate mean value from `age_pivot` values and print mean value in percentage\n",
    "mean_age_dissatisfaction = age_pivot.mean()['dissatisfied']\n",
    "print(f'The average percentage of resignments due to dissatisfaction is about {mean_age_dissatisfaction*100:.3}%')"
   ]
  },
  {
   "cell_type": "markdown",
   "id": "7478037f",
   "metadata": {},
   "source": [
    "We see that employees younger than 26 are less likely to resign due to dissatisfaction. As for employees over the age of 25, they are more likely to resign due to dissatisfaction."
   ]
  },
  {
   "cell_type": "markdown",
   "id": "9a9ca8aa",
   "metadata": {},
   "source": [
    "## Exploring Resignations Separately for TAFE and DETE Institutes"
   ]
  },
  {
   "cell_type": "markdown",
   "id": "f2136f8e",
   "metadata": {},
   "source": [
    "### Resignations Due to Dissatisfaction by Career Stage TAFE"
   ]
  },
  {
   "cell_type": "markdown",
   "id": "6bfc9172",
   "metadata": {},
   "source": [
    "Let's start by exploring how length of service at the TAFE affect the reasons for resigning. "
   ]
  },
  {
   "cell_type": "code",
   "execution_count": 66,
   "id": "bc719c83",
   "metadata": {},
   "outputs": [],
   "source": [
    "# Calculate mean value of dissatisfied employees grouped by service category at the TAFE\n",
    "tafe_service_cat_pivot = tafe_resigned_clean.pivot_table('dissatisfied', 'service_cat')"
   ]
  },
  {
   "cell_type": "code",
   "execution_count": 67,
   "id": "f5d6c2df",
   "metadata": {},
   "outputs": [
    {
     "data": {
      "image/png": "[encoded data removed]",
      "text/plain": [
       "<Figure size 640x480 with 1 Axes>"
      ]
     },
     "metadata": {},
     "output_type": "display_data"
    }
   ],
   "source": [
    "fig, ax = plt.subplots()\n",
    "ax.bar(tafe_service_cat_pivot.index, tafe_service_cat_pivot['dissatisfied'])\n",
    "\n",
    "# Title and subtitle\n",
    "ax.text(-1, 1.17, 'Length of Service at the TAFE Does Not Greatly\\nAffect Resignations Due to Dissatisfaction',\n",
    "        fontsize=16, fontweight='bold')\n",
    "ax.text(-1, 1.05, 'The average percentage of employees who resigned\\ndue to dissatisfaction is about 28%',\n",
    "        fontsize=14, alpha=0.65)\n",
    "\n",
    "ax.grid(visible=False)\n",
    "\n",
    "# y ticks\n",
    "ax.set_ylim(0,1)\n",
    "\n",
    "ax.set_yticklabels([])\n",
    "ax.text(-0.9, -0.02, '0%', alpha=0.5)\n",
    "ax.text(-0.9, 0.26, '28%', alpha=0.5)\n",
    "ax.text(-0.9, 0.98, '100%', alpha=0.5)\n",
    "\n",
    "# x ticks\n",
    "ax.set_xticklabels([])\n",
    "ax.text(-0.42, -0.1, '7-11 years\\nin company', alpha=0.7)\n",
    "ax.text(0.6, -0.1, '3-6 years\\nin company', alpha=0.7)\n",
    "ax.text(1.6, -0.1, '< 3 years\\nin company', alpha=0.7)\n",
    "ax.text(2.6, -0.1, '> 11 years\\nin company', alpha=0.7)\n",
    "\n",
    "ax.axhline(0.28, linewidth=1, color='red')\n",
    "\n",
    "# Watermark\n",
    "ax.text(-1, -0.2, '©feelingcxld' + ' ' * 24 + 'Source: TAFE and DETE exit surveys',\n",
    "        backgroundcolor='#353739', color='#f3f6f4')\n",
    "\n",
    "plt.show()"
   ]
  },
  {
   "cell_type": "code",
   "execution_count": 68,
   "id": "a6bd1e77",
   "metadata": {},
   "outputs": [
    {
     "name": "stdout",
     "output_type": "stream",
     "text": [
      "33.3% of established employees at the TAFE resign due to dissatisfaction.\n",
      "25.0% of experienced employees at the TAFE resign due to dissatisfaction.\n",
      "26.3% of new employees at the TAFE resign due to dissatisfaction.\n",
      "27.8% of veteran employees at the TAFE resign due to dissatisfaction.\n",
      "The average percentage of resignments due to dissatisfaction at the TAFE is about 28.1%\n"
     ]
    }
   ],
   "source": [
    "# Store index value from `tafe_service_cat_pivot` in `i` and value from `tafe_service_cat_pivot` in `val`\n",
    "# Return f-string with percentage of resignation due to dissatisfaction\n",
    "for i, val in zip(tafe_service_cat_pivot.index, tafe_service_cat_pivot['dissatisfied']):\n",
    "    print(f'{val*100:.3}% of {i.lower()} employees at the TAFE resign due to dissatisfaction.')\n",
    "\n",
    "# Calculate mean value from `tafe_service_cat_pivot` values and print mean value in percentage\n",
    "tafe_mean_service_cat_dissatisfaction = tafe_service_cat_pivot.mean()['dissatisfied']\n",
    "print(f'The average percentage of resignments due to dissatisfaction at the TAFE is about {tafe_mean_service_cat_dissatisfaction*100:.3}%')"
   ]
  },
  {
   "cell_type": "markdown",
   "id": "c522ef59",
   "metadata": {},
   "source": [
    "Based on the graph above, we can say that the number of resignations due to dissatisfaction does not significantly vary depending on the length of service at the TAFE. We have slightly higher percentage of resignations due to dissatisfaction among employees who have worked at the TAFE for more than 6 years, but this percentage is not that significant."
   ]
  },
  {
   "cell_type": "markdown",
   "id": "ec744f89",
   "metadata": {},
   "source": [
    "### Resignations Due to Dissatisfaction by Age Group TAFE"
   ]
  },
  {
   "cell_type": "markdown",
   "id": "40f1fbc0",
   "metadata": {},
   "source": [
    "Now let's explore how the reasons for resigning changes with age at the TAFE."
   ]
  },
  {
   "cell_type": "code",
   "execution_count": 69,
   "id": "aef0ad8c",
   "metadata": {},
   "outputs": [],
   "source": [
    "# Calculate mean value of dissatisfied employees grouped by service category\n",
    "tafe_age_pivot = tafe_resigned_clean.pivot_table('dissatisfied', 'age')"
   ]
  },
  {
   "cell_type": "code",
   "execution_count": 70,
   "id": "f24110d7",
   "metadata": {},
   "outputs": [
    {
     "data": {
      "image/png": "[encoded data removed]",
      "text/plain": [
       "<Figure size 640x480 with 1 Axes>"
      ]
     },
     "metadata": {},
     "output_type": "display_data"
    }
   ],
   "source": [
    "fig, ax = plt.subplots()\n",
    "ax.barh(tafe_age_pivot.index, tafe_age_pivot['dissatisfied'])\n",
    "\n",
    "# Title and subtitle\n",
    "ax.text(-0.26, 10.2, 'The Percentage of Resignations Due to Dissatisfaction\\nat the TAFE Among All Age Groups Varies From 20% To 30%',\n",
    "        fontsize=16, fontweight='bold')\n",
    "ax.text(-0.26, 9, 'The average percentage of employees who resigned\\ndue to dissatisfaction is about 26%',\n",
    "        fontsize=14, alpha=0.65)\n",
    "\n",
    "ax.grid(visible=False)\n",
    "\n",
    "# x ticks\n",
    "ax.set_xlim(0,1)\n",
    "\n",
    "ax.set_xticklabels([])\n",
    "ax.text(-0.02, -1.35, '0%', alpha=0.5)\n",
    "ax.text(0.17, -1.35, '20%', alpha=0.5)\n",
    "ax.text(0.27, -1.35, '30%', alpha=0.5)\n",
    "ax.text(0.96, -1.35, '100%', alpha=0.5)\n",
    "\n",
    "# y ticks\n",
    "ax.set_yticklabels([])\n",
    "ax.text(-0.26, -0.2, '20 or younger', alpha=0.5)\n",
    "ax.text(-0.2, 7.8, '56 or older', alpha=0.5)\n",
    "# Place age from `21-25` to `51-55` on y ticks\n",
    "for age, ycoord in zip(age_pivot.index[1:-1], range(1,8)):\n",
    "    ax.text(-0.11, ycoord-0.2, age, alpha=0.5)\n",
    "\n",
    "ax.axvline(0.2, color='red', linewidth=1, alpha=0.5)\n",
    "ax.axvline(0.3,color='red', linewidth=1, alpha=0.5)\n",
    "\n",
    "# Watermark\n",
    "ax.text(-0.26, -2.3, '©feelingcxld' + ' ' * 42 + 'Source: TAFE and DETE exit surveys',\n",
    "        backgroundcolor='#353739', color='#f3f6f4')\n",
    "\n",
    "plt.show()"
   ]
  },
  {
   "cell_type": "code",
   "execution_count": 71,
   "id": "deeb62a8",
   "metadata": {},
   "outputs": [
    {
     "name": "stdout",
     "output_type": "stream",
     "text": [
      "Employees at TAFE aged 20 or younger resign due to dissatisfaction 22.2% of the time.\n",
      "Employees at TAFE aged 21-25 resign due to dissatisfaction 30.3% of the time.\n",
      "Employees at TAFE aged 26-30 resign due to dissatisfaction 25.0% of the time.\n",
      "Employees at TAFE aged 31-35 resign due to dissatisfaction 21.9% of the time.\n",
      "Employees at TAFE aged 36-40 resign due to dissatisfaction 28.1% of the time.\n",
      "Employees at TAFE aged 41-45 resign due to dissatisfaction 26.7% of the time.\n",
      "Employees at TAFE aged 46-50 resign due to dissatisfaction 30.8% of the time.\n",
      "Employees at TAFE aged 51-55 resign due to dissatisfaction 28.2% of the time.\n",
      "Employees at TAFE aged 56 or older resign due to dissatisfaction 20.7% of the time.\n",
      "The average percentage of resignments due to dissatisfaction at TAFE is about 26.0%\n"
     ]
    }
   ],
   "source": [
    "# Store index value from `tafe_age_pivot` in `age` and value from `tafe_age_pivot` in `val`\n",
    "# Return f-string with percentage of resignation due to dissatisfaction\n",
    "for age, val in zip(tafe_age_pivot.index, tafe_age_pivot['dissatisfied']):\n",
    "    print(f'Employees at TAFE aged {age} resign due to dissatisfaction {val*100:.3}% of the time.')\n",
    "\n",
    "# Calculate mean value from `tafe_age_pivot` values and print mean value in percentage\n",
    "tafe_mean_age_dissatisfaction = tafe_age_pivot.mean()['dissatisfied']\n",
    "print(f'The average percentage of resignments due to dissatisfaction at TAFE is about {tafe_mean_age_dissatisfaction*100:.3}%')"
   ]
  },
  {
   "cell_type": "markdown",
   "id": "bad18c24",
   "metadata": {},
   "source": [
    "We can see that the percentage of resignations due to dissatisfaсtion at the TAFE among all age groups varies from 20% to 30%. The lower percentages have *20 or younger*, *31-35* and *56 or older* age groups. As for the highest percentages we have *21-25* and *41-45* age groups.\n",
    "\n",
    "We can't say for sure whether young or old employees resign more often due to dissatisfaction, on average they are pretty close to each other."
   ]
  },
  {
   "cell_type": "markdown",
   "id": "85bc405a",
   "metadata": {},
   "source": [
    "### Resignations Due to Dissatisfaction by Career Stage DETE"
   ]
  },
  {
   "cell_type": "markdown",
   "id": "09d8a0be",
   "metadata": {},
   "source": [
    "Now let's explore the DETE dataset and find out how length of service here affects the reasons for resignations."
   ]
  },
  {
   "cell_type": "code",
   "execution_count": 72,
   "id": "7cd610c4",
   "metadata": {},
   "outputs": [],
   "source": [
    "# Calculate mean value of dissatisfied employees grouped by service category at the DETE\n",
    "dete_service_cat_pivot = dete_resigned_clean.pivot_table('dissatisfied', 'service_cat')"
   ]
  },
  {
   "cell_type": "code",
   "execution_count": 73,
   "id": "5615b615",
   "metadata": {},
   "outputs": [
    {
     "data": {
      "image/png": "[encoded data removed]",
      "text/plain": [
       "<Figure size 640x480 with 1 Axes>"
      ]
     },
     "metadata": {},
     "output_type": "display_data"
    }
   ],
   "source": [
    "fig, ax = plt.subplots()\n",
    "ax.bar(dete_service_cat_pivot.index, dete_service_cat_pivot['dissatisfied'])\n",
    "\n",
    "# Title\n",
    "ax.text(-1.2, 1.05, 'More Than 50% Of Employees Who Have Worked\\nat the DETE for More Than 6 Years\\nResigned Due to Dissatisfaction',\n",
    "        fontsize=16, fontweight='bold')\n",
    "\n",
    "ax.grid(visible=False)\n",
    "\n",
    "# y ticks\n",
    "ax.set_ylim(0,1)\n",
    "\n",
    "ax.set_yticklabels([])\n",
    "ax.text(-0.9, -0.02, '0%', alpha=0.5)\n",
    "ax.text(-0.9, 0.48, '50%', alpha=0.5)\n",
    "ax.text(-0.9, 0.98, '100%', alpha=0.5)\n",
    "\n",
    "# x ticks\n",
    "ax.set_xticklabels([])\n",
    "ax.text(-0.42, -0.1, '7-11 years\\nin company', alpha=0.7)\n",
    "ax.text(0.6, -0.1, '3-6 years\\nin company', alpha=0.7)\n",
    "ax.text(1.6, -0.1, '< 3 years\\nin company', alpha=0.7)\n",
    "ax.text(2.6, -0.1, '> 11 years\\nin company', alpha=0.7)\n",
    "\n",
    "ax.axhline(0.5, linewidth=1, color='red')\n",
    "\n",
    "# Watermark\n",
    "ax.text(-1.2, -0.2, '©feelingcxld' + ' ' * 33 + 'Source: TAFE and DETE exit surveys',\n",
    "        backgroundcolor='#353739', color='#f3f6f4')\n",
    "\n",
    "plt.show()"
   ]
  },
  {
   "cell_type": "code",
   "execution_count": 74,
   "id": "f7fbdbca",
   "metadata": {},
   "outputs": [
    {
     "name": "stdout",
     "output_type": "stream",
     "text": [
      "61.0% of established employees at the DETE resign due to dissatisfaction.\n",
      "46.1% of experienced employees at the DETE resign due to dissatisfaction.\n",
      "38.2% of new employees at the DETE resign due to dissatisfaction.\n",
      "56.6% of veteran employees at the DETE resign due to dissatisfaction.\n",
      "The average percentage of resignments due to dissatisfaction at the DETE is about 50.4%\n"
     ]
    }
   ],
   "source": [
    "# Store index value from `dete_service_cat_pivot` in `i` and value from `dete_service_cat_pivot` in `val`\n",
    "# Return f-string with percentage of resignation due to dissatisfaction\n",
    "for i, val in zip(dete_service_cat_pivot.index, dete_service_cat_pivot['dissatisfied']):\n",
    "    print(f'{val*100:.3}% of {i.lower()} employees at the DETE resign due to dissatisfaction.')\n",
    "\n",
    "# Calculate mean value from `dete_service_cat_pivot` values and print mean value in percentage\n",
    "dete_mean_service_cat_dissatisfaction = dete_service_cat_pivot.mean()['dissatisfied']\n",
    "print(f'The average percentage of resignments due to dissatisfaction at the DETE is about {dete_mean_service_cat_dissatisfaction*100:.3}%')"
   ]
  },
  {
   "cell_type": "markdown",
   "id": "38baf3a7",
   "metadata": {},
   "source": [
    "We see that employees who had worked at the DETE for *7-11 years* resigned due to dissatisfaction in *61%* of cases. Employees who had worked at DETE for *more than 11 years* resigned due to dissatisfaction in *56.6%* of cases. Among employees who have worked for *less than 3 years*, this percentage is *38.2%*, and among those who have worked for *3-6 years*, it is *46.1%*.\n",
    "\n",
    "Based on this chart, we can say that employees who have worked at the DETE longer are more likely to resign due to dissatisfaction."
   ]
  },
  {
   "cell_type": "markdown",
   "id": "1ec4c7b6",
   "metadata": {},
   "source": [
    "### Resignations Due to Dissatisfaction by Age Group DETE"
   ]
  },
  {
   "cell_type": "markdown",
   "id": "4ff83635",
   "metadata": {},
   "source": [
    "Next, we will examine how age affects the reasons for resignation at the DETE."
   ]
  },
  {
   "cell_type": "code",
   "execution_count": 75,
   "id": "cf8c18ef",
   "metadata": {},
   "outputs": [],
   "source": [
    "# Calculate mean value of dissatisfied employees grouped by age at the DETE\n",
    "dete_age_pivot = dete_resigned_clean.pivot_table('dissatisfied', 'age')"
   ]
  },
  {
   "cell_type": "code",
   "execution_count": 76,
   "id": "7742ec6b",
   "metadata": {},
   "outputs": [
    {
     "data": {
      "image/png": "[encoded data removed]",
      "text/plain": [
       "<Figure size 640x480 with 1 Axes>"
      ]
     },
     "metadata": {},
     "output_type": "display_data"
    }
   ],
   "source": [
    "fig, ax = plt.subplots()\n",
    "ax.barh(dete_age_pivot.index[1:], dete_age_pivot['dissatisfied'][1:])\n",
    "\n",
    "# Title\n",
    "ax.text(-0.24, 9, 'More Than 50% of Employees over the age of 25\\nresigned due to dissatisfaction',\n",
    "        fontsize=16, fontweight='bold')\n",
    "\n",
    "ax.grid(visible=False)\n",
    "\n",
    "# x ticks\n",
    "ax.set_xlim(0,1)\n",
    "\n",
    "ax.set_xticklabels([])\n",
    "ax.text(-0.02, -1.35, '0%', alpha=0.5)\n",
    "ax.text(0.47, -1.35, '50%', alpha=0.5)\n",
    "ax.text(0.96, -1.35, '100%', alpha=0.5)\n",
    "\n",
    "# y ticks\n",
    "ax.set_yticklabels([])\n",
    "ax.text(-0.2, 6.8, '56 or older', alpha=0.5)\n",
    "# Place age from `21-25` to `51-55` on y ticks\n",
    "for age, ycoord in zip(age_pivot.index[1:-1], range(0,7)):\n",
    "    ax.text(-0.11, ycoord-0.2, age, alpha=0.5)\n",
    "\n",
    "\n",
    "ax.axvline(0.5, color='red', linewidth=1)\n",
    "\n",
    "# Watermark\n",
    "ax.text(-0.26, -2.3, '©feelingcxld' + ' ' * 42 + 'Source: TAFE and DETE exit surveys',\n",
    "        backgroundcolor='#353739', color='#f3f6f4')\n",
    "\n",
    "plt.show()"
   ]
  },
  {
   "cell_type": "code",
   "execution_count": 77,
   "id": "44127e93",
   "metadata": {},
   "outputs": [
    {
     "name": "stdout",
     "output_type": "stream",
     "text": [
      "Employees at DETE aged 20 or younger resign due to dissatisfaction 0.0% of the time.\n",
      "Employees at DETE aged 21-25 resign due to dissatisfaction 26.9% of the time.\n",
      "Employees at DETE aged 26-30 resign due to dissatisfaction 58.1% of the time.\n",
      "Employees at DETE aged 31-35 resign due to dissatisfaction 55.2% of the time.\n",
      "Employees at DETE aged 36-40 resign due to dissatisfaction 41.7% of the time.\n",
      "Employees at DETE aged 41-45 resign due to dissatisfaction 52.3% of the time.\n",
      "Employees at DETE aged 46-50 resign due to dissatisfaction 50.0% of the time.\n",
      "Employees at DETE aged 51-55 resign due to dissatisfaction 60.0% of the time.\n",
      "Employees at DETE aged 56 or older resign due to dissatisfaction 57.5% of the time.\n",
      "The average percentage of resignments due to dissatisfaction at DETE is about 44.6%\n"
     ]
    }
   ],
   "source": [
    "# Store index value from `dete_age_pivot` in `age` and value from `tafe_age_pivot` in `val`\n",
    "# Return f-string with percentage of resignation due to dissatisfaction\n",
    "for age, val in zip(dete_age_pivot.index, dete_age_pivot['dissatisfied']):\n",
    "    print(f'Employees at DETE aged {age} resign due to dissatisfaction {val*100:.3}% of the time.')\n",
    "\n",
    "# Calculate mean value from `dete_age_pivot` values and print mean value in percentage\n",
    "dete_mean_age_dissatisfaction = dete_age_pivot.mean()['dissatisfied']\n",
    "print(f'The average percentage of resignments due to dissatisfaction at DETE is about {dete_mean_age_dissatisfaction*100:.3}%')"
   ]
  },
  {
   "cell_type": "markdown",
   "id": "23d879c1",
   "metadata": {},
   "source": [
    "This chart shows that employees ages *26-35*, *41-45*, and *51 and older* resigned due to dissatisfaction *more than 50%* of the time. Employees aged *46-50* resigned due to dissatisfaction *50%* of the time. Employees aged *36-40* resigned due to dissatisfaction *41.7%* of the time. As for younger employees aged *21-25*, the percentage of resignations due to dissatisfaction is about *26.9%*.\n",
    "\n",
    "We do not include the *20 and younger* age group in the chart above because there is only one entry in this age group from the entire data set.\n",
    "\n",
    "Based on this research, we can say that younger employees are less likely to resign due to dissatisfaction compared to older employees."
   ]
  },
  {
   "cell_type": "markdown",
   "id": "0bc7ba8f",
   "metadata": {},
   "source": [
    "<a id='conclusion'></a>\n",
    "# Conclusion\n",
    "\n",
    "In this research we had two questions that we wanted to answer. The fisrt was 'Are employees who only work for the institutes for a short period of time resigning due to some kind of dissatisfaction? What about employees who have been there longer?'. The second was 'Are younger employees resigning due to some kind of dissatisfaction? What about older employees?'. In the end, we found that people who have worked in the institutes for a long time, as well as older people, are more likely to resign due to dissatisfaction.\n",
    "\n",
    "We also examined these data sets separately and found that in the TAFE, age and length of service did not significantly affect resignations due to dissatisfaction. At the DETE, the picture is different. Not only is the percentage of resignations due to dissatisfaction higher there, but age and length of service also have a strong influence. At the DETE older people and people who have worked here more than 6 years are more likely to resign due to dissatisfaction."
   ]
  }
 ],
 "metadata": {
  "kernelspec": {
   "display_name": "Python 3 (ipykernel)",
   "language": "python",
   "name": "python3"
  },
  "language_info": {
   "codemirror_mode": {
    "name": "ipython",
    "version": 3
   },
   "file_extension": ".py",
   "mimetype": "text/x-python",
   "name": "python",
   "nbconvert_exporter": "python",
   "pygments_lexer": "ipython3",
   "version": "3.11.5"
  }
 },
 "nbformat": 4,
 "nbformat_minor": 5
}
