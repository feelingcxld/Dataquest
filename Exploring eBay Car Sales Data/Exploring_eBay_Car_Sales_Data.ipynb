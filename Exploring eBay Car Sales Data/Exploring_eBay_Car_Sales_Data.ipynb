{
 "cells": [
  {
   "cell_type": "markdown",
   "id": "4b6f3b8b",
   "metadata": {},
   "source": [
    "# Exploring eBay Car Sales Data"
   ]
  },
  {
   "cell_type": "markdown",
   "id": "5575c3ff",
   "metadata": {},
   "source": [
    "## Introduction"
   ]
  },
  {
   "cell_type": "markdown",
   "id": "4eb99944",
   "metadata": {},
   "source": [
    "In this project we are going to analyze eBay car sales data. Our main goal in this project is to consolidate what we have learned in this course. We are going to work with `numpy` and `pandas` modules."
   ]
  },
  {
   "cell_type": "markdown",
   "id": "bf6defce",
   "metadata": {},
   "source": [
    "Throughout this project we are going to use various methods that will make working with our dataset easier. For example, after cleaning we will be left with 46,352 entries instead of 50,000."
   ]
  },
  {
   "cell_type": "markdown",
   "id": "415d7c82",
   "metadata": {},
   "source": [
    "## Opening the File"
   ]
  },
  {
   "cell_type": "markdown",
   "id": "a8635476",
   "metadata": {},
   "source": [
    "Before we start to open the file, we need to import modules that will help us in our analysis."
   ]
  },
  {
   "cell_type": "code",
   "execution_count": 12,
   "id": "9ec1179e",
   "metadata": {},
   "outputs": [],
   "source": [
    "import numpy as np\n",
    "import pandas as pd"
   ]
  },
  {
   "cell_type": "markdown",
   "id": "e29ab6f6",
   "metadata": {},
   "source": [
    "Now we can open and read our file. We are going to use a dataset that was scraped and uploaded to [Kaggle](https://www.kaggle.com/) by user orgesleka. The original dataset isn't available on [Kaggle](https://www.kaggle.com/) anymore, but you can find it [here](https://data.world/data-society/used-cars-data)."
   ]
  },
  {
   "cell_type": "code",
   "execution_count": 13,
   "id": "5133e83b",
   "metadata": {},
   "outputs": [],
   "source": [
    "# read the dataset into dataframe using 'latin-1' encoding\n",
    "autos = pd.read_csv('data/autos.csv', encoding='latin-1')"
   ]
  },
  {
   "cell_type": "markdown",
   "id": "7dbdc647",
   "metadata": {},
   "source": [
    "Here is our dataset table. Let's first find out what each column means."
   ]
  },
  {
   "cell_type": "code",
   "execution_count": 14,
   "id": "dead3b0d",
   "metadata": {
    "scrolled": false
   },
   "outputs": [
    {
     "data": {
      "text/html": [
       "<div>\n",
       "<style scoped>\n",
       "    .dataframe tbody tr th:only-of-type {\n",
       "        vertical-align: middle;\n",
       "    }\n",
       "\n",
       "    .dataframe tbody tr th {\n",
       "        vertical-align: top;\n",
       "    }\n",
       "\n",
       "    .dataframe thead th {\n",
       "        text-align: right;\n",
       "    }\n",
       "</style>\n",
       "<table border=\"1\" class=\"dataframe\">\n",
       "  <thead>\n",
       "    <tr style=\"text-align: right;\">\n",
       "      <th></th>\n",
       "      <th>dateCrawled</th>\n",
       "      <th>name</th>\n",
       "      <th>seller</th>\n",
       "      <th>offerType</th>\n",
       "      <th>price</th>\n",
       "      <th>abtest</th>\n",
       "      <th>vehicleType</th>\n",
       "      <th>yearOfRegistration</th>\n",
       "      <th>gearbox</th>\n",
       "      <th>powerPS</th>\n",
       "      <th>model</th>\n",
       "      <th>odometer</th>\n",
       "      <th>monthOfRegistration</th>\n",
       "      <th>fuelType</th>\n",
       "      <th>brand</th>\n",
       "      <th>notRepairedDamage</th>\n",
       "      <th>dateCreated</th>\n",
       "      <th>nrOfPictures</th>\n",
       "      <th>postalCode</th>\n",
       "      <th>lastSeen</th>\n",
       "    </tr>\n",
       "  </thead>\n",
       "  <tbody>\n",
       "    <tr>\n",
       "      <th>0</th>\n",
       "      <td>2016-03-26 17:47:46</td>\n",
       "      <td>Peugeot_807_160_NAVTECH_ON_BOARD</td>\n",
       "      <td>privat</td>\n",
       "      <td>Angebot</td>\n",
       "      <td>$5,000</td>\n",
       "      <td>control</td>\n",
       "      <td>bus</td>\n",
       "      <td>2004</td>\n",
       "      <td>manuell</td>\n",
       "      <td>158</td>\n",
       "      <td>andere</td>\n",
       "      <td>150,000km</td>\n",
       "      <td>3</td>\n",
       "      <td>lpg</td>\n",
       "      <td>peugeot</td>\n",
       "      <td>nein</td>\n",
       "      <td>2016-03-26 00:00:00</td>\n",
       "      <td>0</td>\n",
       "      <td>79588</td>\n",
       "      <td>2016-04-06 06:45:54</td>\n",
       "    </tr>\n",
       "    <tr>\n",
       "      <th>1</th>\n",
       "      <td>2016-04-04 13:38:56</td>\n",
       "      <td>BMW_740i_4_4_Liter_HAMANN_UMBAU_Mega_Optik</td>\n",
       "      <td>privat</td>\n",
       "      <td>Angebot</td>\n",
       "      <td>$8,500</td>\n",
       "      <td>control</td>\n",
       "      <td>limousine</td>\n",
       "      <td>1997</td>\n",
       "      <td>automatik</td>\n",
       "      <td>286</td>\n",
       "      <td>7er</td>\n",
       "      <td>150,000km</td>\n",
       "      <td>6</td>\n",
       "      <td>benzin</td>\n",
       "      <td>bmw</td>\n",
       "      <td>nein</td>\n",
       "      <td>2016-04-04 00:00:00</td>\n",
       "      <td>0</td>\n",
       "      <td>71034</td>\n",
       "      <td>2016-04-06 14:45:08</td>\n",
       "    </tr>\n",
       "    <tr>\n",
       "      <th>2</th>\n",
       "      <td>2016-03-26 18:57:24</td>\n",
       "      <td>Volkswagen_Golf_1.6_United</td>\n",
       "      <td>privat</td>\n",
       "      <td>Angebot</td>\n",
       "      <td>$8,990</td>\n",
       "      <td>test</td>\n",
       "      <td>limousine</td>\n",
       "      <td>2009</td>\n",
       "      <td>manuell</td>\n",
       "      <td>102</td>\n",
       "      <td>golf</td>\n",
       "      <td>70,000km</td>\n",
       "      <td>7</td>\n",
       "      <td>benzin</td>\n",
       "      <td>volkswagen</td>\n",
       "      <td>nein</td>\n",
       "      <td>2016-03-26 00:00:00</td>\n",
       "      <td>0</td>\n",
       "      <td>35394</td>\n",
       "      <td>2016-04-06 20:15:37</td>\n",
       "    </tr>\n",
       "    <tr>\n",
       "      <th>3</th>\n",
       "      <td>2016-03-12 16:58:10</td>\n",
       "      <td>Smart_smart_fortwo_coupe_softouch/F1/Klima/Pan...</td>\n",
       "      <td>privat</td>\n",
       "      <td>Angebot</td>\n",
       "      <td>$4,350</td>\n",
       "      <td>control</td>\n",
       "      <td>kleinwagen</td>\n",
       "      <td>2007</td>\n",
       "      <td>automatik</td>\n",
       "      <td>71</td>\n",
       "      <td>fortwo</td>\n",
       "      <td>70,000km</td>\n",
       "      <td>6</td>\n",
       "      <td>benzin</td>\n",
       "      <td>smart</td>\n",
       "      <td>nein</td>\n",
       "      <td>2016-03-12 00:00:00</td>\n",
       "      <td>0</td>\n",
       "      <td>33729</td>\n",
       "      <td>2016-03-15 03:16:28</td>\n",
       "    </tr>\n",
       "    <tr>\n",
       "      <th>4</th>\n",
       "      <td>2016-04-01 14:38:50</td>\n",
       "      <td>Ford_Focus_1_6_Benzin_TÜV_neu_ist_sehr_gepfleg...</td>\n",
       "      <td>privat</td>\n",
       "      <td>Angebot</td>\n",
       "      <td>$1,350</td>\n",
       "      <td>test</td>\n",
       "      <td>kombi</td>\n",
       "      <td>2003</td>\n",
       "      <td>manuell</td>\n",
       "      <td>0</td>\n",
       "      <td>focus</td>\n",
       "      <td>150,000km</td>\n",
       "      <td>7</td>\n",
       "      <td>benzin</td>\n",
       "      <td>ford</td>\n",
       "      <td>nein</td>\n",
       "      <td>2016-04-01 00:00:00</td>\n",
       "      <td>0</td>\n",
       "      <td>39218</td>\n",
       "      <td>2016-04-01 14:38:50</td>\n",
       "    </tr>\n",
       "    <tr>\n",
       "      <th>...</th>\n",
       "      <td>...</td>\n",
       "      <td>...</td>\n",
       "      <td>...</td>\n",
       "      <td>...</td>\n",
       "      <td>...</td>\n",
       "      <td>...</td>\n",
       "      <td>...</td>\n",
       "      <td>...</td>\n",
       "      <td>...</td>\n",
       "      <td>...</td>\n",
       "      <td>...</td>\n",
       "      <td>...</td>\n",
       "      <td>...</td>\n",
       "      <td>...</td>\n",
       "      <td>...</td>\n",
       "      <td>...</td>\n",
       "      <td>...</td>\n",
       "      <td>...</td>\n",
       "      <td>...</td>\n",
       "      <td>...</td>\n",
       "    </tr>\n",
       "    <tr>\n",
       "      <th>49995</th>\n",
       "      <td>2016-03-27 14:38:19</td>\n",
       "      <td>Audi_Q5_3.0_TDI_qu._S_tr.__Navi__Panorama__Xenon</td>\n",
       "      <td>privat</td>\n",
       "      <td>Angebot</td>\n",
       "      <td>$24,900</td>\n",
       "      <td>control</td>\n",
       "      <td>limousine</td>\n",
       "      <td>2011</td>\n",
       "      <td>automatik</td>\n",
       "      <td>239</td>\n",
       "      <td>q5</td>\n",
       "      <td>100,000km</td>\n",
       "      <td>1</td>\n",
       "      <td>diesel</td>\n",
       "      <td>audi</td>\n",
       "      <td>nein</td>\n",
       "      <td>2016-03-27 00:00:00</td>\n",
       "      <td>0</td>\n",
       "      <td>82131</td>\n",
       "      <td>2016-04-01 13:47:40</td>\n",
       "    </tr>\n",
       "    <tr>\n",
       "      <th>49996</th>\n",
       "      <td>2016-03-28 10:50:25</td>\n",
       "      <td>Opel_Astra_F_Cabrio_Bertone_Edition___TÜV_neu+...</td>\n",
       "      <td>privat</td>\n",
       "      <td>Angebot</td>\n",
       "      <td>$1,980</td>\n",
       "      <td>control</td>\n",
       "      <td>cabrio</td>\n",
       "      <td>1996</td>\n",
       "      <td>manuell</td>\n",
       "      <td>75</td>\n",
       "      <td>astra</td>\n",
       "      <td>150,000km</td>\n",
       "      <td>5</td>\n",
       "      <td>benzin</td>\n",
       "      <td>opel</td>\n",
       "      <td>nein</td>\n",
       "      <td>2016-03-28 00:00:00</td>\n",
       "      <td>0</td>\n",
       "      <td>44807</td>\n",
       "      <td>2016-04-02 14:18:02</td>\n",
       "    </tr>\n",
       "    <tr>\n",
       "      <th>49997</th>\n",
       "      <td>2016-04-02 14:44:48</td>\n",
       "      <td>Fiat_500_C_1.2_Dualogic_Lounge</td>\n",
       "      <td>privat</td>\n",
       "      <td>Angebot</td>\n",
       "      <td>$13,200</td>\n",
       "      <td>test</td>\n",
       "      <td>cabrio</td>\n",
       "      <td>2014</td>\n",
       "      <td>automatik</td>\n",
       "      <td>69</td>\n",
       "      <td>500</td>\n",
       "      <td>5,000km</td>\n",
       "      <td>11</td>\n",
       "      <td>benzin</td>\n",
       "      <td>fiat</td>\n",
       "      <td>nein</td>\n",
       "      <td>2016-04-02 00:00:00</td>\n",
       "      <td>0</td>\n",
       "      <td>73430</td>\n",
       "      <td>2016-04-04 11:47:27</td>\n",
       "    </tr>\n",
       "    <tr>\n",
       "      <th>49998</th>\n",
       "      <td>2016-03-08 19:25:42</td>\n",
       "      <td>Audi_A3_2.0_TDI_Sportback_Ambition</td>\n",
       "      <td>privat</td>\n",
       "      <td>Angebot</td>\n",
       "      <td>$22,900</td>\n",
       "      <td>control</td>\n",
       "      <td>kombi</td>\n",
       "      <td>2013</td>\n",
       "      <td>manuell</td>\n",
       "      <td>150</td>\n",
       "      <td>a3</td>\n",
       "      <td>40,000km</td>\n",
       "      <td>11</td>\n",
       "      <td>diesel</td>\n",
       "      <td>audi</td>\n",
       "      <td>nein</td>\n",
       "      <td>2016-03-08 00:00:00</td>\n",
       "      <td>0</td>\n",
       "      <td>35683</td>\n",
       "      <td>2016-04-05 16:45:07</td>\n",
       "    </tr>\n",
       "    <tr>\n",
       "      <th>49999</th>\n",
       "      <td>2016-03-14 00:42:12</td>\n",
       "      <td>Opel_Vectra_1.6_16V</td>\n",
       "      <td>privat</td>\n",
       "      <td>Angebot</td>\n",
       "      <td>$1,250</td>\n",
       "      <td>control</td>\n",
       "      <td>limousine</td>\n",
       "      <td>1996</td>\n",
       "      <td>manuell</td>\n",
       "      <td>101</td>\n",
       "      <td>vectra</td>\n",
       "      <td>150,000km</td>\n",
       "      <td>1</td>\n",
       "      <td>benzin</td>\n",
       "      <td>opel</td>\n",
       "      <td>nein</td>\n",
       "      <td>2016-03-13 00:00:00</td>\n",
       "      <td>0</td>\n",
       "      <td>45897</td>\n",
       "      <td>2016-04-06 21:18:48</td>\n",
       "    </tr>\n",
       "  </tbody>\n",
       "</table>\n",
       "<p>50000 rows × 20 columns</p>\n",
       "</div>"
      ],
      "text/plain": [
       "               dateCrawled                                               name  \\\n",
       "0      2016-03-26 17:47:46                   Peugeot_807_160_NAVTECH_ON_BOARD   \n",
       "1      2016-04-04 13:38:56         BMW_740i_4_4_Liter_HAMANN_UMBAU_Mega_Optik   \n",
       "2      2016-03-26 18:57:24                         Volkswagen_Golf_1.6_United   \n",
       "3      2016-03-12 16:58:10  Smart_smart_fortwo_coupe_softouch/F1/Klima/Pan...   \n",
       "4      2016-04-01 14:38:50  Ford_Focus_1_6_Benzin_TÜV_neu_ist_sehr_gepfleg...   \n",
       "...                    ...                                                ...   \n",
       "49995  2016-03-27 14:38:19   Audi_Q5_3.0_TDI_qu._S_tr.__Navi__Panorama__Xenon   \n",
       "49996  2016-03-28 10:50:25  Opel_Astra_F_Cabrio_Bertone_Edition___TÜV_neu+...   \n",
       "49997  2016-04-02 14:44:48                     Fiat_500_C_1.2_Dualogic_Lounge   \n",
       "49998  2016-03-08 19:25:42                 Audi_A3_2.0_TDI_Sportback_Ambition   \n",
       "49999  2016-03-14 00:42:12                                Opel_Vectra_1.6_16V   \n",
       "\n",
       "       seller offerType    price   abtest vehicleType  yearOfRegistration  \\\n",
       "0      privat   Angebot   $5,000  control         bus                2004   \n",
       "1      privat   Angebot   $8,500  control   limousine                1997   \n",
       "2      privat   Angebot   $8,990     test   limousine                2009   \n",
       "3      privat   Angebot   $4,350  control  kleinwagen                2007   \n",
       "4      privat   Angebot   $1,350     test       kombi                2003   \n",
       "...       ...       ...      ...      ...         ...                 ...   \n",
       "49995  privat   Angebot  $24,900  control   limousine                2011   \n",
       "49996  privat   Angebot   $1,980  control      cabrio                1996   \n",
       "49997  privat   Angebot  $13,200     test      cabrio                2014   \n",
       "49998  privat   Angebot  $22,900  control       kombi                2013   \n",
       "49999  privat   Angebot   $1,250  control   limousine                1996   \n",
       "\n",
       "         gearbox  powerPS   model   odometer  monthOfRegistration fuelType  \\\n",
       "0        manuell      158  andere  150,000km                    3      lpg   \n",
       "1      automatik      286     7er  150,000km                    6   benzin   \n",
       "2        manuell      102    golf   70,000km                    7   benzin   \n",
       "3      automatik       71  fortwo   70,000km                    6   benzin   \n",
       "4        manuell        0   focus  150,000km                    7   benzin   \n",
       "...          ...      ...     ...        ...                  ...      ...   \n",
       "49995  automatik      239      q5  100,000km                    1   diesel   \n",
       "49996    manuell       75   astra  150,000km                    5   benzin   \n",
       "49997  automatik       69     500    5,000km                   11   benzin   \n",
       "49998    manuell      150      a3   40,000km                   11   diesel   \n",
       "49999    manuell      101  vectra  150,000km                    1   benzin   \n",
       "\n",
       "            brand notRepairedDamage          dateCreated  nrOfPictures  \\\n",
       "0         peugeot              nein  2016-03-26 00:00:00             0   \n",
       "1             bmw              nein  2016-04-04 00:00:00             0   \n",
       "2      volkswagen              nein  2016-03-26 00:00:00             0   \n",
       "3           smart              nein  2016-03-12 00:00:00             0   \n",
       "4            ford              nein  2016-04-01 00:00:00             0   \n",
       "...           ...               ...                  ...           ...   \n",
       "49995        audi              nein  2016-03-27 00:00:00             0   \n",
       "49996        opel              nein  2016-03-28 00:00:00             0   \n",
       "49997        fiat              nein  2016-04-02 00:00:00             0   \n",
       "49998        audi              nein  2016-03-08 00:00:00             0   \n",
       "49999        opel              nein  2016-03-13 00:00:00             0   \n",
       "\n",
       "       postalCode             lastSeen  \n",
       "0           79588  2016-04-06 06:45:54  \n",
       "1           71034  2016-04-06 14:45:08  \n",
       "2           35394  2016-04-06 20:15:37  \n",
       "3           33729  2016-03-15 03:16:28  \n",
       "4           39218  2016-04-01 14:38:50  \n",
       "...           ...                  ...  \n",
       "49995       82131  2016-04-01 13:47:40  \n",
       "49996       44807  2016-04-02 14:18:02  \n",
       "49997       73430  2016-04-04 11:47:27  \n",
       "49998       35683  2016-04-05 16:45:07  \n",
       "49999       45897  2016-04-06 21:18:48  \n",
       "\n",
       "[50000 rows x 20 columns]"
      ]
     },
     "execution_count": 14,
     "metadata": {},
     "output_type": "execute_result"
    }
   ],
   "source": [
    "autos"
   ]
  },
  {
   "cell_type": "markdown",
   "id": "5ce17d83",
   "metadata": {},
   "source": [
    "* `dateCrawled` - When this ad was first crawled. All field-values are taken from this date.\n",
    "* `name` - Name of the car.\n",
    "* `seller` - Whether the seller is private or a dealer.\n",
    "* `offerType` - The type of listing\n",
    "* `price` - The price on the ad to sell the car.\n",
    "* `abtest` - Whether the listing is included in an A/B test.\n",
    "* `vehicleType` - The vehicle Type.\n",
    "* `yearOfRegistration` - The year in which the car was first registered.\n",
    "* `gearbox` - The transmission type.\n",
    "* `powerPS` - The power of the car in PS.\n",
    "* `model` - The car model name.\n",
    "* `odometer` - How many kilometers the car has driven.\n",
    "* `monthOfRegistration` - The month in which the car was first registered.\n",
    "* `fuelType` - What type of fuel the car uses.\n",
    "* `brand` - The brand of the car.\n",
    "* `notRepairedDamage` - If the car has a damage which is not yet repaired.\n",
    "* `dateCreated` - The date on which the eBay listing was created.\n",
    "* `nrOfPictures` - The number of pictures in the ad.\n",
    "* `postalCode` - The postal code for the location of the vehicle.\n",
    "* `lastSeenOnline` - When the crawler saw this ad last online."
   ]
  },
  {
   "cell_type": "code",
   "execution_count": 15,
   "id": "0a94cf40",
   "metadata": {
    "scrolled": true
   },
   "outputs": [
    {
     "name": "stdout",
     "output_type": "stream",
     "text": [
      "<class 'pandas.core.frame.DataFrame'>\n",
      "RangeIndex: 50000 entries, 0 to 49999\n",
      "Data columns (total 20 columns):\n",
      " #   Column               Non-Null Count  Dtype \n",
      "---  ------               --------------  ----- \n",
      " 0   dateCrawled          50000 non-null  object\n",
      " 1   name                 50000 non-null  object\n",
      " 2   seller               50000 non-null  object\n",
      " 3   offerType            50000 non-null  object\n",
      " 4   price                50000 non-null  object\n",
      " 5   abtest               50000 non-null  object\n",
      " 6   vehicleType          44905 non-null  object\n",
      " 7   yearOfRegistration   50000 non-null  int64 \n",
      " 8   gearbox              47320 non-null  object\n",
      " 9   powerPS              50000 non-null  int64 \n",
      " 10  model                47242 non-null  object\n",
      " 11  odometer             50000 non-null  object\n",
      " 12  monthOfRegistration  50000 non-null  int64 \n",
      " 13  fuelType             45518 non-null  object\n",
      " 14  brand                50000 non-null  object\n",
      " 15  notRepairedDamage    40171 non-null  object\n",
      " 16  dateCreated          50000 non-null  object\n",
      " 17  nrOfPictures         50000 non-null  int64 \n",
      " 18  postalCode           50000 non-null  int64 \n",
      " 19  lastSeen             50000 non-null  object\n",
      "dtypes: int64(5), object(15)\n",
      "memory usage: 7.6+ MB\n"
     ]
    }
   ],
   "source": [
    "autos.info()"
   ]
  },
  {
   "cell_type": "markdown",
   "id": "b2ffc0d1",
   "metadata": {},
   "source": [
    "And here is some info about our columns. We can see here that a few columns have empty values. For example `vehicleType` with 44,905 values and `fuelType` with 45,518. There are also many `object` type data. We will use this information later in our project."
   ]
  },
  {
   "cell_type": "markdown",
   "id": "12bd8489",
   "metadata": {},
   "source": [
    "## Changing the Columns"
   ]
  },
  {
   "cell_type": "markdown",
   "id": "112b3f80",
   "metadata": {},
   "source": [
    "We already saw the columns of our dataset, but let's look at it one more time."
   ]
  },
  {
   "cell_type": "code",
   "execution_count": 16,
   "id": "a2a056c5",
   "metadata": {},
   "outputs": [
    {
     "data": {
      "text/plain": [
       "Index(['dateCrawled', 'name', 'seller', 'offerType', 'price', 'abtest',\n",
       "       'vehicleType', 'yearOfRegistration', 'gearbox', 'powerPS', 'model',\n",
       "       'odometer', 'monthOfRegistration', 'fuelType', 'brand',\n",
       "       'notRepairedDamage', 'dateCreated', 'nrOfPictures', 'postalCode',\n",
       "       'lastSeen'],\n",
       "      dtype='object')"
      ]
     },
     "execution_count": 16,
     "metadata": {},
     "output_type": "execute_result"
    }
   ],
   "source": [
    "autos.columns"
   ]
  },
  {
   "cell_type": "markdown",
   "id": "21015415",
   "metadata": {},
   "source": [
    "One thing we can notice is that the columns use `CamelCase` instead of `snake_case`. For convenience, we will change them to `snake_case`."
   ]
  },
  {
   "cell_type": "code",
   "execution_count": 17,
   "id": "df53d749",
   "metadata": {},
   "outputs": [
    {
     "data": {
      "text/plain": [
       "Index(['date_crawled', 'name', 'seller', 'offer_type', 'price', 'abtest',\n",
       "       'vehicle_type', 'registration_year', 'gearbox', 'power_ps', 'model',\n",
       "       'odometer', 'registration_month', 'fuel_type', 'brand',\n",
       "       'unrepaired_damage', 'ad_created', 'number_of_pictures', 'postal_code',\n",
       "       'last_seen'],\n",
       "      dtype='object')"
      ]
     },
     "execution_count": 17,
     "metadata": {},
     "output_type": "execute_result"
    }
   ],
   "source": [
    "# changing CamelCase columns to snake_case\n",
    "autos.columns = ['date_crawled', 'name', 'seller', 'offer_type', 'price', 'abtest',\n",
    "       'vehicle_type', 'registration_year', 'gearbox', 'power_ps', 'model',\n",
    "       'odometer', 'registration_month', 'fuel_type', 'brand',\n",
    "       'unrepaired_damage', 'ad_created', 'number_of_pictures', 'postal_code',\n",
    "       'last_seen']\n",
    "\n",
    "autos.columns"
   ]
  },
  {
   "cell_type": "markdown",
   "id": "0642f6ef",
   "metadata": {},
   "source": [
    "With the new columns, we can continue our analysis."
   ]
  },
  {
   "cell_type": "markdown",
   "id": "7c12e439",
   "metadata": {},
   "source": [
    "## Exploring Price and Odometer Columns"
   ]
  },
  {
   "cell_type": "markdown",
   "id": "e494aa87",
   "metadata": {},
   "source": [
    "Let's take a look at the values in our dataset."
   ]
  },
  {
   "cell_type": "code",
   "execution_count": 18,
   "id": "59af4949",
   "metadata": {
    "scrolled": true
   },
   "outputs": [
    {
     "data": {
      "text/html": [
       "<div>\n",
       "<style scoped>\n",
       "    .dataframe tbody tr th:only-of-type {\n",
       "        vertical-align: middle;\n",
       "    }\n",
       "\n",
       "    .dataframe tbody tr th {\n",
       "        vertical-align: top;\n",
       "    }\n",
       "\n",
       "    .dataframe thead th {\n",
       "        text-align: right;\n",
       "    }\n",
       "</style>\n",
       "<table border=\"1\" class=\"dataframe\">\n",
       "  <thead>\n",
       "    <tr style=\"text-align: right;\">\n",
       "      <th></th>\n",
       "      <th>date_crawled</th>\n",
       "      <th>name</th>\n",
       "      <th>seller</th>\n",
       "      <th>offer_type</th>\n",
       "      <th>price</th>\n",
       "      <th>abtest</th>\n",
       "      <th>vehicle_type</th>\n",
       "      <th>registration_year</th>\n",
       "      <th>gearbox</th>\n",
       "      <th>power_ps</th>\n",
       "      <th>model</th>\n",
       "      <th>odometer</th>\n",
       "      <th>registration_month</th>\n",
       "      <th>fuel_type</th>\n",
       "      <th>brand</th>\n",
       "      <th>unrepaired_damage</th>\n",
       "      <th>ad_created</th>\n",
       "      <th>number_of_pictures</th>\n",
       "      <th>postal_code</th>\n",
       "      <th>last_seen</th>\n",
       "    </tr>\n",
       "  </thead>\n",
       "  <tbody>\n",
       "    <tr>\n",
       "      <th>count</th>\n",
       "      <td>50000</td>\n",
       "      <td>50000</td>\n",
       "      <td>50000</td>\n",
       "      <td>50000</td>\n",
       "      <td>50000</td>\n",
       "      <td>50000</td>\n",
       "      <td>44905</td>\n",
       "      <td>50000.000000</td>\n",
       "      <td>47320</td>\n",
       "      <td>50000.000000</td>\n",
       "      <td>47242</td>\n",
       "      <td>50000</td>\n",
       "      <td>50000.000000</td>\n",
       "      <td>45518</td>\n",
       "      <td>50000</td>\n",
       "      <td>40171</td>\n",
       "      <td>50000</td>\n",
       "      <td>50000.0</td>\n",
       "      <td>50000.000000</td>\n",
       "      <td>50000</td>\n",
       "    </tr>\n",
       "    <tr>\n",
       "      <th>unique</th>\n",
       "      <td>48213</td>\n",
       "      <td>38754</td>\n",
       "      <td>2</td>\n",
       "      <td>2</td>\n",
       "      <td>2357</td>\n",
       "      <td>2</td>\n",
       "      <td>8</td>\n",
       "      <td>NaN</td>\n",
       "      <td>2</td>\n",
       "      <td>NaN</td>\n",
       "      <td>245</td>\n",
       "      <td>13</td>\n",
       "      <td>NaN</td>\n",
       "      <td>7</td>\n",
       "      <td>40</td>\n",
       "      <td>2</td>\n",
       "      <td>76</td>\n",
       "      <td>NaN</td>\n",
       "      <td>NaN</td>\n",
       "      <td>39481</td>\n",
       "    </tr>\n",
       "    <tr>\n",
       "      <th>top</th>\n",
       "      <td>2016-04-02 11:37:04</td>\n",
       "      <td>Ford_Fiesta</td>\n",
       "      <td>privat</td>\n",
       "      <td>Angebot</td>\n",
       "      <td>$0</td>\n",
       "      <td>test</td>\n",
       "      <td>limousine</td>\n",
       "      <td>NaN</td>\n",
       "      <td>manuell</td>\n",
       "      <td>NaN</td>\n",
       "      <td>golf</td>\n",
       "      <td>150,000km</td>\n",
       "      <td>NaN</td>\n",
       "      <td>benzin</td>\n",
       "      <td>volkswagen</td>\n",
       "      <td>nein</td>\n",
       "      <td>2016-04-03 00:00:00</td>\n",
       "      <td>NaN</td>\n",
       "      <td>NaN</td>\n",
       "      <td>2016-04-07 06:17:27</td>\n",
       "    </tr>\n",
       "    <tr>\n",
       "      <th>freq</th>\n",
       "      <td>3</td>\n",
       "      <td>78</td>\n",
       "      <td>49999</td>\n",
       "      <td>49999</td>\n",
       "      <td>1421</td>\n",
       "      <td>25756</td>\n",
       "      <td>12859</td>\n",
       "      <td>NaN</td>\n",
       "      <td>36993</td>\n",
       "      <td>NaN</td>\n",
       "      <td>4024</td>\n",
       "      <td>32424</td>\n",
       "      <td>NaN</td>\n",
       "      <td>30107</td>\n",
       "      <td>10687</td>\n",
       "      <td>35232</td>\n",
       "      <td>1946</td>\n",
       "      <td>NaN</td>\n",
       "      <td>NaN</td>\n",
       "      <td>8</td>\n",
       "    </tr>\n",
       "    <tr>\n",
       "      <th>mean</th>\n",
       "      <td>NaN</td>\n",
       "      <td>NaN</td>\n",
       "      <td>NaN</td>\n",
       "      <td>NaN</td>\n",
       "      <td>NaN</td>\n",
       "      <td>NaN</td>\n",
       "      <td>NaN</td>\n",
       "      <td>2005.073280</td>\n",
       "      <td>NaN</td>\n",
       "      <td>116.355920</td>\n",
       "      <td>NaN</td>\n",
       "      <td>NaN</td>\n",
       "      <td>5.723360</td>\n",
       "      <td>NaN</td>\n",
       "      <td>NaN</td>\n",
       "      <td>NaN</td>\n",
       "      <td>NaN</td>\n",
       "      <td>0.0</td>\n",
       "      <td>50813.627300</td>\n",
       "      <td>NaN</td>\n",
       "    </tr>\n",
       "    <tr>\n",
       "      <th>std</th>\n",
       "      <td>NaN</td>\n",
       "      <td>NaN</td>\n",
       "      <td>NaN</td>\n",
       "      <td>NaN</td>\n",
       "      <td>NaN</td>\n",
       "      <td>NaN</td>\n",
       "      <td>NaN</td>\n",
       "      <td>105.712813</td>\n",
       "      <td>NaN</td>\n",
       "      <td>209.216627</td>\n",
       "      <td>NaN</td>\n",
       "      <td>NaN</td>\n",
       "      <td>3.711984</td>\n",
       "      <td>NaN</td>\n",
       "      <td>NaN</td>\n",
       "      <td>NaN</td>\n",
       "      <td>NaN</td>\n",
       "      <td>0.0</td>\n",
       "      <td>25779.747957</td>\n",
       "      <td>NaN</td>\n",
       "    </tr>\n",
       "    <tr>\n",
       "      <th>min</th>\n",
       "      <td>NaN</td>\n",
       "      <td>NaN</td>\n",
       "      <td>NaN</td>\n",
       "      <td>NaN</td>\n",
       "      <td>NaN</td>\n",
       "      <td>NaN</td>\n",
       "      <td>NaN</td>\n",
       "      <td>1000.000000</td>\n",
       "      <td>NaN</td>\n",
       "      <td>0.000000</td>\n",
       "      <td>NaN</td>\n",
       "      <td>NaN</td>\n",
       "      <td>0.000000</td>\n",
       "      <td>NaN</td>\n",
       "      <td>NaN</td>\n",
       "      <td>NaN</td>\n",
       "      <td>NaN</td>\n",
       "      <td>0.0</td>\n",
       "      <td>1067.000000</td>\n",
       "      <td>NaN</td>\n",
       "    </tr>\n",
       "    <tr>\n",
       "      <th>25%</th>\n",
       "      <td>NaN</td>\n",
       "      <td>NaN</td>\n",
       "      <td>NaN</td>\n",
       "      <td>NaN</td>\n",
       "      <td>NaN</td>\n",
       "      <td>NaN</td>\n",
       "      <td>NaN</td>\n",
       "      <td>1999.000000</td>\n",
       "      <td>NaN</td>\n",
       "      <td>70.000000</td>\n",
       "      <td>NaN</td>\n",
       "      <td>NaN</td>\n",
       "      <td>3.000000</td>\n",
       "      <td>NaN</td>\n",
       "      <td>NaN</td>\n",
       "      <td>NaN</td>\n",
       "      <td>NaN</td>\n",
       "      <td>0.0</td>\n",
       "      <td>30451.000000</td>\n",
       "      <td>NaN</td>\n",
       "    </tr>\n",
       "    <tr>\n",
       "      <th>50%</th>\n",
       "      <td>NaN</td>\n",
       "      <td>NaN</td>\n",
       "      <td>NaN</td>\n",
       "      <td>NaN</td>\n",
       "      <td>NaN</td>\n",
       "      <td>NaN</td>\n",
       "      <td>NaN</td>\n",
       "      <td>2003.000000</td>\n",
       "      <td>NaN</td>\n",
       "      <td>105.000000</td>\n",
       "      <td>NaN</td>\n",
       "      <td>NaN</td>\n",
       "      <td>6.000000</td>\n",
       "      <td>NaN</td>\n",
       "      <td>NaN</td>\n",
       "      <td>NaN</td>\n",
       "      <td>NaN</td>\n",
       "      <td>0.0</td>\n",
       "      <td>49577.000000</td>\n",
       "      <td>NaN</td>\n",
       "    </tr>\n",
       "    <tr>\n",
       "      <th>75%</th>\n",
       "      <td>NaN</td>\n",
       "      <td>NaN</td>\n",
       "      <td>NaN</td>\n",
       "      <td>NaN</td>\n",
       "      <td>NaN</td>\n",
       "      <td>NaN</td>\n",
       "      <td>NaN</td>\n",
       "      <td>2008.000000</td>\n",
       "      <td>NaN</td>\n",
       "      <td>150.000000</td>\n",
       "      <td>NaN</td>\n",
       "      <td>NaN</td>\n",
       "      <td>9.000000</td>\n",
       "      <td>NaN</td>\n",
       "      <td>NaN</td>\n",
       "      <td>NaN</td>\n",
       "      <td>NaN</td>\n",
       "      <td>0.0</td>\n",
       "      <td>71540.000000</td>\n",
       "      <td>NaN</td>\n",
       "    </tr>\n",
       "    <tr>\n",
       "      <th>max</th>\n",
       "      <td>NaN</td>\n",
       "      <td>NaN</td>\n",
       "      <td>NaN</td>\n",
       "      <td>NaN</td>\n",
       "      <td>NaN</td>\n",
       "      <td>NaN</td>\n",
       "      <td>NaN</td>\n",
       "      <td>9999.000000</td>\n",
       "      <td>NaN</td>\n",
       "      <td>17700.000000</td>\n",
       "      <td>NaN</td>\n",
       "      <td>NaN</td>\n",
       "      <td>12.000000</td>\n",
       "      <td>NaN</td>\n",
       "      <td>NaN</td>\n",
       "      <td>NaN</td>\n",
       "      <td>NaN</td>\n",
       "      <td>0.0</td>\n",
       "      <td>99998.000000</td>\n",
       "      <td>NaN</td>\n",
       "    </tr>\n",
       "  </tbody>\n",
       "</table>\n",
       "</div>"
      ],
      "text/plain": [
       "               date_crawled         name  seller offer_type  price abtest  \\\n",
       "count                 50000        50000   50000      50000  50000  50000   \n",
       "unique                48213        38754       2          2   2357      2   \n",
       "top     2016-04-02 11:37:04  Ford_Fiesta  privat    Angebot     $0   test   \n",
       "freq                      3           78   49999      49999   1421  25756   \n",
       "mean                    NaN          NaN     NaN        NaN    NaN    NaN   \n",
       "std                     NaN          NaN     NaN        NaN    NaN    NaN   \n",
       "min                     NaN          NaN     NaN        NaN    NaN    NaN   \n",
       "25%                     NaN          NaN     NaN        NaN    NaN    NaN   \n",
       "50%                     NaN          NaN     NaN        NaN    NaN    NaN   \n",
       "75%                     NaN          NaN     NaN        NaN    NaN    NaN   \n",
       "max                     NaN          NaN     NaN        NaN    NaN    NaN   \n",
       "\n",
       "       vehicle_type  registration_year  gearbox      power_ps  model  \\\n",
       "count         44905       50000.000000    47320  50000.000000  47242   \n",
       "unique            8                NaN        2           NaN    245   \n",
       "top       limousine                NaN  manuell           NaN   golf   \n",
       "freq          12859                NaN    36993           NaN   4024   \n",
       "mean            NaN        2005.073280      NaN    116.355920    NaN   \n",
       "std             NaN         105.712813      NaN    209.216627    NaN   \n",
       "min             NaN        1000.000000      NaN      0.000000    NaN   \n",
       "25%             NaN        1999.000000      NaN     70.000000    NaN   \n",
       "50%             NaN        2003.000000      NaN    105.000000    NaN   \n",
       "75%             NaN        2008.000000      NaN    150.000000    NaN   \n",
       "max             NaN        9999.000000      NaN  17700.000000    NaN   \n",
       "\n",
       "         odometer  registration_month fuel_type       brand unrepaired_damage  \\\n",
       "count       50000        50000.000000     45518       50000             40171   \n",
       "unique         13                 NaN         7          40                 2   \n",
       "top     150,000km                 NaN    benzin  volkswagen              nein   \n",
       "freq        32424                 NaN     30107       10687             35232   \n",
       "mean          NaN            5.723360       NaN         NaN               NaN   \n",
       "std           NaN            3.711984       NaN         NaN               NaN   \n",
       "min           NaN            0.000000       NaN         NaN               NaN   \n",
       "25%           NaN            3.000000       NaN         NaN               NaN   \n",
       "50%           NaN            6.000000       NaN         NaN               NaN   \n",
       "75%           NaN            9.000000       NaN         NaN               NaN   \n",
       "max           NaN           12.000000       NaN         NaN               NaN   \n",
       "\n",
       "                 ad_created  number_of_pictures   postal_code  \\\n",
       "count                 50000             50000.0  50000.000000   \n",
       "unique                   76                 NaN           NaN   \n",
       "top     2016-04-03 00:00:00                 NaN           NaN   \n",
       "freq                   1946                 NaN           NaN   \n",
       "mean                    NaN                 0.0  50813.627300   \n",
       "std                     NaN                 0.0  25779.747957   \n",
       "min                     NaN                 0.0   1067.000000   \n",
       "25%                     NaN                 0.0  30451.000000   \n",
       "50%                     NaN                 0.0  49577.000000   \n",
       "75%                     NaN                 0.0  71540.000000   \n",
       "max                     NaN                 0.0  99998.000000   \n",
       "\n",
       "                  last_seen  \n",
       "count                 50000  \n",
       "unique                39481  \n",
       "top     2016-04-07 06:17:27  \n",
       "freq                      8  \n",
       "mean                    NaN  \n",
       "std                     NaN  \n",
       "min                     NaN  \n",
       "25%                     NaN  \n",
       "50%                     NaN  \n",
       "75%                     NaN  \n",
       "max                     NaN  "
      ]
     },
     "execution_count": 18,
     "metadata": {},
     "output_type": "execute_result"
    }
   ],
   "source": [
    "autos.describe(include='all')"
   ]
  },
  {
   "cell_type": "markdown",
   "id": "9379267f",
   "metadata": {},
   "source": [
    "In `price` and `odometer` columns, we have numeric data with some symbols. For `price` column we have dollar sign followed by a number. In `odometer` column, we have km alongside with number. We should change these columns into numeric data to do some calculations later."
   ]
  },
  {
   "cell_type": "markdown",
   "id": "84e75eb3",
   "metadata": {},
   "source": [
    "First, we are going to drop the dollar sign in `price` column and leave only a number."
   ]
  },
  {
   "cell_type": "code",
   "execution_count": 19,
   "id": "9f4fd570",
   "metadata": {},
   "outputs": [],
   "source": [
    "# converting `price` column from `object` to `int` datatype\n",
    "autos['price'] = (autos['price']\n",
    "                        .str.replace(',','')\n",
    "                        .str.replace('$','')\n",
    "                        .astype(int)\n",
    "                 )"
   ]
  },
  {
   "cell_type": "markdown",
   "id": "947a7972",
   "metadata": {},
   "source": [
    "For `odometer` column we are going to drop km and leave only a number. We are also renaming `odometer` column to `odometer_in_km` for better understanding in the future."
   ]
  },
  {
   "cell_type": "code",
   "execution_count": 20,
   "id": "bc654b71",
   "metadata": {},
   "outputs": [],
   "source": [
    "# converting `odometer` column from `object` to `int` datatype\n",
    "autos['odometer'] = (autos['odometer']\n",
    "                            .str.replace('km','')\n",
    "                            .str.replace(',','')\n",
    "                            .astype(int)\n",
    "                    )\n",
    "\n",
    "# changing `odometer` column name to `odometer_in_km`\n",
    "autos.rename({'odometer': 'odometer_in_km'}, axis=1, inplace=True)"
   ]
  },
  {
   "cell_type": "markdown",
   "id": "3cf90994",
   "metadata": {},
   "source": [
    "This is what our columns look like after the changes."
   ]
  },
  {
   "cell_type": "code",
   "execution_count": 21,
   "id": "162b08c2",
   "metadata": {},
   "outputs": [
    {
     "data": {
      "text/html": [
       "<div>\n",
       "<style scoped>\n",
       "    .dataframe tbody tr th:only-of-type {\n",
       "        vertical-align: middle;\n",
       "    }\n",
       "\n",
       "    .dataframe tbody tr th {\n",
       "        vertical-align: top;\n",
       "    }\n",
       "\n",
       "    .dataframe thead th {\n",
       "        text-align: right;\n",
       "    }\n",
       "</style>\n",
       "<table border=\"1\" class=\"dataframe\">\n",
       "  <thead>\n",
       "    <tr style=\"text-align: right;\">\n",
       "      <th></th>\n",
       "      <th>price</th>\n",
       "      <th>odometer_in_km</th>\n",
       "    </tr>\n",
       "  </thead>\n",
       "  <tbody>\n",
       "    <tr>\n",
       "      <th>0</th>\n",
       "      <td>5000</td>\n",
       "      <td>150000</td>\n",
       "    </tr>\n",
       "    <tr>\n",
       "      <th>1</th>\n",
       "      <td>8500</td>\n",
       "      <td>150000</td>\n",
       "    </tr>\n",
       "    <tr>\n",
       "      <th>2</th>\n",
       "      <td>8990</td>\n",
       "      <td>70000</td>\n",
       "    </tr>\n",
       "    <tr>\n",
       "      <th>3</th>\n",
       "      <td>4350</td>\n",
       "      <td>70000</td>\n",
       "    </tr>\n",
       "    <tr>\n",
       "      <th>4</th>\n",
       "      <td>1350</td>\n",
       "      <td>150000</td>\n",
       "    </tr>\n",
       "  </tbody>\n",
       "</table>\n",
       "</div>"
      ],
      "text/plain": [
       "   price  odometer_in_km\n",
       "0   5000          150000\n",
       "1   8500          150000\n",
       "2   8990           70000\n",
       "3   4350           70000\n",
       "4   1350          150000"
      ]
     },
     "execution_count": 21,
     "metadata": {},
     "output_type": "execute_result"
    }
   ],
   "source": [
    "autos[['price', 'odometer_in_km']].head()"
   ]
  },
  {
   "cell_type": "markdown",
   "id": "d015c734",
   "metadata": {},
   "source": [
    "### Removing Mispriced Entries"
   ]
  },
  {
   "cell_type": "markdown",
   "id": "5082c4b2",
   "metadata": {},
   "source": [
    "There are many mispriced entries in our dataset. Let's take a look at the lowest and the highest prices."
   ]
  },
  {
   "cell_type": "code",
   "execution_count": 22,
   "id": "fe446e0d",
   "metadata": {
    "scrolled": true
   },
   "outputs": [
    {
     "name": "stdout",
     "output_type": "stream",
     "text": [
      "price\n",
      "0      1421\n",
      "1       156\n",
      "2         3\n",
      "3         1\n",
      "5         2\n",
      "8         1\n",
      "9         1\n",
      "10        7\n",
      "11        2\n",
      "12        3\n",
      "13        2\n",
      "14        1\n",
      "15        2\n",
      "17        3\n",
      "18        1\n",
      "20        4\n",
      "25        5\n",
      "29        1\n",
      "30        7\n",
      "35        1\n",
      "40        6\n",
      "45        4\n",
      "47        1\n",
      "49        4\n",
      "50       49\n",
      "55        2\n",
      "59        1\n",
      "60        9\n",
      "65        5\n",
      "66        1\n",
      "70       10\n",
      "75        5\n",
      "79        1\n",
      "80       15\n",
      "89        1\n",
      "90        5\n",
      "99       19\n",
      "100     134\n",
      "110       3\n",
      "111       2\n",
      "115       2\n",
      "117       1\n",
      "120      39\n",
      "122       1\n",
      "125       8\n",
      "129       1\n",
      "130      15\n",
      "135       1\n",
      "139       1\n",
      "140       9\n",
      "Name: count, dtype: int64\n",
      "price\n",
      "99999999    1\n",
      "27322222    1\n",
      "12345678    3\n",
      "11111111    2\n",
      "10000000    1\n",
      "3890000     1\n",
      "1300000     1\n",
      "1234566     1\n",
      "999999      2\n",
      "999990      1\n",
      "350000      1\n",
      "345000      1\n",
      "299000      1\n",
      "295000      1\n",
      "265000      1\n",
      "Name: count, dtype: int64\n"
     ]
    }
   ],
   "source": [
    "print(autos['price'].value_counts().sort_index(ascending=True).head(50))\n",
    "print(autos['price'].value_counts().sort_index(ascending=False).head(15))"
   ]
  },
  {
   "cell_type": "markdown",
   "id": "d69f000c",
   "metadata": {},
   "source": [
    "For lowest prices, there are some entries like 0 and 1, we are going to drop them up to 100. For highest prices, there are some weird entries such as 999,990, 999,999 and 1,234,566, we are going to drop them too."
   ]
  },
  {
   "cell_type": "code",
   "execution_count": 23,
   "id": "7498b118",
   "metadata": {
    "scrolled": true
   },
   "outputs": [
    {
     "name": "stdout",
     "output_type": "stream",
     "text": [
      "<class 'pandas.core.frame.DataFrame'>\n",
      "Index: 48224 entries, 0 to 49999\n",
      "Data columns (total 20 columns):\n",
      " #   Column              Non-Null Count  Dtype \n",
      "---  ------              --------------  ----- \n",
      " 0   date_crawled        48224 non-null  object\n",
      " 1   name                48224 non-null  object\n",
      " 2   seller              48224 non-null  object\n",
      " 3   offer_type          48224 non-null  object\n",
      " 4   price               48224 non-null  int64 \n",
      " 5   abtest              48224 non-null  object\n",
      " 6   vehicle_type        43801 non-null  object\n",
      " 7   registration_year   48224 non-null  int64 \n",
      " 8   gearbox             46019 non-null  object\n",
      " 9   power_ps            48224 non-null  int64 \n",
      " 10  model               45829 non-null  object\n",
      " 11  odometer_in_km      48224 non-null  int64 \n",
      " 12  registration_month  48224 non-null  int64 \n",
      " 13  fuel_type           44345 non-null  object\n",
      " 14  brand               48224 non-null  object\n",
      " 15  unrepaired_damage   39340 non-null  object\n",
      " 16  ad_created          48224 non-null  object\n",
      " 17  number_of_pictures  48224 non-null  int64 \n",
      " 18  postal_code         48224 non-null  int64 \n",
      " 19  last_seen           48224 non-null  object\n",
      "dtypes: int64(7), object(13)\n",
      "memory usage: 7.7+ MB\n"
     ]
    }
   ],
   "source": [
    "# dropping incorrect price data and leave only values between 100 and 350,000\n",
    "autos = autos.loc[autos['price'].between(100,350000)]\n",
    "autos.info()"
   ]
  },
  {
   "cell_type": "markdown",
   "id": "caed4032",
   "metadata": {},
   "source": [
    "At this point, we have cleared the `price` column and also changed the data type to numerical for `odometer_in_km` and `price` columns."
   ]
  },
  {
   "cell_type": "markdown",
   "id": "09d09682",
   "metadata": {},
   "source": [
    "## Exploring Date Columns"
   ]
  },
  {
   "cell_type": "markdown",
   "id": "fa489e18",
   "metadata": {},
   "source": [
    "Let's look at some date columns in our dataset."
   ]
  },
  {
   "cell_type": "code",
   "execution_count": 24,
   "id": "8a9277af",
   "metadata": {
    "scrolled": true
   },
   "outputs": [
    {
     "name": "stdout",
     "output_type": "stream",
     "text": [
      "date_crawled\n",
      "2016-03-05    0.025361\n",
      "2016-03-06    0.014039\n",
      "2016-03-07    0.036061\n",
      "2016-03-08    0.033179\n",
      "2016-03-09    0.033013\n",
      "2016-03-10    0.032287\n",
      "2016-03-11    0.032598\n",
      "2016-03-12    0.036911\n",
      "2016-03-13    0.015677\n",
      "2016-03-14    0.036662\n",
      "2016-03-15    0.034319\n",
      "2016-03-16    0.029467\n",
      "2016-03-17    0.031499\n",
      "2016-03-18    0.012898\n",
      "2016-03-19    0.034734\n",
      "2016-03-20    0.037803\n",
      "2016-03-21    0.037201\n",
      "2016-03-22    0.032888\n",
      "2016-03-23    0.032287\n",
      "2016-03-24    0.029446\n",
      "2016-03-25    0.031499\n",
      "2016-03-26    0.032308\n",
      "2016-03-27    0.031126\n",
      "2016-03-28    0.034962\n",
      "2016-03-29    0.034112\n",
      "2016-03-30    0.033738\n",
      "2016-03-31    0.031851\n",
      "2016-04-01    0.033697\n",
      "2016-04-02    0.035605\n",
      "2016-04-03    0.038611\n",
      "2016-04-04    0.036538\n",
      "2016-04-05    0.013064\n",
      "2016-04-06    0.003173\n",
      "2016-04-07    0.001389\n",
      "Name: proportion, dtype: float64\n"
     ]
    }
   ],
   "source": [
    "# printing date only without time, sorted by index\n",
    "print(autos['date_crawled'].str[:10].value_counts(normalize=True, dropna=False).sort_index())"
   ]
  },
  {
   "cell_type": "markdown",
   "id": "168f525b",
   "metadata": {},
   "source": [
    "We can see that the data for this dataset was collected from 2016/03/05 up to 2016/04/07. But there's nothing interesting."
   ]
  },
  {
   "cell_type": "code",
   "execution_count": 25,
   "id": "e6c615c1",
   "metadata": {
    "scrolled": true
   },
   "outputs": [
    {
     "name": "stdout",
     "output_type": "stream",
     "text": [
      "ad_created\n",
      "2015-06-11    0.000021\n",
      "2015-08-10    0.000021\n",
      "2015-09-09    0.000021\n",
      "2015-11-10    0.000021\n",
      "2015-12-05    0.000021\n",
      "                ...   \n",
      "2016-04-03    0.038860\n",
      "2016-04-04    0.036890\n",
      "2016-04-05    0.011799\n",
      "2016-04-06    0.003256\n",
      "2016-04-07    0.001244\n",
      "Name: proportion, Length: 76, dtype: float64\n"
     ]
    }
   ],
   "source": [
    "# printing date only without time, sorted by index\n",
    "print(autos['ad_created'].str[:10].value_counts(normalize=True, dropna=False).sort_index())"
   ]
  },
  {
   "cell_type": "markdown",
   "id": "d9e6ec9c",
   "metadata": {},
   "source": [
    "Based on this column we can say that our dataset contains ads from 2015/06/11 up to 2016/04/07. "
   ]
  },
  {
   "cell_type": "code",
   "execution_count": 26,
   "id": "b46b38f7",
   "metadata": {
    "scrolled": true
   },
   "outputs": [
    {
     "name": "stdout",
     "output_type": "stream",
     "text": [
      "last_seen\n",
      "2016-03-05    0.001078\n",
      "2016-03-06    0.004313\n",
      "2016-03-07    0.005433\n",
      "2016-03-08    0.007320\n",
      "2016-03-09    0.009580\n",
      "2016-03-10    0.010638\n",
      "2016-03-11    0.012400\n",
      "2016-03-12    0.023785\n",
      "2016-03-13    0.008875\n",
      "2016-03-14    0.012629\n",
      "2016-03-15    0.015863\n",
      "2016-03-16    0.016444\n",
      "2016-03-17    0.028098\n",
      "2016-03-18    0.007320\n",
      "2016-03-19    0.015760\n",
      "2016-03-20    0.020654\n",
      "2016-03-21    0.020550\n",
      "2016-03-22    0.021359\n",
      "2016-03-23    0.018580\n",
      "2016-03-24    0.019762\n",
      "2016-03-25    0.019098\n",
      "2016-03-26    0.016672\n",
      "2016-03-27    0.015552\n",
      "2016-03-28    0.020840\n",
      "2016-03-29    0.022292\n",
      "2016-03-30    0.024697\n",
      "2016-03-31    0.023826\n",
      "2016-04-01    0.022852\n",
      "2016-04-02    0.024884\n",
      "2016-04-03    0.025133\n",
      "2016-04-04    0.024531\n",
      "2016-04-05    0.125062\n",
      "2016-04-06    0.221964\n",
      "2016-04-07    0.132154\n",
      "Name: proportion, dtype: float64\n"
     ]
    }
   ],
   "source": [
    "# printing date only without time, sorted by index\n",
    "print(autos['last_seen'].str[:10].value_counts(normalize=True, dropna=False).sort_index())"
   ]
  },
  {
   "cell_type": "markdown",
   "id": "12441d34",
   "metadata": {},
   "source": [
    "As for `last_seen` column, we can say that the values pretty the same as for `date_crawled` column, from 2016/03/05 up to 2016/04/07."
   ]
  },
  {
   "cell_type": "markdown",
   "id": "8339db5b",
   "metadata": {},
   "source": [
    "### Removing Wrong Data from Registration Year Column"
   ]
  },
  {
   "cell_type": "markdown",
   "id": "22e48aba",
   "metadata": {},
   "source": [
    "If we look at lowest and highest values of `registration_year` column, we can see some wrong data. "
   ]
  },
  {
   "cell_type": "code",
   "execution_count": 27,
   "id": "8284bf6e",
   "metadata": {
    "scrolled": true
   },
   "outputs": [
    {
     "name": "stdout",
     "output_type": "stream",
     "text": [
      "registration_year\n",
      "1000    1\n",
      "1001    1\n",
      "1111    1\n",
      "1800    2\n",
      "1910    2\n",
      "Name: count, dtype: int64\n",
      "registration_year\n",
      "2015     380\n",
      "2016    1202\n",
      "2017    1383\n",
      "2018     468\n",
      "2019       2\n",
      "2800       1\n",
      "4100       1\n",
      "4500       1\n",
      "4800       1\n",
      "5000       3\n",
      "5911       1\n",
      "6200       1\n",
      "8888       1\n",
      "9000       1\n",
      "9999       3\n",
      "Name: count, dtype: int64\n"
     ]
    }
   ],
   "source": [
    "print(autos['registration_year'].value_counts().sort_index().head(5))\n",
    "print(autos['registration_year'].value_counts().sort_index().tail(15))"
   ]
  },
  {
   "cell_type": "markdown",
   "id": "780b744f",
   "metadata": {},
   "source": [
    "There are years such as 1000, 1001, 2800 and 5000. As our dataset was scraped in 2016 we can assume that the last year of registration should be in 2016. As for lowest year, it could be somewhere in the first few decades of the 1900s."
   ]
  },
  {
   "cell_type": "code",
   "execution_count": 28,
   "id": "f28bb776",
   "metadata": {
    "scrolled": true
   },
   "outputs": [
    {
     "name": "stdout",
     "output_type": "stream",
     "text": [
      "<class 'pandas.core.frame.DataFrame'>\n",
      "Index: 46352 entries, 0 to 49999\n",
      "Data columns (total 20 columns):\n",
      " #   Column              Non-Null Count  Dtype \n",
      "---  ------              --------------  ----- \n",
      " 0   date_crawled        46352 non-null  object\n",
      " 1   name                46352 non-null  object\n",
      " 2   seller              46352 non-null  object\n",
      " 3   offer_type          46352 non-null  object\n",
      " 4   price               46352 non-null  int64 \n",
      " 5   abtest              46352 non-null  object\n",
      " 6   vehicle_type        43799 non-null  object\n",
      " 7   registration_year   46352 non-null  int64 \n",
      " 8   gearbox             44378 non-null  object\n",
      " 9   power_ps            46352 non-null  int64 \n",
      " 10  model               44221 non-null  object\n",
      " 11  odometer_in_km      46352 non-null  int64 \n",
      " 12  registration_month  46352 non-null  int64 \n",
      " 13  fuel_type           43181 non-null  object\n",
      " 14  brand               46352 non-null  object\n",
      " 15  unrepaired_damage   38254 non-null  object\n",
      " 16  ad_created          46352 non-null  object\n",
      " 17  number_of_pictures  46352 non-null  int64 \n",
      " 18  postal_code         46352 non-null  int64 \n",
      " 19  last_seen           46352 non-null  object\n",
      "dtypes: int64(7), object(13)\n",
      "memory usage: 7.4+ MB\n",
      "None\n"
     ]
    }
   ],
   "source": [
    "# dropping incorrect `registration_year` data and leave only values between 1910 and 2016\n",
    "autos = autos.loc[autos['registration_year'].between(1910,2016)]\n",
    "print(autos.info())"
   ]
  },
  {
   "cell_type": "markdown",
   "id": "d53da0cf",
   "metadata": {},
   "source": [
    "Before we deleted the incorrect data, we had 48,224 values, and after cleaning we have 46,352. Let's find out in which year the largest number of cars was registered."
   ]
  },
  {
   "cell_type": "code",
   "execution_count": 29,
   "id": "88f87a5d",
   "metadata": {
    "scrolled": true
   },
   "outputs": [
    {
     "name": "stdout",
     "output_type": "stream",
     "text": [
      "registration_year\n",
      "2000    0.066966\n",
      "2005    0.062802\n",
      "1999    0.062112\n",
      "2004    0.058228\n",
      "2003    0.058099\n",
      "          ...   \n",
      "1939    0.000022\n",
      "1948    0.000022\n",
      "1938    0.000022\n",
      "1953    0.000022\n",
      "1950    0.000022\n",
      "Name: proportion, Length: 78, dtype: float64\n"
     ]
    }
   ],
   "source": [
    "print(autos['registration_year'].value_counts(normalize=True))"
   ]
  },
  {
   "cell_type": "markdown",
   "id": "1303b078",
   "metadata": {},
   "source": [
    "Of all our dataset, 6% of the cars were registered in 2000, 2005 and 1999. For 2004 and 2003 this is 5%."
   ]
  },
  {
   "cell_type": "markdown",
   "id": "42b655c3",
   "metadata": {},
   "source": [
    "## Exploring Brand Column"
   ]
  },
  {
   "cell_type": "markdown",
   "id": "9ddd8500",
   "metadata": {},
   "source": [
    "Let's take a look at `brand` column and pick some brands for our next steps."
   ]
  },
  {
   "cell_type": "code",
   "execution_count": 30,
   "id": "e54e458a",
   "metadata": {
    "scrolled": true
   },
   "outputs": [
    {
     "name": "stdout",
     "output_type": "stream",
     "text": [
      "brand\n",
      "volkswagen        0.211404\n",
      "bmw               0.110179\n",
      "opel              0.107245\n",
      "mercedes_benz     0.096652\n",
      "audi              0.086771\n",
      "ford              0.069835\n",
      "renault           0.047075\n",
      "peugeot           0.029858\n",
      "fiat              0.025608\n",
      "seat              0.018252\n",
      "skoda             0.016418\n",
      "nissan            0.015339\n",
      "mazda             0.015231\n",
      "smart             0.014196\n",
      "citroen           0.014045\n",
      "toyota            0.012793\n",
      "hyundai           0.010010\n",
      "sonstige_autos    0.009536\n",
      "volvo             0.009126\n",
      "mini              0.008802\n",
      "mitsubishi        0.008177\n",
      "honda             0.007875\n",
      "kia               0.007076\n",
      "alfa_romeo        0.006666\n",
      "porsche           0.006019\n",
      "suzuki            0.005933\n",
      "chevrolet         0.005674\n",
      "chrysler          0.003517\n",
      "dacia             0.002654\n",
      "daihatsu          0.002503\n",
      "jeep              0.002287\n",
      "land_rover        0.002114\n",
      "subaru            0.002114\n",
      "saab              0.001661\n",
      "jaguar            0.001532\n",
      "daewoo            0.001489\n",
      "trabant           0.001359\n",
      "rover             0.001338\n",
      "lancia            0.001057\n",
      "lada              0.000582\n",
      "Name: proportion, dtype: float64\n"
     ]
    }
   ],
   "source": [
    "print(autos['brand'].value_counts(normalize=True))"
   ]
  },
  {
   "cell_type": "markdown",
   "id": "72a9ac63",
   "metadata": {},
   "source": [
    "We are going to select first 6 brands that have over 5% of the all cars in our dataset. The first step is to find the average price for each brand of cars."
   ]
  },
  {
   "cell_type": "code",
   "execution_count": 31,
   "id": "2f9f24fa",
   "metadata": {},
   "outputs": [
    {
     "name": "stdout",
     "output_type": "stream",
     "text": [
      "{'volkswagen': 5437, 'bmw': 8382, 'opel': 3005, 'mercedes_benz': 8673, 'audi': 9381, 'ford': 3779}\n"
     ]
    }
   ],
   "source": [
    "# counting mean price of cars by brand\n",
    "mean_price_by_brand = dict()\n",
    "\n",
    "for brand in autos['brand'].value_counts().head(6).index:\n",
    "    \n",
    "    mean_price = round(autos.loc[autos['brand'] == brand, 'price'].mean())\n",
    "    \n",
    "    mean_price_by_brand[brand] = mean_price\n",
    "\n",
    "print(mean_price_by_brand)"
   ]
  },
  {
   "cell_type": "markdown",
   "id": "8a20a4b2",
   "metadata": {},
   "source": [
    "As we can see, 'Audi', 'Mercedes-Benz' and 'BMW' have the highest price among the selected brands. 'Ford' and 'Opel' have the lowest prices and 'Volkwagen' somewhere in the middle. Let's find out if the mileage affects the price somehow."
   ]
  },
  {
   "cell_type": "code",
   "execution_count": 32,
   "id": "7aa6530f",
   "metadata": {},
   "outputs": [
    {
     "name": "stdout",
     "output_type": "stream",
     "text": [
      "{'volkswagen': 128800, 'bmw': 132695, 'opel': 129384, 'mercedes_benz': 131026, 'audi': 129245, 'ford': 124277}\n"
     ]
    }
   ],
   "source": [
    "# counting mean mileage of cars by brand\n",
    "mean_mileage_by_brand = dict()\n",
    "\n",
    "for brand in autos['brand'].value_counts().head(6).index:\n",
    "    \n",
    "    mean_mileage = round(autos.loc[autos['brand'] == brand, 'odometer_in_km'].mean())\n",
    "    \n",
    "    mean_mileage_by_brand[brand] = mean_mileage\n",
    "\n",
    "print(mean_mileage_by_brand)"
   ]
  },
  {
   "cell_type": "markdown",
   "id": "863bf804",
   "metadata": {},
   "source": [
    "Now we have the average price and the average mileage. Let's compare them and make some conclusions."
   ]
  },
  {
   "cell_type": "code",
   "execution_count": 33,
   "id": "2a6534b2",
   "metadata": {},
   "outputs": [
    {
     "data": {
      "text/html": [
       "<div>\n",
       "<style scoped>\n",
       "    .dataframe tbody tr th:only-of-type {\n",
       "        vertical-align: middle;\n",
       "    }\n",
       "\n",
       "    .dataframe tbody tr th {\n",
       "        vertical-align: top;\n",
       "    }\n",
       "\n",
       "    .dataframe thead th {\n",
       "        text-align: right;\n",
       "    }\n",
       "</style>\n",
       "<table border=\"1\" class=\"dataframe\">\n",
       "  <thead>\n",
       "    <tr style=\"text-align: right;\">\n",
       "      <th></th>\n",
       "      <th>mean_price</th>\n",
       "      <th>mean_mileage</th>\n",
       "    </tr>\n",
       "  </thead>\n",
       "  <tbody>\n",
       "    <tr>\n",
       "      <th>volkswagen</th>\n",
       "      <td>5437</td>\n",
       "      <td>128800</td>\n",
       "    </tr>\n",
       "    <tr>\n",
       "      <th>bmw</th>\n",
       "      <td>8382</td>\n",
       "      <td>132695</td>\n",
       "    </tr>\n",
       "    <tr>\n",
       "      <th>opel</th>\n",
       "      <td>3005</td>\n",
       "      <td>129384</td>\n",
       "    </tr>\n",
       "    <tr>\n",
       "      <th>mercedes_benz</th>\n",
       "      <td>8673</td>\n",
       "      <td>131026</td>\n",
       "    </tr>\n",
       "    <tr>\n",
       "      <th>audi</th>\n",
       "      <td>9381</td>\n",
       "      <td>129245</td>\n",
       "    </tr>\n",
       "    <tr>\n",
       "      <th>ford</th>\n",
       "      <td>3779</td>\n",
       "      <td>124277</td>\n",
       "    </tr>\n",
       "  </tbody>\n",
       "</table>\n",
       "</div>"
      ],
      "text/plain": [
       "               mean_price  mean_mileage\n",
       "volkswagen           5437        128800\n",
       "bmw                  8382        132695\n",
       "opel                 3005        129384\n",
       "mercedes_benz        8673        131026\n",
       "audi                 9381        129245\n",
       "ford                 3779        124277"
      ]
     },
     "execution_count": 33,
     "metadata": {},
     "output_type": "execute_result"
    }
   ],
   "source": [
    "# creating `mean_price` and `mean_mileage` dataframe to compare them\n",
    "bmp_series = pd.Series(mean_price_by_brand)\n",
    "bmm_series = pd.Series(mean_mileage_by_brand)\n",
    "\n",
    "price_mileage_df = pd.DataFrame(bmp_series, columns=['mean_price'])\n",
    "\n",
    "price_mileage_df['mean_mileage'] = bmm_series\n",
    "\n",
    "price_mileage_df"
   ]
  },
  {
   "cell_type": "markdown",
   "id": "82f6787c",
   "metadata": {},
   "source": [
    "In the table above we can see that 'BMW' have average price \\\\$8,382 and average mileage 132,695km. As for 'Ford' average price is \\\\$3,779 and average mileage 124,277km. We can say that mileage doesn't affect the price in this situation."
   ]
  },
  {
   "cell_type": "markdown",
   "id": "957129a6",
   "metadata": {},
   "source": [
    "## Extra Steps"
   ]
  },
  {
   "cell_type": "markdown",
   "id": "2d54a448",
   "metadata": {},
   "source": [
    "### Changing German Words into English"
   ]
  },
  {
   "cell_type": "markdown",
   "id": "923a7082",
   "metadata": {},
   "source": [
    "There are also many words written in German. We can find some of them in our full dataset table."
   ]
  },
  {
   "cell_type": "code",
   "execution_count": 34,
   "id": "8f458b56",
   "metadata": {
    "scrolled": true
   },
   "outputs": [
    {
     "data": {
      "text/html": [
       "<div>\n",
       "<style scoped>\n",
       "    .dataframe tbody tr th:only-of-type {\n",
       "        vertical-align: middle;\n",
       "    }\n",
       "\n",
       "    .dataframe tbody tr th {\n",
       "        vertical-align: top;\n",
       "    }\n",
       "\n",
       "    .dataframe thead th {\n",
       "        text-align: right;\n",
       "    }\n",
       "</style>\n",
       "<table border=\"1\" class=\"dataframe\">\n",
       "  <thead>\n",
       "    <tr style=\"text-align: right;\">\n",
       "      <th></th>\n",
       "      <th>date_crawled</th>\n",
       "      <th>name</th>\n",
       "      <th>seller</th>\n",
       "      <th>offer_type</th>\n",
       "      <th>price</th>\n",
       "      <th>abtest</th>\n",
       "      <th>vehicle_type</th>\n",
       "      <th>registration_year</th>\n",
       "      <th>gearbox</th>\n",
       "      <th>power_ps</th>\n",
       "      <th>model</th>\n",
       "      <th>odometer_in_km</th>\n",
       "      <th>registration_month</th>\n",
       "      <th>fuel_type</th>\n",
       "      <th>brand</th>\n",
       "      <th>unrepaired_damage</th>\n",
       "      <th>ad_created</th>\n",
       "      <th>number_of_pictures</th>\n",
       "      <th>postal_code</th>\n",
       "      <th>last_seen</th>\n",
       "    </tr>\n",
       "  </thead>\n",
       "  <tbody>\n",
       "    <tr>\n",
       "      <th>0</th>\n",
       "      <td>2016-03-26 17:47:46</td>\n",
       "      <td>Peugeot_807_160_NAVTECH_ON_BOARD</td>\n",
       "      <td>privat</td>\n",
       "      <td>Angebot</td>\n",
       "      <td>5000</td>\n",
       "      <td>control</td>\n",
       "      <td>bus</td>\n",
       "      <td>2004</td>\n",
       "      <td>manuell</td>\n",
       "      <td>158</td>\n",
       "      <td>andere</td>\n",
       "      <td>150000</td>\n",
       "      <td>3</td>\n",
       "      <td>lpg</td>\n",
       "      <td>peugeot</td>\n",
       "      <td>nein</td>\n",
       "      <td>2016-03-26 00:00:00</td>\n",
       "      <td>0</td>\n",
       "      <td>79588</td>\n",
       "      <td>2016-04-06 06:45:54</td>\n",
       "    </tr>\n",
       "    <tr>\n",
       "      <th>1</th>\n",
       "      <td>2016-04-04 13:38:56</td>\n",
       "      <td>BMW_740i_4_4_Liter_HAMANN_UMBAU_Mega_Optik</td>\n",
       "      <td>privat</td>\n",
       "      <td>Angebot</td>\n",
       "      <td>8500</td>\n",
       "      <td>control</td>\n",
       "      <td>limousine</td>\n",
       "      <td>1997</td>\n",
       "      <td>automatik</td>\n",
       "      <td>286</td>\n",
       "      <td>7er</td>\n",
       "      <td>150000</td>\n",
       "      <td>6</td>\n",
       "      <td>benzin</td>\n",
       "      <td>bmw</td>\n",
       "      <td>nein</td>\n",
       "      <td>2016-04-04 00:00:00</td>\n",
       "      <td>0</td>\n",
       "      <td>71034</td>\n",
       "      <td>2016-04-06 14:45:08</td>\n",
       "    </tr>\n",
       "    <tr>\n",
       "      <th>2</th>\n",
       "      <td>2016-03-26 18:57:24</td>\n",
       "      <td>Volkswagen_Golf_1.6_United</td>\n",
       "      <td>privat</td>\n",
       "      <td>Angebot</td>\n",
       "      <td>8990</td>\n",
       "      <td>test</td>\n",
       "      <td>limousine</td>\n",
       "      <td>2009</td>\n",
       "      <td>manuell</td>\n",
       "      <td>102</td>\n",
       "      <td>golf</td>\n",
       "      <td>70000</td>\n",
       "      <td>7</td>\n",
       "      <td>benzin</td>\n",
       "      <td>volkswagen</td>\n",
       "      <td>nein</td>\n",
       "      <td>2016-03-26 00:00:00</td>\n",
       "      <td>0</td>\n",
       "      <td>35394</td>\n",
       "      <td>2016-04-06 20:15:37</td>\n",
       "    </tr>\n",
       "    <tr>\n",
       "      <th>3</th>\n",
       "      <td>2016-03-12 16:58:10</td>\n",
       "      <td>Smart_smart_fortwo_coupe_softouch/F1/Klima/Pan...</td>\n",
       "      <td>privat</td>\n",
       "      <td>Angebot</td>\n",
       "      <td>4350</td>\n",
       "      <td>control</td>\n",
       "      <td>kleinwagen</td>\n",
       "      <td>2007</td>\n",
       "      <td>automatik</td>\n",
       "      <td>71</td>\n",
       "      <td>fortwo</td>\n",
       "      <td>70000</td>\n",
       "      <td>6</td>\n",
       "      <td>benzin</td>\n",
       "      <td>smart</td>\n",
       "      <td>nein</td>\n",
       "      <td>2016-03-12 00:00:00</td>\n",
       "      <td>0</td>\n",
       "      <td>33729</td>\n",
       "      <td>2016-03-15 03:16:28</td>\n",
       "    </tr>\n",
       "    <tr>\n",
       "      <th>4</th>\n",
       "      <td>2016-04-01 14:38:50</td>\n",
       "      <td>Ford_Focus_1_6_Benzin_TÜV_neu_ist_sehr_gepfleg...</td>\n",
       "      <td>privat</td>\n",
       "      <td>Angebot</td>\n",
       "      <td>1350</td>\n",
       "      <td>test</td>\n",
       "      <td>kombi</td>\n",
       "      <td>2003</td>\n",
       "      <td>manuell</td>\n",
       "      <td>0</td>\n",
       "      <td>focus</td>\n",
       "      <td>150000</td>\n",
       "      <td>7</td>\n",
       "      <td>benzin</td>\n",
       "      <td>ford</td>\n",
       "      <td>nein</td>\n",
       "      <td>2016-04-01 00:00:00</td>\n",
       "      <td>0</td>\n",
       "      <td>39218</td>\n",
       "      <td>2016-04-01 14:38:50</td>\n",
       "    </tr>\n",
       "    <tr>\n",
       "      <th>...</th>\n",
       "      <td>...</td>\n",
       "      <td>...</td>\n",
       "      <td>...</td>\n",
       "      <td>...</td>\n",
       "      <td>...</td>\n",
       "      <td>...</td>\n",
       "      <td>...</td>\n",
       "      <td>...</td>\n",
       "      <td>...</td>\n",
       "      <td>...</td>\n",
       "      <td>...</td>\n",
       "      <td>...</td>\n",
       "      <td>...</td>\n",
       "      <td>...</td>\n",
       "      <td>...</td>\n",
       "      <td>...</td>\n",
       "      <td>...</td>\n",
       "      <td>...</td>\n",
       "      <td>...</td>\n",
       "      <td>...</td>\n",
       "    </tr>\n",
       "    <tr>\n",
       "      <th>49995</th>\n",
       "      <td>2016-03-27 14:38:19</td>\n",
       "      <td>Audi_Q5_3.0_TDI_qu._S_tr.__Navi__Panorama__Xenon</td>\n",
       "      <td>privat</td>\n",
       "      <td>Angebot</td>\n",
       "      <td>24900</td>\n",
       "      <td>control</td>\n",
       "      <td>limousine</td>\n",
       "      <td>2011</td>\n",
       "      <td>automatik</td>\n",
       "      <td>239</td>\n",
       "      <td>q5</td>\n",
       "      <td>100000</td>\n",
       "      <td>1</td>\n",
       "      <td>diesel</td>\n",
       "      <td>audi</td>\n",
       "      <td>nein</td>\n",
       "      <td>2016-03-27 00:00:00</td>\n",
       "      <td>0</td>\n",
       "      <td>82131</td>\n",
       "      <td>2016-04-01 13:47:40</td>\n",
       "    </tr>\n",
       "    <tr>\n",
       "      <th>49996</th>\n",
       "      <td>2016-03-28 10:50:25</td>\n",
       "      <td>Opel_Astra_F_Cabrio_Bertone_Edition___TÜV_neu+...</td>\n",
       "      <td>privat</td>\n",
       "      <td>Angebot</td>\n",
       "      <td>1980</td>\n",
       "      <td>control</td>\n",
       "      <td>cabrio</td>\n",
       "      <td>1996</td>\n",
       "      <td>manuell</td>\n",
       "      <td>75</td>\n",
       "      <td>astra</td>\n",
       "      <td>150000</td>\n",
       "      <td>5</td>\n",
       "      <td>benzin</td>\n",
       "      <td>opel</td>\n",
       "      <td>nein</td>\n",
       "      <td>2016-03-28 00:00:00</td>\n",
       "      <td>0</td>\n",
       "      <td>44807</td>\n",
       "      <td>2016-04-02 14:18:02</td>\n",
       "    </tr>\n",
       "    <tr>\n",
       "      <th>49997</th>\n",
       "      <td>2016-04-02 14:44:48</td>\n",
       "      <td>Fiat_500_C_1.2_Dualogic_Lounge</td>\n",
       "      <td>privat</td>\n",
       "      <td>Angebot</td>\n",
       "      <td>13200</td>\n",
       "      <td>test</td>\n",
       "      <td>cabrio</td>\n",
       "      <td>2014</td>\n",
       "      <td>automatik</td>\n",
       "      <td>69</td>\n",
       "      <td>500</td>\n",
       "      <td>5000</td>\n",
       "      <td>11</td>\n",
       "      <td>benzin</td>\n",
       "      <td>fiat</td>\n",
       "      <td>nein</td>\n",
       "      <td>2016-04-02 00:00:00</td>\n",
       "      <td>0</td>\n",
       "      <td>73430</td>\n",
       "      <td>2016-04-04 11:47:27</td>\n",
       "    </tr>\n",
       "    <tr>\n",
       "      <th>49998</th>\n",
       "      <td>2016-03-08 19:25:42</td>\n",
       "      <td>Audi_A3_2.0_TDI_Sportback_Ambition</td>\n",
       "      <td>privat</td>\n",
       "      <td>Angebot</td>\n",
       "      <td>22900</td>\n",
       "      <td>control</td>\n",
       "      <td>kombi</td>\n",
       "      <td>2013</td>\n",
       "      <td>manuell</td>\n",
       "      <td>150</td>\n",
       "      <td>a3</td>\n",
       "      <td>40000</td>\n",
       "      <td>11</td>\n",
       "      <td>diesel</td>\n",
       "      <td>audi</td>\n",
       "      <td>nein</td>\n",
       "      <td>2016-03-08 00:00:00</td>\n",
       "      <td>0</td>\n",
       "      <td>35683</td>\n",
       "      <td>2016-04-05 16:45:07</td>\n",
       "    </tr>\n",
       "    <tr>\n",
       "      <th>49999</th>\n",
       "      <td>2016-03-14 00:42:12</td>\n",
       "      <td>Opel_Vectra_1.6_16V</td>\n",
       "      <td>privat</td>\n",
       "      <td>Angebot</td>\n",
       "      <td>1250</td>\n",
       "      <td>control</td>\n",
       "      <td>limousine</td>\n",
       "      <td>1996</td>\n",
       "      <td>manuell</td>\n",
       "      <td>101</td>\n",
       "      <td>vectra</td>\n",
       "      <td>150000</td>\n",
       "      <td>1</td>\n",
       "      <td>benzin</td>\n",
       "      <td>opel</td>\n",
       "      <td>nein</td>\n",
       "      <td>2016-03-13 00:00:00</td>\n",
       "      <td>0</td>\n",
       "      <td>45897</td>\n",
       "      <td>2016-04-06 21:18:48</td>\n",
       "    </tr>\n",
       "  </tbody>\n",
       "</table>\n",
       "<p>46352 rows × 20 columns</p>\n",
       "</div>"
      ],
      "text/plain": [
       "              date_crawled                                               name  \\\n",
       "0      2016-03-26 17:47:46                   Peugeot_807_160_NAVTECH_ON_BOARD   \n",
       "1      2016-04-04 13:38:56         BMW_740i_4_4_Liter_HAMANN_UMBAU_Mega_Optik   \n",
       "2      2016-03-26 18:57:24                         Volkswagen_Golf_1.6_United   \n",
       "3      2016-03-12 16:58:10  Smart_smart_fortwo_coupe_softouch/F1/Klima/Pan...   \n",
       "4      2016-04-01 14:38:50  Ford_Focus_1_6_Benzin_TÜV_neu_ist_sehr_gepfleg...   \n",
       "...                    ...                                                ...   \n",
       "49995  2016-03-27 14:38:19   Audi_Q5_3.0_TDI_qu._S_tr.__Navi__Panorama__Xenon   \n",
       "49996  2016-03-28 10:50:25  Opel_Astra_F_Cabrio_Bertone_Edition___TÜV_neu+...   \n",
       "49997  2016-04-02 14:44:48                     Fiat_500_C_1.2_Dualogic_Lounge   \n",
       "49998  2016-03-08 19:25:42                 Audi_A3_2.0_TDI_Sportback_Ambition   \n",
       "49999  2016-03-14 00:42:12                                Opel_Vectra_1.6_16V   \n",
       "\n",
       "       seller offer_type  price   abtest vehicle_type  registration_year  \\\n",
       "0      privat    Angebot   5000  control          bus               2004   \n",
       "1      privat    Angebot   8500  control    limousine               1997   \n",
       "2      privat    Angebot   8990     test    limousine               2009   \n",
       "3      privat    Angebot   4350  control   kleinwagen               2007   \n",
       "4      privat    Angebot   1350     test        kombi               2003   \n",
       "...       ...        ...    ...      ...          ...                ...   \n",
       "49995  privat    Angebot  24900  control    limousine               2011   \n",
       "49996  privat    Angebot   1980  control       cabrio               1996   \n",
       "49997  privat    Angebot  13200     test       cabrio               2014   \n",
       "49998  privat    Angebot  22900  control        kombi               2013   \n",
       "49999  privat    Angebot   1250  control    limousine               1996   \n",
       "\n",
       "         gearbox  power_ps   model  odometer_in_km  registration_month  \\\n",
       "0        manuell       158  andere          150000                   3   \n",
       "1      automatik       286     7er          150000                   6   \n",
       "2        manuell       102    golf           70000                   7   \n",
       "3      automatik        71  fortwo           70000                   6   \n",
       "4        manuell         0   focus          150000                   7   \n",
       "...          ...       ...     ...             ...                 ...   \n",
       "49995  automatik       239      q5          100000                   1   \n",
       "49996    manuell        75   astra          150000                   5   \n",
       "49997  automatik        69     500            5000                  11   \n",
       "49998    manuell       150      a3           40000                  11   \n",
       "49999    manuell       101  vectra          150000                   1   \n",
       "\n",
       "      fuel_type       brand unrepaired_damage           ad_created  \\\n",
       "0           lpg     peugeot              nein  2016-03-26 00:00:00   \n",
       "1        benzin         bmw              nein  2016-04-04 00:00:00   \n",
       "2        benzin  volkswagen              nein  2016-03-26 00:00:00   \n",
       "3        benzin       smart              nein  2016-03-12 00:00:00   \n",
       "4        benzin        ford              nein  2016-04-01 00:00:00   \n",
       "...         ...         ...               ...                  ...   \n",
       "49995    diesel        audi              nein  2016-03-27 00:00:00   \n",
       "49996    benzin        opel              nein  2016-03-28 00:00:00   \n",
       "49997    benzin        fiat              nein  2016-04-02 00:00:00   \n",
       "49998    diesel        audi              nein  2016-03-08 00:00:00   \n",
       "49999    benzin        opel              nein  2016-03-13 00:00:00   \n",
       "\n",
       "       number_of_pictures  postal_code            last_seen  \n",
       "0                       0        79588  2016-04-06 06:45:54  \n",
       "1                       0        71034  2016-04-06 14:45:08  \n",
       "2                       0        35394  2016-04-06 20:15:37  \n",
       "3                       0        33729  2016-03-15 03:16:28  \n",
       "4                       0        39218  2016-04-01 14:38:50  \n",
       "...                   ...          ...                  ...  \n",
       "49995                   0        82131  2016-04-01 13:47:40  \n",
       "49996                   0        44807  2016-04-02 14:18:02  \n",
       "49997                   0        73430  2016-04-04 11:47:27  \n",
       "49998                   0        35683  2016-04-05 16:45:07  \n",
       "49999                   0        45897  2016-04-06 21:18:48  \n",
       "\n",
       "[46352 rows x 20 columns]"
      ]
     },
     "execution_count": 34,
     "metadata": {},
     "output_type": "execute_result"
    }
   ],
   "source": [
    "autos"
   ]
  },
  {
   "cell_type": "markdown",
   "id": "1cc54b2f",
   "metadata": {},
   "source": [
    "There are many columns that contain German words. We will print all of them below."
   ]
  },
  {
   "cell_type": "code",
   "execution_count": 35,
   "id": "8c8a6ebf",
   "metadata": {},
   "outputs": [
    {
     "name": "stdout",
     "output_type": "stream",
     "text": [
      "['privat' 'gewerblich']\n",
      "['Angebot']\n",
      "['bus' 'limousine' 'kleinwagen' 'kombi' nan 'coupe' 'suv' 'cabrio'\n",
      " 'andere']\n",
      "['manuell' 'automatik' nan]\n",
      "['lpg' 'benzin' 'diesel' nan 'cng' 'hybrid' 'elektro' 'andere']\n",
      "['nein' nan 'ja']\n"
     ]
    }
   ],
   "source": [
    "print(autos['seller'].unique())\n",
    "print(autos['offer_type'].unique())\n",
    "print(autos['vehicle_type'].unique())\n",
    "print(autos['gearbox'].unique())\n",
    "print(autos['fuel_type'].unique())\n",
    "print(autos['unrepaired_damage'].unique())"
   ]
  },
  {
   "cell_type": "markdown",
   "id": "4f40d2b1",
   "metadata": {},
   "source": [
    "We are going to translate these words written in German and swap them with English translation."
   ]
  },
  {
   "cell_type": "code",
   "execution_count": 36,
   "id": "ead15304",
   "metadata": {},
   "outputs": [],
   "source": [
    "# creating maps for columns that contains German words\n",
    "autos['seller'] = autos['seller'].map({\n",
    "                                       'privat': 'private',\n",
    "                                       'gewerblich': 'commercial'\n",
    "                                     })\n",
    "\n",
    "autos['offer_type'] = autos['offer_type'].map({'Angebot': 'offer'})\n",
    "\n",
    "vehicle_type_map = {\n",
    "                    'bus': 'bus',\n",
    "                    'limousine': 'limousine',\n",
    "                    'kleinwagen': 'small car',\n",
    "                    'kombi': 'station wagon',\n",
    "                    'coupe': 'coupe',\n",
    "                    'suv': 'suv',\n",
    "                    'cabrio': 'cabrio',\n",
    "                    'andere': 'other'\n",
    "                    }\n",
    "autos['vehicle_type'] = autos['vehicle_type'].map(vehicle_type_map)\n",
    "\n",
    "autos['gearbox'] = autos['gearbox'].map({\n",
    "                                         'manuell': 'manual',\n",
    "                                         'automatik': 'automatic'\n",
    "                                         })\n",
    "\n",
    "fuel_type_map = {\n",
    "                 'lpg': 'lpg',\n",
    "                 'benzin': 'gasoline',\n",
    "                 'diesel': 'diesel',\n",
    "                 'cng': 'cng',\n",
    "                 'hybrid': 'hybrid',\n",
    "                 'elektro': 'electro',\n",
    "                 'andere': 'other'\n",
    "                 }\n",
    "autos['fuel_type'] = autos['fuel_type'].map(fuel_type_map)\n",
    "\n",
    "autos['unrepaired_damage'] = autos['unrepaired_damage'].map({\n",
    "                                                             'nein': 'no',\n",
    "                                                             'ja': 'yes'\n",
    "                                                             })"
   ]
  },
  {
   "cell_type": "code",
   "execution_count": 37,
   "id": "92356f41",
   "metadata": {},
   "outputs": [
    {
     "name": "stdout",
     "output_type": "stream",
     "text": [
      "['private' 'commercial']\n",
      "['offer']\n",
      "['bus' 'limousine' 'small car' 'station wagon' nan 'coupe' 'suv' 'cabrio'\n",
      " 'other']\n",
      "['manual' 'automatic' nan]\n",
      "['lpg' 'gasoline' 'diesel' nan 'cng' 'hybrid' 'electro' 'other']\n",
      "['no' nan 'yes']\n"
     ]
    }
   ],
   "source": [
    "print(autos['seller'].unique())\n",
    "print(autos['offer_type'].unique())\n",
    "print(autos['vehicle_type'].unique())\n",
    "print(autos['gearbox'].unique())\n",
    "print(autos['fuel_type'].unique())\n",
    "print(autos['unrepaired_damage'].unique())"
   ]
  },
  {
   "cell_type": "markdown",
   "id": "4b92fe97",
   "metadata": {},
   "source": [
    "Here are the translated versions of words."
   ]
  },
  {
   "cell_type": "markdown",
   "id": "ba126adb",
   "metadata": {},
   "source": [
    "### Changing Date into Numerical Data Type"
   ]
  },
  {
   "cell_type": "markdown",
   "id": "b7e4febb",
   "metadata": {},
   "source": [
    "There is also date columns with the following format \"YYYY-MM-DD\" alongside with time values. We don't need exact time when data was crawled or when ad was posted so we can drop time part and leave only date."
   ]
  },
  {
   "cell_type": "code",
   "execution_count": 38,
   "id": "67cc179f",
   "metadata": {
    "scrolled": true
   },
   "outputs": [
    {
     "data": {
      "text/html": [
       "<div>\n",
       "<style scoped>\n",
       "    .dataframe tbody tr th:only-of-type {\n",
       "        vertical-align: middle;\n",
       "    }\n",
       "\n",
       "    .dataframe tbody tr th {\n",
       "        vertical-align: top;\n",
       "    }\n",
       "\n",
       "    .dataframe thead th {\n",
       "        text-align: right;\n",
       "    }\n",
       "</style>\n",
       "<table border=\"1\" class=\"dataframe\">\n",
       "  <thead>\n",
       "    <tr style=\"text-align: right;\">\n",
       "      <th></th>\n",
       "      <th>date_crawled</th>\n",
       "      <th>ad_created</th>\n",
       "      <th>last_seen</th>\n",
       "    </tr>\n",
       "  </thead>\n",
       "  <tbody>\n",
       "    <tr>\n",
       "      <th>0</th>\n",
       "      <td>2016-03-26 17:47:46</td>\n",
       "      <td>2016-03-26 00:00:00</td>\n",
       "      <td>2016-04-06 06:45:54</td>\n",
       "    </tr>\n",
       "    <tr>\n",
       "      <th>1</th>\n",
       "      <td>2016-04-04 13:38:56</td>\n",
       "      <td>2016-04-04 00:00:00</td>\n",
       "      <td>2016-04-06 14:45:08</td>\n",
       "    </tr>\n",
       "    <tr>\n",
       "      <th>2</th>\n",
       "      <td>2016-03-26 18:57:24</td>\n",
       "      <td>2016-03-26 00:00:00</td>\n",
       "      <td>2016-04-06 20:15:37</td>\n",
       "    </tr>\n",
       "    <tr>\n",
       "      <th>3</th>\n",
       "      <td>2016-03-12 16:58:10</td>\n",
       "      <td>2016-03-12 00:00:00</td>\n",
       "      <td>2016-03-15 03:16:28</td>\n",
       "    </tr>\n",
       "    <tr>\n",
       "      <th>4</th>\n",
       "      <td>2016-04-01 14:38:50</td>\n",
       "      <td>2016-04-01 00:00:00</td>\n",
       "      <td>2016-04-01 14:38:50</td>\n",
       "    </tr>\n",
       "    <tr>\n",
       "      <th>...</th>\n",
       "      <td>...</td>\n",
       "      <td>...</td>\n",
       "      <td>...</td>\n",
       "    </tr>\n",
       "    <tr>\n",
       "      <th>49995</th>\n",
       "      <td>2016-03-27 14:38:19</td>\n",
       "      <td>2016-03-27 00:00:00</td>\n",
       "      <td>2016-04-01 13:47:40</td>\n",
       "    </tr>\n",
       "    <tr>\n",
       "      <th>49996</th>\n",
       "      <td>2016-03-28 10:50:25</td>\n",
       "      <td>2016-03-28 00:00:00</td>\n",
       "      <td>2016-04-02 14:18:02</td>\n",
       "    </tr>\n",
       "    <tr>\n",
       "      <th>49997</th>\n",
       "      <td>2016-04-02 14:44:48</td>\n",
       "      <td>2016-04-02 00:00:00</td>\n",
       "      <td>2016-04-04 11:47:27</td>\n",
       "    </tr>\n",
       "    <tr>\n",
       "      <th>49998</th>\n",
       "      <td>2016-03-08 19:25:42</td>\n",
       "      <td>2016-03-08 00:00:00</td>\n",
       "      <td>2016-04-05 16:45:07</td>\n",
       "    </tr>\n",
       "    <tr>\n",
       "      <th>49999</th>\n",
       "      <td>2016-03-14 00:42:12</td>\n",
       "      <td>2016-03-13 00:00:00</td>\n",
       "      <td>2016-04-06 21:18:48</td>\n",
       "    </tr>\n",
       "  </tbody>\n",
       "</table>\n",
       "<p>46352 rows × 3 columns</p>\n",
       "</div>"
      ],
      "text/plain": [
       "              date_crawled           ad_created            last_seen\n",
       "0      2016-03-26 17:47:46  2016-03-26 00:00:00  2016-04-06 06:45:54\n",
       "1      2016-04-04 13:38:56  2016-04-04 00:00:00  2016-04-06 14:45:08\n",
       "2      2016-03-26 18:57:24  2016-03-26 00:00:00  2016-04-06 20:15:37\n",
       "3      2016-03-12 16:58:10  2016-03-12 00:00:00  2016-03-15 03:16:28\n",
       "4      2016-04-01 14:38:50  2016-04-01 00:00:00  2016-04-01 14:38:50\n",
       "...                    ...                  ...                  ...\n",
       "49995  2016-03-27 14:38:19  2016-03-27 00:00:00  2016-04-01 13:47:40\n",
       "49996  2016-03-28 10:50:25  2016-03-28 00:00:00  2016-04-02 14:18:02\n",
       "49997  2016-04-02 14:44:48  2016-04-02 00:00:00  2016-04-04 11:47:27\n",
       "49998  2016-03-08 19:25:42  2016-03-08 00:00:00  2016-04-05 16:45:07\n",
       "49999  2016-03-14 00:42:12  2016-03-13 00:00:00  2016-04-06 21:18:48\n",
       "\n",
       "[46352 rows x 3 columns]"
      ]
     },
     "execution_count": 38,
     "metadata": {},
     "output_type": "execute_result"
    }
   ],
   "source": [
    "autos[['date_crawled', 'ad_created', 'last_seen']]"
   ]
  },
  {
   "cell_type": "markdown",
   "id": "4eb42c4a",
   "metadata": {},
   "source": [
    "We are also converting our date into the numeric data type."
   ]
  },
  {
   "cell_type": "code",
   "execution_count": 39,
   "id": "f0133eb7",
   "metadata": {},
   "outputs": [],
   "source": [
    "def date_to_numerical(df, date_column):\n",
    "    numerical_date = (df[date_column]\n",
    "                         .str.split()\n",
    "                         .str[0]\n",
    "                         .str.replace('-','')\n",
    "                         .astype(int)\n",
    "                     )\n",
    "    return numerical_date"
   ]
  },
  {
   "cell_type": "code",
   "execution_count": 40,
   "id": "160c1259",
   "metadata": {},
   "outputs": [],
   "source": [
    "autos['date_crawled'] = date_to_numerical(autos, 'date_crawled')\n",
    "\n",
    "autos['ad_created'] = date_to_numerical(autos, 'ad_created')\n",
    "\n",
    "autos['last_seen'] = date_to_numerical(autos, 'last_seen')"
   ]
  },
  {
   "cell_type": "markdown",
   "id": "9739abae",
   "metadata": {},
   "source": [
    "You can see the result of our work down below."
   ]
  },
  {
   "cell_type": "code",
   "execution_count": 41,
   "id": "8fc68e3d",
   "metadata": {
    "scrolled": true
   },
   "outputs": [
    {
     "data": {
      "text/html": [
       "<div>\n",
       "<style scoped>\n",
       "    .dataframe tbody tr th:only-of-type {\n",
       "        vertical-align: middle;\n",
       "    }\n",
       "\n",
       "    .dataframe tbody tr th {\n",
       "        vertical-align: top;\n",
       "    }\n",
       "\n",
       "    .dataframe thead th {\n",
       "        text-align: right;\n",
       "    }\n",
       "</style>\n",
       "<table border=\"1\" class=\"dataframe\">\n",
       "  <thead>\n",
       "    <tr style=\"text-align: right;\">\n",
       "      <th></th>\n",
       "      <th>date_crawled</th>\n",
       "      <th>ad_created</th>\n",
       "      <th>last_seen</th>\n",
       "    </tr>\n",
       "  </thead>\n",
       "  <tbody>\n",
       "    <tr>\n",
       "      <th>0</th>\n",
       "      <td>20160326</td>\n",
       "      <td>20160326</td>\n",
       "      <td>20160406</td>\n",
       "    </tr>\n",
       "    <tr>\n",
       "      <th>1</th>\n",
       "      <td>20160404</td>\n",
       "      <td>20160404</td>\n",
       "      <td>20160406</td>\n",
       "    </tr>\n",
       "    <tr>\n",
       "      <th>2</th>\n",
       "      <td>20160326</td>\n",
       "      <td>20160326</td>\n",
       "      <td>20160406</td>\n",
       "    </tr>\n",
       "    <tr>\n",
       "      <th>3</th>\n",
       "      <td>20160312</td>\n",
       "      <td>20160312</td>\n",
       "      <td>20160315</td>\n",
       "    </tr>\n",
       "    <tr>\n",
       "      <th>4</th>\n",
       "      <td>20160401</td>\n",
       "      <td>20160401</td>\n",
       "      <td>20160401</td>\n",
       "    </tr>\n",
       "    <tr>\n",
       "      <th>...</th>\n",
       "      <td>...</td>\n",
       "      <td>...</td>\n",
       "      <td>...</td>\n",
       "    </tr>\n",
       "    <tr>\n",
       "      <th>49995</th>\n",
       "      <td>20160327</td>\n",
       "      <td>20160327</td>\n",
       "      <td>20160401</td>\n",
       "    </tr>\n",
       "    <tr>\n",
       "      <th>49996</th>\n",
       "      <td>20160328</td>\n",
       "      <td>20160328</td>\n",
       "      <td>20160402</td>\n",
       "    </tr>\n",
       "    <tr>\n",
       "      <th>49997</th>\n",
       "      <td>20160402</td>\n",
       "      <td>20160402</td>\n",
       "      <td>20160404</td>\n",
       "    </tr>\n",
       "    <tr>\n",
       "      <th>49998</th>\n",
       "      <td>20160308</td>\n",
       "      <td>20160308</td>\n",
       "      <td>20160405</td>\n",
       "    </tr>\n",
       "    <tr>\n",
       "      <th>49999</th>\n",
       "      <td>20160314</td>\n",
       "      <td>20160313</td>\n",
       "      <td>20160406</td>\n",
       "    </tr>\n",
       "  </tbody>\n",
       "</table>\n",
       "<p>46352 rows × 3 columns</p>\n",
       "</div>"
      ],
      "text/plain": [
       "       date_crawled  ad_created  last_seen\n",
       "0          20160326    20160326   20160406\n",
       "1          20160404    20160404   20160406\n",
       "2          20160326    20160326   20160406\n",
       "3          20160312    20160312   20160315\n",
       "4          20160401    20160401   20160401\n",
       "...             ...         ...        ...\n",
       "49995      20160327    20160327   20160401\n",
       "49996      20160328    20160328   20160402\n",
       "49997      20160402    20160402   20160404\n",
       "49998      20160308    20160308   20160405\n",
       "49999      20160314    20160313   20160406\n",
       "\n",
       "[46352 rows x 3 columns]"
      ]
     },
     "execution_count": 41,
     "metadata": {},
     "output_type": "execute_result"
    }
   ],
   "source": [
    "autos[['date_crawled', 'ad_created', 'last_seen']]"
   ]
  },
  {
   "cell_type": "markdown",
   "id": "0f003b12",
   "metadata": {},
   "source": [
    "### Finding the Most Common Brand/Model Combination"
   ]
  },
  {
   "cell_type": "markdown",
   "id": "a277289a",
   "metadata": {},
   "source": [
    "For our next step we are going to find out which brand/model combination is most common in our dataset."
   ]
  },
  {
   "cell_type": "code",
   "execution_count": 42,
   "id": "150fc651",
   "metadata": {},
   "outputs": [
    {
     "name": "stdout",
     "output_type": "stream",
     "text": [
      "The Volkswagen Golf is the most common brand/model combination\n"
     ]
    }
   ],
   "source": [
    "brand_model = autos['brand'] + ' ' + autos['model']\n",
    "\n",
    "print(f'The {brand_model.describe()[2].title()} is the most common brand/model combination')"
   ]
  },
  {
   "cell_type": "markdown",
   "id": "058d0412",
   "metadata": {},
   "source": [
    "Look's like \"Volkswagen Golf\" is the most common brand/model combination."
   ]
  },
  {
   "cell_type": "markdown",
   "id": "48a67dea",
   "metadata": {},
   "source": [
    "### Finding How Mileage Affects the Average Price of Auto"
   ]
  },
  {
   "cell_type": "markdown",
   "id": "7b5653be",
   "metadata": {},
   "source": [
    "Now, let's find out how mileage affects the price of cars. First, let's look at the lowest and highest mileage."
   ]
  },
  {
   "cell_type": "code",
   "execution_count": 43,
   "id": "9886f44e",
   "metadata": {},
   "outputs": [
    {
     "name": "stdout",
     "output_type": "stream",
     "text": [
      "The lowest mileage in dataset is 5,000km\n",
      "The highest mileage in dataset is 150,000km\n"
     ]
    }
   ],
   "source": [
    "lowest_mileage = autos['odometer_in_km'].min()\n",
    "highest_mileage = autos['odometer_in_km'].max()\n",
    "\n",
    "print(f'The lowest mileage in dataset is {lowest_mileage:,}km', )\n",
    "print(f'The highest mileage in dataset is {highest_mileage:,}km', )"
   ]
  },
  {
   "cell_type": "markdown",
   "id": "33ede729",
   "metadata": {},
   "source": [
    "The lowest mileage in our dataset is 5,000km and the highest is 150,000km. Let's split values into three groups. From 5,000km to 50,000km, from 50,000km to 100,000km and from 100,000km up to 150,000km."
   ]
  },
  {
   "cell_type": "code",
   "execution_count": 44,
   "id": "f212938c",
   "metadata": {},
   "outputs": [
    {
     "name": "stdout",
     "output_type": "stream",
     "text": [
      "The mean price of the cars with mileage from 5,000km up to 50,000km is $15,214\n",
      "The mean price of the cars with mileage from 50,000km up to 100,000km is $9,625\n",
      "The mean price of the cars with mileage from 100,000km up to 150,000km is $4,133\n"
     ]
    }
   ],
   "source": [
    "odometer_5_to_50 = autos.loc[autos['odometer_in_km'].between(5000, 50000), 'price'].mean()\n",
    "odometer_50_to_100 = autos.loc[autos['odometer_in_km'].between(50001, 100000), 'price'].mean()\n",
    "odometer_100_to_150 = autos.loc[autos['odometer_in_km'].between(100001, 150000), 'price'].mean()\n",
    "\n",
    "print(\n",
    "      'The mean price of the cars with mileage from 5,000km up to 50,000km '\n",
    "      f'is ${round(odometer_5_to_50):,}'\n",
    "     )\n",
    "print(\n",
    "      'The mean price of the cars with mileage from 50,000km up to 100,000km '\n",
    "      f'is ${round(odometer_50_to_100):,}'\n",
    "     )\n",
    "print(\n",
    "      'The mean price of the cars with mileage from 100,000km up to 150,000km '\n",
    "      f'is ${round(odometer_100_to_150):,}'\n",
    "     )"
   ]
  },
  {
   "cell_type": "markdown",
   "id": "02d3fefd",
   "metadata": {},
   "source": [
    "The mean car price in the first group is \\\\$15,214. For the second group, the mean price is \\\\$9,625. And for the last group with the highest mileage the mean price is \\\\$4,133. We can say that the lower the mileage the higher the price."
   ]
  },
  {
   "cell_type": "markdown",
   "id": "4c29c559",
   "metadata": {},
   "source": [
    "### Finding How Unrepaired Damage Affects the Average Price of Auto"
   ]
  },
  {
   "cell_type": "markdown",
   "id": "a890954b",
   "metadata": {},
   "source": [
    "For our last step, we are going to find out how unrepaired damage affects the mean price of the cars."
   ]
  },
  {
   "cell_type": "code",
   "execution_count": 45,
   "id": "a07e4039",
   "metadata": {},
   "outputs": [
    {
     "name": "stdout",
     "output_type": "stream",
     "text": [
      "The mean price of the cars with unrepaired damage is $2,270\n",
      "The mean price of the cars without unrepaired damage is $7,177\n"
     ]
    }
   ],
   "source": [
    "damaged_mean_price = autos.loc[autos['unrepaired_damage'] == 'yes', 'price'].mean()\n",
    "undamaged_mean_price = autos.loc[autos['unrepaired_damage'] == 'no', 'price'].mean()\n",
    "\n",
    "print(\n",
    "      'The mean price of the cars with unrepaired damage '\n",
    "      f'is ${round(damaged_mean_price):,}'\n",
    "     )\n",
    "print(\n",
    "      'The mean price of the cars without unrepaired damage '\n",
    "      f'is ${round(undamaged_mean_price):,}'\n",
    "     )"
   ]
  },
  {
   "cell_type": "markdown",
   "id": "9208724e",
   "metadata": {},
   "source": [
    "As we can see, the unrepaired damage heavily affects the mean price of cars. For the cars with unrepaired damage the mean price is \\\\$2,270. And for the cars without unrepaired damage the mean price is \\\\$7,177."
   ]
  },
  {
   "cell_type": "markdown",
   "id": "d44be8b0",
   "metadata": {},
   "source": [
    "## Conclusion"
   ]
  },
  {
   "cell_type": "markdown",
   "id": "6c67d2a9",
   "metadata": {},
   "source": [
    "In the beginning, our goal was to consolidate our skills that we have learned during this course. Throughout this project we have used some techniques to make our dataset cleaner and easier to read."
   ]
  },
  {
   "cell_type": "markdown",
   "id": "63ef313c",
   "metadata": {},
   "source": [
    "Also, during our analysis we find out that the mean price of the auto is heavily affected by unrepaired damage and high mileage. The cars with unrepaired damage or high mileage have a very low price compared to undamaged or low mileage cars."
   ]
  }
 ],
 "metadata": {
  "kernelspec": {
   "display_name": "Python 3 (ipykernel)",
   "language": "python",
   "name": "python3"
  },
  "language_info": {
   "codemirror_mode": {
    "name": "ipython",
    "version": 3
   },
   "file_extension": ".py",
   "mimetype": "text/x-python",
   "name": "python",
   "nbconvert_exporter": "python",
   "pygments_lexer": "ipython3",
   "version": "3.9.13"
  }
 },
 "nbformat": 4,
 "nbformat_minor": 5
}
