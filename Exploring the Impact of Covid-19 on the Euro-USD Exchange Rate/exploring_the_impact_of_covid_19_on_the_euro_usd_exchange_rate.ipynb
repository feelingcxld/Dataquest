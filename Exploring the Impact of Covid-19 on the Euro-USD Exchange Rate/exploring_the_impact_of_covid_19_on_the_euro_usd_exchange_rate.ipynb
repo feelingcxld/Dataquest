{
 "cells": [
  {
   "cell_type": "markdown",
   "id": "6d2e410e",
   "metadata": {},
   "source": [
    "# Exploring the Impact of COVID-19 on the Euro - USD Exchange Rate."
   ]
  },
  {
   "cell_type": "markdown",
   "id": "11138c3d",
   "metadata": {},
   "source": [
    "## Table of Contents\n",
    "\n",
    "1. [**Introduction**](#introduction)\n",
    "\t- Project Description\n",
    "    - Data Description\n",
    "2. [**Acquiring and Loading Data**](#loading_data)\n",
    "\t- Importing Libraries\n",
    "    - Reading in Data\n",
    "    - Exploring Data\n",
    "3. [**Data Cleaning**](#data_cleaning)\n",
    "    - Renaming Columns\n",
    "    - Removing Redundant Columns\n",
    "    - Changing Columns Datatypes\n",
    "4. [**Data Analysis & Visualization**](#analysis)\n",
    "    - Exploring How COVID-19 Affects Euro - USD Exchange Rate\n",
    "5. [**Conclusion**](#conclusion)"
   ]
  },
  {
   "cell_type": "markdown",
   "id": "d70a5347",
   "metadata": {},
   "source": [
    "<a id='introduction'></a>\n",
    "# Introduction\n",
    "\n",
    "## Project Description\n",
    "\n",
    "<div>\n",
    "<img src=\"attachment:exchange_rate_img.jpg\" width=\"300\"/>\n",
    "</div>\n",
    "\n",
    "Our goal in this project is to analyze Euro - USD exchange rate during COVID-19. We want to determine how COVID-19 affects the exchange rate.\n",
    "\n",
    "To reach our goal we are going to take a period between 2017 and 2022. Then we'll separate this data into two periods. The pre-COVID-19 period and the COVID-19 period. For the final step, we'll visualize exchange rate for these periods on the line chart.\n",
    "\n",
    "For instance, we'll find out that the Euro - USD exchange rate was changed by about 10% during COVID-19."
   ]
  },
  {
   "cell_type": "markdown",
   "id": "ae5b1cde",
   "metadata": {},
   "source": [
    "## Data Description\n",
    "\n",
    "The dataset we are going to use is the 'Daily Exchange Rates per Euro 1999-2023'. This dataset contains date and Euro rate of many currencies. We are going to look only at the date and Euro - USD exchange rate.\n",
    "\n",
    "This dataset was posted on [Kaggle](https://www.kaggle.com) by [Daria Chemkaeva](https://www.kaggle.com/lsind18). You can read about this dataset [here](https://www.kaggle.com/datasets/lsind18/euro-exchange-daily-rates-19992020) or download it directly from [here](https://www.kaggle.com/datasets/lsind18/euro-exchange-daily-rates-19992020/download?datasetVersionNumber=68)."
   ]
  },
  {
   "cell_type": "markdown",
   "id": "5aff919e",
   "metadata": {},
   "source": [
    "<a id='loading_data'></a>\n",
    "# Acquiring and Loading Data"
   ]
  },
  {
   "cell_type": "markdown",
   "id": "efee4a26",
   "metadata": {},
   "source": [
    "## Importing the Libraries"
   ]
  },
  {
   "cell_type": "code",
   "execution_count": 1,
   "id": "2d3c91f4",
   "metadata": {},
   "outputs": [],
   "source": [
    "# Data manipulation\n",
    "import pandas as pd\n",
    "import numpy as np\n",
    "\n",
    "# Visualizations\n",
    "import matplotlib.pyplot as plt\n",
    "import matplotlib.style as style\n",
    "%matplotlib inline\n",
    "import seaborn as sns"
   ]
  },
  {
   "cell_type": "markdown",
   "id": "9b4388c3",
   "metadata": {},
   "source": [
    "## Reading in Data"
   ]
  },
  {
   "cell_type": "markdown",
   "id": "536d1777",
   "metadata": {},
   "source": [
    "Let's first open the file."
   ]
  },
  {
   "cell_type": "code",
   "execution_count": 2,
   "id": "d9db55db",
   "metadata": {},
   "outputs": [],
   "source": [
    "# Read in the data\n",
    "exchange_rates = pd.read_csv('data/euro-daily-hist_1999_2022.csv')"
   ]
  },
  {
   "cell_type": "markdown",
   "id": "6ac41ac1",
   "metadata": {},
   "source": [
    "## Exploring Data"
   ]
  },
  {
   "cell_type": "code",
   "execution_count": 3,
   "id": "6127ac86",
   "metadata": {},
   "outputs": [
    {
     "data": {
      "text/html": [
       "<div>\n",
       "<style scoped>\n",
       "    .dataframe tbody tr th:only-of-type {\n",
       "        vertical-align: middle;\n",
       "    }\n",
       "\n",
       "    .dataframe tbody tr th {\n",
       "        vertical-align: top;\n",
       "    }\n",
       "\n",
       "    .dataframe thead th {\n",
       "        text-align: right;\n",
       "    }\n",
       "</style>\n",
       "<table border=\"1\" class=\"dataframe\">\n",
       "  <thead>\n",
       "    <tr style=\"text-align: right;\">\n",
       "      <th></th>\n",
       "      <th>Period\\Unit:</th>\n",
       "      <th>[Australian dollar ]</th>\n",
       "      <th>[Bulgarian lev ]</th>\n",
       "      <th>[Brazilian real ]</th>\n",
       "      <th>[Canadian dollar ]</th>\n",
       "      <th>[Swiss franc ]</th>\n",
       "      <th>[Chinese yuan renminbi ]</th>\n",
       "      <th>[Cypriot pound ]</th>\n",
       "      <th>[Czech koruna ]</th>\n",
       "      <th>[Danish krone ]</th>\n",
       "      <th>...</th>\n",
       "      <th>[Romanian leu ]</th>\n",
       "      <th>[Russian rouble ]</th>\n",
       "      <th>[Swedish krona ]</th>\n",
       "      <th>[Singapore dollar ]</th>\n",
       "      <th>[Slovenian tolar ]</th>\n",
       "      <th>[Slovak koruna ]</th>\n",
       "      <th>[Thai baht ]</th>\n",
       "      <th>[Turkish lira ]</th>\n",
       "      <th>[US dollar ]</th>\n",
       "      <th>[South African rand ]</th>\n",
       "    </tr>\n",
       "  </thead>\n",
       "  <tbody>\n",
       "    <tr>\n",
       "      <th>0</th>\n",
       "      <td>2023-01-27</td>\n",
       "      <td>1.5289</td>\n",
       "      <td>1.9558</td>\n",
       "      <td>5.5104</td>\n",
       "      <td>1.4479</td>\n",
       "      <td>1.0017</td>\n",
       "      <td>7.3690</td>\n",
       "      <td>NaN</td>\n",
       "      <td>23.826</td>\n",
       "      <td>7.4378</td>\n",
       "      <td>...</td>\n",
       "      <td>4.8965</td>\n",
       "      <td>NaN</td>\n",
       "      <td>11.2108</td>\n",
       "      <td>1.4277</td>\n",
       "      <td>NaN</td>\n",
       "      <td>NaN</td>\n",
       "      <td>35.7020</td>\n",
       "      <td>20.4365</td>\n",
       "      <td>1.0865</td>\n",
       "      <td>18.7185</td>\n",
       "    </tr>\n",
       "    <tr>\n",
       "      <th>1</th>\n",
       "      <td>2023-01-26</td>\n",
       "      <td>1.5308</td>\n",
       "      <td>1.9558</td>\n",
       "      <td>5.5572</td>\n",
       "      <td>1.4568</td>\n",
       "      <td>1.0002</td>\n",
       "      <td>7.3893</td>\n",
       "      <td>NaN</td>\n",
       "      <td>23.818</td>\n",
       "      <td>7.4383</td>\n",
       "      <td>...</td>\n",
       "      <td>4.8818</td>\n",
       "      <td>NaN</td>\n",
       "      <td>11.1763</td>\n",
       "      <td>1.4292</td>\n",
       "      <td>NaN</td>\n",
       "      <td>NaN</td>\n",
       "      <td>35.6870</td>\n",
       "      <td>20.4961</td>\n",
       "      <td>1.0895</td>\n",
       "      <td>18.6127</td>\n",
       "    </tr>\n",
       "    <tr>\n",
       "      <th>2</th>\n",
       "      <td>2023-01-25</td>\n",
       "      <td>1.5360</td>\n",
       "      <td>1.9558</td>\n",
       "      <td>5.5690</td>\n",
       "      <td>1.4544</td>\n",
       "      <td>1.0020</td>\n",
       "      <td>7.3778</td>\n",
       "      <td>NaN</td>\n",
       "      <td>23.808</td>\n",
       "      <td>7.4381</td>\n",
       "      <td>...</td>\n",
       "      <td>4.9035</td>\n",
       "      <td>NaN</td>\n",
       "      <td>11.1335</td>\n",
       "      <td>1.4307</td>\n",
       "      <td>NaN</td>\n",
       "      <td>NaN</td>\n",
       "      <td>35.7180</td>\n",
       "      <td>20.4658</td>\n",
       "      <td>1.0878</td>\n",
       "      <td>18.6745</td>\n",
       "    </tr>\n",
       "    <tr>\n",
       "      <th>3</th>\n",
       "      <td>2023-01-24</td>\n",
       "      <td>1.5470</td>\n",
       "      <td>1.9558</td>\n",
       "      <td>5.6164</td>\n",
       "      <td>1.4517</td>\n",
       "      <td>1.0053</td>\n",
       "      <td>7.3642</td>\n",
       "      <td>NaN</td>\n",
       "      <td>23.874</td>\n",
       "      <td>7.4399</td>\n",
       "      <td>...</td>\n",
       "      <td>4.9171</td>\n",
       "      <td>NaN</td>\n",
       "      <td>11.0995</td>\n",
       "      <td>1.4337</td>\n",
       "      <td>NaN</td>\n",
       "      <td>NaN</td>\n",
       "      <td>35.6090</td>\n",
       "      <td>20.4234</td>\n",
       "      <td>1.0858</td>\n",
       "      <td>18.7687</td>\n",
       "    </tr>\n",
       "    <tr>\n",
       "      <th>4</th>\n",
       "      <td>2023-01-23</td>\n",
       "      <td>1.5529</td>\n",
       "      <td>1.9558</td>\n",
       "      <td>5.6372</td>\n",
       "      <td>1.4523</td>\n",
       "      <td>1.0013</td>\n",
       "      <td>7.3730</td>\n",
       "      <td>NaN</td>\n",
       "      <td>23.881</td>\n",
       "      <td>7.4393</td>\n",
       "      <td>...</td>\n",
       "      <td>4.9202</td>\n",
       "      <td>NaN</td>\n",
       "      <td>11.1183</td>\n",
       "      <td>1.4328</td>\n",
       "      <td>NaN</td>\n",
       "      <td>NaN</td>\n",
       "      <td>35.6300</td>\n",
       "      <td>20.4478</td>\n",
       "      <td>1.0871</td>\n",
       "      <td>18.6597</td>\n",
       "    </tr>\n",
       "    <tr>\n",
       "      <th>...</th>\n",
       "      <td>...</td>\n",
       "      <td>...</td>\n",
       "      <td>...</td>\n",
       "      <td>...</td>\n",
       "      <td>...</td>\n",
       "      <td>...</td>\n",
       "      <td>...</td>\n",
       "      <td>...</td>\n",
       "      <td>...</td>\n",
       "      <td>...</td>\n",
       "      <td>...</td>\n",
       "      <td>...</td>\n",
       "      <td>...</td>\n",
       "      <td>...</td>\n",
       "      <td>...</td>\n",
       "      <td>...</td>\n",
       "      <td>...</td>\n",
       "      <td>...</td>\n",
       "      <td>...</td>\n",
       "      <td>...</td>\n",
       "      <td>...</td>\n",
       "    </tr>\n",
       "    <tr>\n",
       "      <th>6224</th>\n",
       "      <td>1999-01-08</td>\n",
       "      <td>1.8406</td>\n",
       "      <td>NaN</td>\n",
       "      <td>NaN</td>\n",
       "      <td>1.7643</td>\n",
       "      <td>1.6138</td>\n",
       "      <td>NaN</td>\n",
       "      <td>0.58187</td>\n",
       "      <td>34.938</td>\n",
       "      <td>7.4433</td>\n",
       "      <td>...</td>\n",
       "      <td>1.3143</td>\n",
       "      <td>27.2075</td>\n",
       "      <td>9.1650</td>\n",
       "      <td>1.9537</td>\n",
       "      <td>188.8400</td>\n",
       "      <td>42.560</td>\n",
       "      <td>42.5590</td>\n",
       "      <td>0.3718</td>\n",
       "      <td>1.1659</td>\n",
       "      <td>6.7855</td>\n",
       "    </tr>\n",
       "    <tr>\n",
       "      <th>6225</th>\n",
       "      <td>1999-01-07</td>\n",
       "      <td>1.8474</td>\n",
       "      <td>NaN</td>\n",
       "      <td>NaN</td>\n",
       "      <td>1.7602</td>\n",
       "      <td>1.6165</td>\n",
       "      <td>NaN</td>\n",
       "      <td>0.58187</td>\n",
       "      <td>34.886</td>\n",
       "      <td>7.4431</td>\n",
       "      <td>...</td>\n",
       "      <td>1.3092</td>\n",
       "      <td>26.9876</td>\n",
       "      <td>9.1800</td>\n",
       "      <td>1.9436</td>\n",
       "      <td>188.8000</td>\n",
       "      <td>42.765</td>\n",
       "      <td>42.1678</td>\n",
       "      <td>0.3701</td>\n",
       "      <td>1.1632</td>\n",
       "      <td>6.8283</td>\n",
       "    </tr>\n",
       "    <tr>\n",
       "      <th>6226</th>\n",
       "      <td>1999-01-06</td>\n",
       "      <td>1.8820</td>\n",
       "      <td>NaN</td>\n",
       "      <td>NaN</td>\n",
       "      <td>1.7711</td>\n",
       "      <td>1.6116</td>\n",
       "      <td>NaN</td>\n",
       "      <td>0.58200</td>\n",
       "      <td>34.850</td>\n",
       "      <td>7.4452</td>\n",
       "      <td>...</td>\n",
       "      <td>1.3168</td>\n",
       "      <td>27.4315</td>\n",
       "      <td>9.3050</td>\n",
       "      <td>1.9699</td>\n",
       "      <td>188.7000</td>\n",
       "      <td>42.778</td>\n",
       "      <td>42.6949</td>\n",
       "      <td>0.3722</td>\n",
       "      <td>1.1743</td>\n",
       "      <td>6.7307</td>\n",
       "    </tr>\n",
       "    <tr>\n",
       "      <th>6227</th>\n",
       "      <td>1999-01-05</td>\n",
       "      <td>1.8944</td>\n",
       "      <td>NaN</td>\n",
       "      <td>NaN</td>\n",
       "      <td>1.7965</td>\n",
       "      <td>1.6123</td>\n",
       "      <td>NaN</td>\n",
       "      <td>0.58230</td>\n",
       "      <td>34.917</td>\n",
       "      <td>7.4495</td>\n",
       "      <td>...</td>\n",
       "      <td>1.3168</td>\n",
       "      <td>26.5876</td>\n",
       "      <td>9.4025</td>\n",
       "      <td>1.9655</td>\n",
       "      <td>188.7750</td>\n",
       "      <td>42.848</td>\n",
       "      <td>42.5048</td>\n",
       "      <td>0.3728</td>\n",
       "      <td>1.1790</td>\n",
       "      <td>6.7975</td>\n",
       "    </tr>\n",
       "    <tr>\n",
       "      <th>6228</th>\n",
       "      <td>1999-01-04</td>\n",
       "      <td>1.9100</td>\n",
       "      <td>NaN</td>\n",
       "      <td>NaN</td>\n",
       "      <td>1.8004</td>\n",
       "      <td>1.6168</td>\n",
       "      <td>NaN</td>\n",
       "      <td>0.58231</td>\n",
       "      <td>35.107</td>\n",
       "      <td>7.4501</td>\n",
       "      <td>...</td>\n",
       "      <td>1.3111</td>\n",
       "      <td>25.2875</td>\n",
       "      <td>9.4696</td>\n",
       "      <td>1.9554</td>\n",
       "      <td>189.0450</td>\n",
       "      <td>42.991</td>\n",
       "      <td>42.6799</td>\n",
       "      <td>0.3723</td>\n",
       "      <td>1.1789</td>\n",
       "      <td>6.9358</td>\n",
       "    </tr>\n",
       "  </tbody>\n",
       "</table>\n",
       "<p>6229 rows × 41 columns</p>\n",
       "</div>"
      ],
      "text/plain": [
       "     Period\\Unit: [Australian dollar ] [Bulgarian lev ] [Brazilian real ]  \\\n",
       "0      2023-01-27               1.5289           1.9558            5.5104   \n",
       "1      2023-01-26               1.5308           1.9558            5.5572   \n",
       "2      2023-01-25               1.5360           1.9558            5.5690   \n",
       "3      2023-01-24               1.5470           1.9558            5.6164   \n",
       "4      2023-01-23               1.5529           1.9558            5.6372   \n",
       "...           ...                  ...              ...               ...   \n",
       "6224   1999-01-08               1.8406              NaN               NaN   \n",
       "6225   1999-01-07               1.8474              NaN               NaN   \n",
       "6226   1999-01-06               1.8820              NaN               NaN   \n",
       "6227   1999-01-05               1.8944              NaN               NaN   \n",
       "6228   1999-01-04               1.9100              NaN               NaN   \n",
       "\n",
       "     [Canadian dollar ] [Swiss franc ] [Chinese yuan renminbi ]  \\\n",
       "0                1.4479         1.0017                   7.3690   \n",
       "1                1.4568         1.0002                   7.3893   \n",
       "2                1.4544         1.0020                   7.3778   \n",
       "3                1.4517         1.0053                   7.3642   \n",
       "4                1.4523         1.0013                   7.3730   \n",
       "...                 ...            ...                      ...   \n",
       "6224             1.7643         1.6138                      NaN   \n",
       "6225             1.7602         1.6165                      NaN   \n",
       "6226             1.7711         1.6116                      NaN   \n",
       "6227             1.7965         1.6123                      NaN   \n",
       "6228             1.8004         1.6168                      NaN   \n",
       "\n",
       "     [Cypriot pound ] [Czech koruna ] [Danish krone ]  ... [Romanian leu ]  \\\n",
       "0                 NaN          23.826          7.4378  ...          4.8965   \n",
       "1                 NaN          23.818          7.4383  ...          4.8818   \n",
       "2                 NaN          23.808          7.4381  ...          4.9035   \n",
       "3                 NaN          23.874          7.4399  ...          4.9171   \n",
       "4                 NaN          23.881          7.4393  ...          4.9202   \n",
       "...               ...             ...             ...  ...             ...   \n",
       "6224          0.58187          34.938          7.4433  ...          1.3143   \n",
       "6225          0.58187          34.886          7.4431  ...          1.3092   \n",
       "6226          0.58200          34.850          7.4452  ...          1.3168   \n",
       "6227          0.58230          34.917          7.4495  ...          1.3168   \n",
       "6228          0.58231          35.107          7.4501  ...          1.3111   \n",
       "\n",
       "     [Russian rouble ] [Swedish krona ] [Singapore dollar ]  \\\n",
       "0                  NaN          11.2108              1.4277   \n",
       "1                  NaN          11.1763              1.4292   \n",
       "2                  NaN          11.1335              1.4307   \n",
       "3                  NaN          11.0995              1.4337   \n",
       "4                  NaN          11.1183              1.4328   \n",
       "...                ...              ...                 ...   \n",
       "6224           27.2075           9.1650              1.9537   \n",
       "6225           26.9876           9.1800              1.9436   \n",
       "6226           27.4315           9.3050              1.9699   \n",
       "6227           26.5876           9.4025              1.9655   \n",
       "6228           25.2875           9.4696              1.9554   \n",
       "\n",
       "     [Slovenian tolar ] [Slovak koruna ] [Thai baht ] [Turkish lira ]  \\\n",
       "0                   NaN              NaN      35.7020         20.4365   \n",
       "1                   NaN              NaN      35.6870         20.4961   \n",
       "2                   NaN              NaN      35.7180         20.4658   \n",
       "3                   NaN              NaN      35.6090         20.4234   \n",
       "4                   NaN              NaN      35.6300         20.4478   \n",
       "...                 ...              ...          ...             ...   \n",
       "6224           188.8400           42.560      42.5590          0.3718   \n",
       "6225           188.8000           42.765      42.1678          0.3701   \n",
       "6226           188.7000           42.778      42.6949          0.3722   \n",
       "6227           188.7750           42.848      42.5048          0.3728   \n",
       "6228           189.0450           42.991      42.6799          0.3723   \n",
       "\n",
       "     [US dollar ]  [South African rand ]  \n",
       "0          1.0865                18.7185  \n",
       "1          1.0895                18.6127  \n",
       "2          1.0878                18.6745  \n",
       "3          1.0858                18.7687  \n",
       "4          1.0871                18.6597  \n",
       "...           ...                    ...  \n",
       "6224       1.1659                 6.7855  \n",
       "6225       1.1632                 6.8283  \n",
       "6226       1.1743                 6.7307  \n",
       "6227       1.1790                 6.7975  \n",
       "6228       1.1789                 6.9358  \n",
       "\n",
       "[6229 rows x 41 columns]"
      ]
     },
     "execution_count": 3,
     "metadata": {},
     "output_type": "execute_result"
    }
   ],
   "source": [
    "# Exploring the first and the last five rows\n",
    "exchange_rates"
   ]
  },
  {
   "cell_type": "markdown",
   "id": "c97a41a3",
   "metadata": {},
   "source": [
    "Here are the first and the last five rows of our dataset. Let's take a closer look at the columns."
   ]
  },
  {
   "cell_type": "code",
   "execution_count": 4,
   "id": "2d93d35a",
   "metadata": {},
   "outputs": [
    {
     "name": "stdout",
     "output_type": "stream",
     "text": [
      "<class 'pandas.core.frame.DataFrame'>\n",
      "RangeIndex: 6229 entries, 0 to 6228\n",
      "Data columns (total 41 columns):\n",
      " #   Column                    Non-Null Count  Dtype  \n",
      "---  ------                    --------------  -----  \n",
      " 0   Period\\Unit:              6229 non-null   object \n",
      " 1   [Australian dollar ]      6229 non-null   object \n",
      " 2   [Bulgarian lev ]          5827 non-null   object \n",
      " 3   [Brazilian real ]         5961 non-null   object \n",
      " 4   [Canadian dollar ]        6229 non-null   object \n",
      " 5   [Swiss franc ]            6229 non-null   object \n",
      " 6   [Chinese yuan renminbi ]  5961 non-null   object \n",
      " 7   [Cypriot pound ]          2346 non-null   object \n",
      " 8   [Czech koruna ]           6229 non-null   object \n",
      " 9   [Danish krone ]           6229 non-null   object \n",
      " 10  [Estonian kroon ]         3130 non-null   object \n",
      " 11  [UK pound sterling ]      6229 non-null   object \n",
      " 12  [Greek drachma ]          520 non-null    object \n",
      " 13  [Hong Kong dollar ]       6229 non-null   object \n",
      " 14  [Croatian kuna ]          5941 non-null   object \n",
      " 15  [Hungarian forint ]       6229 non-null   object \n",
      " 16  [Indonesian rupiah ]      6229 non-null   object \n",
      " 17  [Israeli shekel ]         5961 non-null   object \n",
      " 18  [Indian rupee ]           5961 non-null   object \n",
      " 19  [Iceland krona ]          3822 non-null   float64\n",
      " 20  [Japanese yen ]           6229 non-null   object \n",
      " 21  [Korean won ]             6229 non-null   object \n",
      " 22  [Lithuanian litas ]       4159 non-null   object \n",
      " 23  [Latvian lats ]           3904 non-null   object \n",
      " 24  [Maltese lira ]           2346 non-null   object \n",
      " 25  [Mexican peso ]           6229 non-null   object \n",
      " 26  [Malaysian ringgit ]      6229 non-null   object \n",
      " 27  [Norwegian krone ]        6229 non-null   object \n",
      " 28  [New Zealand dollar ]     6229 non-null   object \n",
      " 29  [Philippine peso ]        6229 non-null   object \n",
      " 30  [Polish zloty ]           6229 non-null   object \n",
      " 31  [Romanian leu ]           6167 non-null   float64\n",
      " 32  [Russian rouble ]         5994 non-null   object \n",
      " 33  [Swedish krona ]          6229 non-null   object \n",
      " 34  [Singapore dollar ]       6229 non-null   object \n",
      " 35  [Slovenian tolar ]        2085 non-null   object \n",
      " 36  [Slovak koruna ]          2608 non-null   object \n",
      " 37  [Thai baht ]              6229 non-null   object \n",
      " 38  [Turkish lira ]           6167 non-null   float64\n",
      " 39  [US dollar ]              6229 non-null   object \n",
      " 40  [South African rand ]     6229 non-null   object \n",
      "dtypes: float64(3), object(38)\n",
      "memory usage: 1.9+ MB\n"
     ]
    }
   ],
   "source": [
    "# Exploring columns datatypes\n",
    "exchange_rates.info()"
   ]
  },
  {
   "cell_type": "markdown",
   "id": "94fef779",
   "metadata": {},
   "source": [
    "As we can see, there are many currencies here. We only need `Period\\Unit:` and `[US dollar ]` columns. This is because our goal is to determine how COVID-19 affects the Euro - USD exchange rate."
   ]
  },
  {
   "cell_type": "markdown",
   "id": "017baefc",
   "metadata": {},
   "source": [
    "<a id='data_cleaning'></a>\n",
    "# Data Cleaning"
   ]
  },
  {
   "cell_type": "markdown",
   "id": "83154f5f",
   "metadata": {},
   "source": [
    "## Renaming Columns"
   ]
  },
  {
   "cell_type": "markdown",
   "id": "4fcae6cb",
   "metadata": {},
   "source": [
    "The first thing we are going to do is renaming the columns `Period\\Unit:` and `[US dollar ]` to `Time` and `US_dollar`. And for the second step we are going to sort our dataset by time in ascending order."
   ]
  },
  {
   "cell_type": "code",
   "execution_count": 5,
   "id": "fe4ea2c7",
   "metadata": {},
   "outputs": [],
   "source": [
    "# Renaming columns `Period\\Unit:` and `[US dollar ]`\n",
    "exchange_rates.rename(columns={'[US dollar ]': 'US_dollar',\n",
    "                               'Period\\\\Unit:': 'Time'},\n",
    "                      inplace=True)\n",
    "# Sorting dataset by time in ascending order\n",
    "exchange_rates.sort_values('Time', inplace=True)\n",
    "# Resetting indexes\n",
    "exchange_rates.reset_index(drop=True, inplace=True)"
   ]
  },
  {
   "cell_type": "markdown",
   "id": "546c7c55",
   "metadata": {},
   "source": [
    "## Removing Redundant Columns"
   ]
  },
  {
   "cell_type": "markdown",
   "id": "e5e5b1cf",
   "metadata": {},
   "source": [
    "Now, we need to isolate `Time` and `US_dollar`."
   ]
  },
  {
   "cell_type": "code",
   "execution_count": 6,
   "id": "8ed5c8bd",
   "metadata": {},
   "outputs": [
    {
     "name": "stdout",
     "output_type": "stream",
     "text": [
      "            Time US_dollar\n",
      "0     1999-01-04    1.1789\n",
      "1     1999-01-05    1.1790\n",
      "2     1999-01-06    1.1743\n",
      "3     1999-01-07    1.1632\n",
      "4     1999-01-08    1.1659\n",
      "...          ...       ...\n",
      "6224  2023-01-23    1.0871\n",
      "6225  2023-01-24    1.0858\n",
      "6226  2023-01-25    1.0878\n",
      "6227  2023-01-26    1.0895\n",
      "6228  2023-01-27    1.0865\n",
      "\n",
      "[6229 rows x 2 columns]\n",
      "\n",
      "\n",
      "<class 'pandas.core.frame.DataFrame'>\n",
      "RangeIndex: 6229 entries, 0 to 6228\n",
      "Data columns (total 2 columns):\n",
      " #   Column     Non-Null Count  Dtype \n",
      "---  ------     --------------  ----- \n",
      " 0   Time       6229 non-null   object\n",
      " 1   US_dollar  6229 non-null   object\n",
      "dtypes: object(2)\n",
      "memory usage: 97.5+ KB\n",
      "None\n"
     ]
    }
   ],
   "source": [
    "# Isolating `Time` and `US_dollar` columns into `euro_to_dollar` dataframe\n",
    "euro_to_dollar = exchange_rates[['Time', 'US_dollar']]\n",
    "print(euro_to_dollar)\n",
    "print('\\n')\n",
    "print(euro_to_dollar.info())"
   ]
  },
  {
   "cell_type": "markdown",
   "id": "48a0a07a",
   "metadata": {},
   "source": [
    "Now we left only with two columns `Time` and `US_dollar`."
   ]
  },
  {
   "cell_type": "markdown",
   "id": "a8eea795",
   "metadata": {},
   "source": [
    "## Changing Columns Datatypes"
   ]
  },
  {
   "cell_type": "markdown",
   "id": "c2be2ca9",
   "metadata": {},
   "source": [
    "To start our analysis we need to do only one step. We need to change `Time` column `datatype` to `datetime`. We also need to change `US_dollar` column `datatype` to `float`."
   ]
  },
  {
   "cell_type": "code",
   "execution_count": 7,
   "id": "69e385d4",
   "metadata": {},
   "outputs": [
    {
     "name": "stdout",
     "output_type": "stream",
     "text": [
      "<class 'pandas.core.frame.DataFrame'>\n",
      "Index: 6167 entries, 0 to 6228\n",
      "Data columns (total 2 columns):\n",
      " #   Column     Non-Null Count  Dtype         \n",
      "---  ------     --------------  -----         \n",
      " 0   Time       6167 non-null   datetime64[ns]\n",
      " 1   US_dollar  6167 non-null   float64       \n",
      "dtypes: datetime64[ns](1), float64(1)\n",
      "memory usage: 144.5 KB\n",
      "None\n"
     ]
    }
   ],
   "source": [
    "# Dropping rows with '-' in `US_dollar` column and change it to `float` datatype\n",
    "euro_to_dollar = euro_to_dollar[euro_to_dollar['US_dollar'] != '-']\n",
    "euro_to_dollar['US_dollar'] = euro_to_dollar['US_dollar'].astype(float)\n",
    "# Replacing '-' to '/' in `Time` column and change it to `datetime` datatype\n",
    "euro_to_dollar['Time'] = euro_to_dollar['Time'].str.replace('-', '/')\n",
    "euro_to_dollar['Time'] = pd.to_datetime(euro_to_dollar['Time'])\n",
    "print(euro_to_dollar.info())"
   ]
  },
  {
   "cell_type": "markdown",
   "id": "83158efd",
   "metadata": {},
   "source": [
    "Now we are ready to start our analysis."
   ]
  },
  {
   "cell_type": "markdown",
   "id": "934c3750",
   "metadata": {},
   "source": [
    "<a id='analysis'></a>\n",
    "# Data Analysis & Visualization"
   ]
  },
  {
   "cell_type": "markdown",
   "id": "8d9a980f",
   "metadata": {},
   "source": [
    "## Exploring How COVID-19 Affects Euro - USD Exchange Rate"
   ]
  },
  {
   "cell_type": "markdown",
   "id": "8f2eb448",
   "metadata": {},
   "source": [
    "For our analysis we are going to use a period between 2017 and 2022."
   ]
  },
  {
   "cell_type": "code",
   "execution_count": 8,
   "id": "71437c6d",
   "metadata": {},
   "outputs": [],
   "source": [
    "# Dropping rows before 2017\n",
    "euro_to_dollar = euro_to_dollar.loc[euro_to_dollar['Time'] > '2017']\n",
    "# Dropping rows after the end of 2021\n",
    "euro_to_dollar = euro_to_dollar.loc[euro_to_dollar['Time'] < '2022']\n",
    "# Adding `rolling_mean` column into the `euro_to_dollar` dataframe\n",
    "euro_to_dollar['rolling_mean'] = euro_to_dollar['US_dollar'].rolling(30).mean()"
   ]
  },
  {
   "cell_type": "markdown",
   "id": "d099b75a",
   "metadata": {},
   "source": [
    "For the period before COVID-19, we will use the time from January 2017 to December 2019. For the COVID-19 period, we will use the time from December 2019 to the end of 2021."
   ]
  },
  {
   "cell_type": "code",
   "execution_count": 9,
   "id": "47482e27",
   "metadata": {},
   "outputs": [],
   "source": [
    "# Storing data from Dec. 2019 onward\n",
    "covid = euro_to_dollar[euro_to_dollar['Time'] > '2019-12']\n",
    "# Storing data before Dec. 2019\n",
    "non_covid = euro_to_dollar[euro_to_dollar['Time'] < '2019-12']\n",
    "periods = [covid, non_covid]"
   ]
  },
  {
   "cell_type": "markdown",
   "id": "b68e4dd1",
   "metadata": {},
   "source": [
    "Let's start by exploring lowest and highest Euro - USD exchange rates."
   ]
  },
  {
   "cell_type": "code",
   "execution_count": 10,
   "id": "d768a52d",
   "metadata": {},
   "outputs": [
    {
     "name": "stdout",
     "output_type": "stream",
     "text": [
      "Before COVID-19 the lowest exchange rate was 1.04. The highest exchange rate was 1.25.\n",
      "During COVID-19 the lowest exchange rate was 1.07. The highest exchange rate was 1.23.\n"
     ]
    }
   ],
   "source": [
    "# Storing lowest exchange rate before COVID-19 period\n",
    "non_covid_min = non_covid['US_dollar'].min()\n",
    "# Storing highest exchange rate before COVID-19 period\n",
    "non_covid_max = non_covid['US_dollar'].max()\n",
    "# Storing lowest exchange rate during COVID-19 period\n",
    "covid_min = covid['US_dollar'].min()\n",
    "# Storing highest exchange rate during COVID-19 period\n",
    "covid_max = covid['US_dollar'].max()\n",
    "print(f'Before COVID-19 the lowest exchange rate was {non_covid_min:.3}.', end=' ')\n",
    "print(f'The highest exchange rate was {non_covid_max:.3}.')\n",
    "print(f'During COVID-19 the lowest exchange rate was {covid_min:.3}.', end=' ')\n",
    "print(f'The highest exchange rate was {covid_max:.3}.')"
   ]
  },
  {
   "cell_type": "markdown",
   "id": "9312ec63",
   "metadata": {},
   "source": [
    "We can see that lowest exchange rate before COVID-19 was 1.04. The highest exchange rate before COVID-19 was 1.25. As for the period during COVID-19 lowest exchange rate was 1.07. As for the highest exchange rate during COVID-19 was 1.23. The rates were pretty close in these two periods. Let's look at the mean rates for these two periods."
   ]
  },
  {
   "cell_type": "code",
   "execution_count": 11,
   "id": "85e7f9fb",
   "metadata": {},
   "outputs": [
    {
     "name": "stdout",
     "output_type": "stream",
     "text": [
      "The mean exchange rate before COVID-19 was 1.14.\n",
      "The mean exchange rate during COVID-19 was 1.16.\n"
     ]
    }
   ],
   "source": [
    "# Storing mean exchange rate value during non COVID-19 period and round it to 2 decimal\n",
    "non_covid_mean = round(non_covid['US_dollar'].mean(), 2)\n",
    "# Storing mean exchange rate value during COVID-19 period and round it to 2 decimal\n",
    "covid_mean = round(covid['US_dollar'].mean(), 2)\n",
    "print(f'The mean exchange rate before COVID-19 was {non_covid_mean}.')\n",
    "print(f'The mean exchange rate during COVID-19 was {covid_mean}.')"
   ]
  },
  {
   "cell_type": "markdown",
   "id": "1aae348d",
   "metadata": {},
   "source": [
    "Look's like the mean values are pretty close. Before COVID-19 mean exchange rate was about 1.14. During COVID-19 mean exchange rate was about 1.16. By the look at these rates we can say that COVID-19 make almost no impact on the Euro - USD exchange rate. To make sure that this statement is true, let's take a look at the graph below."
   ]
  },
  {
   "cell_type": "code",
   "execution_count": 12,
   "id": "0bc7d237",
   "metadata": {},
   "outputs": [
    {
     "data": {
      "image/png": "[encoded data removed]",
      "text/plain": [
       "<Figure size 640x480 with 1 Axes>"
      ]
     },
     "metadata": {},
     "output_type": "display_data"
    }
   ],
   "source": [
    "# Applying 'FiveThirtyEight' matplotlib style\n",
    "style.use('fivethirtyeight')\n",
    "\n",
    "# Creating subplot with one Axes\n",
    "fig, ax1 = plt.subplots()\n",
    "# Adding two line plots to the subplot using `Time` as x-axis and `rolling_mean` as y-axis\n",
    "ax1.plot(covid['Time'],\n",
    "         covid['rolling_mean'],\n",
    "         color='red')\n",
    "ax1.plot(non_covid['Time'],\n",
    "         non_covid['rolling_mean'])\n",
    "\n",
    "# Turning off the grid\n",
    "ax1.grid(visible=False)\n",
    "\n",
    "# Adding Title and Subtitle\n",
    "ax1.text(16850, 1.26, 'Euro-USD rate peaked at 1.22 during COVID-19',\n",
    "         size=17, weight='bold')\n",
    "ax1.text(16850, 1.247, 'Euro-USD rate during COVID-19 almost as high as during 2017-2019 period',\n",
    "         size=13)\n",
    "\n",
    "# Adding year labels on the x-axis\n",
    "ax1.set_xticklabels([])\n",
    "xcoords = [17080, 17440, 17810, 18180, 18550, 18920]\n",
    "for xcoord, year in zip(xcoords, range(2017, 2023)):\n",
    "    ax1.text(xcoord, 1.035, year,\n",
    "             color='grey', alpha=0.5)\n",
    "\n",
    "# Adding exchange rate labels on the y-axis\n",
    "ax1.set_yticklabels([])    \n",
    "ax1.text(16840, 1.2, '1.2',\n",
    "         color='grey', alpha=0.5)\n",
    "ax1.text(16840, 1.1, '1.1',\n",
    "         color='grey', alpha=0.5)\n",
    "\n",
    "# Adding a horizontal line to guide the audience's attention on the COVID-19 exchange rate peak\n",
    "ax1.axvline(18720, alpha=0.1, color='black',\n",
    "            linewidth=60, ymax=0.9, ymin=0.1)\n",
    "\n",
    "# Adding watermark with creator name and source\n",
    "ax1.text(16853, 1.015, '©feelingcxld' + ' ' * 40 + 'Source: European Central Bank',\n",
    "         backgroundcolor='#353739', color='#f3f6f4')\n",
    "plt.show()"
   ]
  },
  {
   "cell_type": "markdown",
   "id": "66070b4b",
   "metadata": {},
   "source": [
    "The shapes are pretty same. We can see the peak before and during COVID-19 and they are almost on the same level. "
   ]
  },
  {
   "cell_type": "markdown",
   "id": "0bc7ba8f",
   "metadata": {},
   "source": [
    "<a id='conclusion'></a>\n",
    "# Conclusion\n",
    "\n",
    "Our goal in this project was to determine how COVID-19 affects Euro - USD exchange rate. To achieve our goal we took a period between 2017 and 2022. Then we separated this data into two periods. The pre-COVID-19 period and the COVID-19 period. For the final step, we visualized exchange rate for these periods on the line chart.\n",
    "\n",
    "At the end of this project, we know that the Euro - USD exchange rate changed by about 10% during COVID-19.  The exchange rate started around 1.1 and soared to 1.23, which is a rise of about 10%."
   ]
  }
 ],
 "metadata": {
  "kernelspec": {
   "display_name": "Python 3 (ipykernel)",
   "language": "python",
   "name": "python3"
  },
  "language_info": {
   "codemirror_mode": {
    "name": "ipython",
    "version": 3
   },
   "file_extension": ".py",
   "mimetype": "text/x-python",
   "name": "python",
   "nbconvert_exporter": "python",
   "pygments_lexer": "ipython3",
   "version": "3.11.5"
  }
 },
 "nbformat": 4,
 "nbformat_minor": 5
}
